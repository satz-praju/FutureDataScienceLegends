{
 "cells": [
  {
   "cell_type": "code",
   "execution_count": 1,
   "id": "363aa8cc-54c1-4fa0-99f9-e78b9c50afc9",
   "metadata": {},
   "outputs": [],
   "source": [
    "import os\n",
    "from dotenv import load_dotenv, find_dotenv"
   ]
  },
  {
   "cell_type": "code",
   "execution_count": 2,
   "id": "7e9d47b9-267a-4478-a180-d93cce7e0399",
   "metadata": {},
   "outputs": [],
   "source": [
    "load_dotenv(find_dotenv(), override=True)\n",
    "key = os.environ.get('OPENAI_API_KEY')"
   ]
  },
  {
   "cell_type": "code",
   "execution_count": 3,
   "id": "5b8568d5-03bc-4ee2-8d1c-dfd1b7882784",
   "metadata": {},
   "outputs": [],
   "source": [
    "from langchain_openai import ChatOpenAI\n",
    "llm = ChatOpenAI()"
   ]
  },
  {
   "cell_type": "code",
   "execution_count": 4,
   "id": "bae6baac-14af-42a0-903d-dba4a83d21c5",
   "metadata": {},
   "outputs": [],
   "source": [
    "output = llm.invoke(\"Explain the Newtons third law of motion in one sentence\", model = 'gpt-3.5-turbo')"
   ]
  },
  {
   "cell_type": "code",
   "execution_count": 5,
   "id": "ca77887e-dcfb-4366-b506-2168d75b4fb5",
   "metadata": {},
   "outputs": [
    {
     "data": {
      "text/plain": [
       "AIMessage(content='For every action, there is an equal and opposite reaction.', response_metadata={'token_usage': {'completion_tokens': 12, 'prompt_tokens': 19, 'total_tokens': 31}, 'model_name': 'gpt-3.5-turbo', 'system_fingerprint': None, 'finish_reason': 'stop', 'logprobs': None}, id='run-8b5b0ba5-0af5-4880-85c9-5fed4b25e4a3-0')"
      ]
     },
     "execution_count": 5,
     "metadata": {},
     "output_type": "execute_result"
    }
   ],
   "source": [
    "output"
   ]
  },
  {
   "cell_type": "code",
   "execution_count": 6,
   "id": "985da2e2-88f9-414a-9c5c-6658aeda2fed",
   "metadata": {},
   "outputs": [
    {
     "name": "stdout",
     "output_type": "stream",
     "text": [
      "Quantenmechanik ist das physikalische Modell zur Beschreibung des Verhaltens von Teilchen auf atomarer und subatomarer Ebene, das auf Wahrscheinlichkeiten und Superpositionen basiert.\n"
     ]
    }
   ],
   "source": [
    "# using Chat Completions API Messages: System, Assistant and Human\n",
    "\n",
    "from langchain.schema import(\n",
    "    SystemMessage, \n",
    "    AIMessage,\n",
    "    HumanMessage\n",
    ")\n",
    "messages = [\n",
    "    SystemMessage(content='You are a physicist and respond only in German.'),\n",
    "    HumanMessage(content='Explain quantum mechanics in one sentence.')\n",
    "]\n",
    "\n",
    "output = llm.invoke(messages)\n",
    "print(output.content)"
   ]
  },
  {
   "cell_type": "code",
   "execution_count": 7,
   "id": "d9877e9f-4596-4e9e-8592-2ac4e5d223d0",
   "metadata": {},
   "outputs": [
    {
     "name": "stdout",
     "output_type": "stream",
     "text": [
      "The answer to 5.1 raised to the power of 7.3 is approximately 2335.59.\n"
     ]
    }
   ],
   "source": [
    "# using Chat Completions API Messages: System, Assistant and Human\n",
    "\n",
    "from langchain.schema import(\n",
    "    SystemMessage, \n",
    "    AIMessage,\n",
    "    HumanMessage\n",
    ")\n",
    "messages = [\n",
    "    SystemMessage(content='You are a Mathematician and respond with correct answer.'),\n",
    "    HumanMessage(content='what is the answer to 5.1 ** 7.3?')\n",
    "]\n",
    "\n",
    "output = llm.invoke(messages)\n",
    "print(output.content)"
   ]
  },
  {
   "cell_type": "code",
   "execution_count": 9,
   "id": "a1fdcfc2-d0ee-4c69-824f-ef07e95edec1",
   "metadata": {},
   "outputs": [
    {
     "name": "stdout",
     "output_type": "stream",
     "text": [
      "\n",
      "\n",
      "\u001b[1m> Entering new AgentExecutor chain...\u001b[0m\n"
     ]
    },
    {
     "name": "stderr",
     "output_type": "stream",
     "text": [
      "Python REPL can execute arbitrary code. Use with caution.\n"
     ]
    },
    {
     "name": "stdout",
     "output_type": "stream",
     "text": [
      "\u001b[32;1m\u001b[1;3mI need to calculate 5.1 raised to the power of 7.3 to get the answer.\n",
      "Action: Python_REPL\n",
      "Action Input: print(5.1 ** 7.3)\u001b[0m\n",
      "Observation: \u001b[36;1m\u001b[1;3m146306.05007233328\n",
      "\u001b[0m\n",
      "Thought:\u001b[32;1m\u001b[1;3mI now know the final answer\n",
      "Final Answer: 146306.05007233328\u001b[0m\n",
      "\n",
      "\u001b[1m> Finished chain.\u001b[0m\n"
     ]
    },
    {
     "data": {
      "text/plain": [
       "{'input': 'what is the answer to 5.1 ** 7.3?', 'output': '146306.05007233328'}"
      ]
     },
     "execution_count": 9,
     "metadata": {},
     "output_type": "execute_result"
    }
   ],
   "source": [
    "from langchain_experimental.agents.agent_toolkits import create_python_agent\n",
    "from langchain_experimental.tools.python.tool import PythonREPLTool\n",
    "from langchain_openai import ChatOpenAI\n",
    "\n",
    "# Initialize the ChatOpenAI model with gpt-4-turbo and a temperature of 0\n",
    "llm = ChatOpenAI(model='gpt-4-turbo-preview', temperature=0)\n",
    "\n",
    "# Create a Python agent using the ChatOpenAI model and a PythonREPLTool\n",
    "agent_executor = create_python_agent(\n",
    "    llm=llm,\n",
    "    tool=PythonREPLTool(),\n",
    "    verbose=True\n",
    ")\n",
    "\n",
    "# Invoke the agent\n",
    "prompt = 'what is the answer to 5.1 ** 7.3?'\n",
    "agent_executor.invoke(prompt)"
   ]
  },
  {
   "cell_type": "code",
   "execution_count": 8,
   "id": "78deaa25-29e5-4b87-ad7a-7bd78ba2ae6d",
   "metadata": {},
   "outputs": [
    {
     "data": {
      "text/plain": [
       "146306.05007233328"
      ]
     },
     "execution_count": 8,
     "metadata": {},
     "output_type": "execute_result"
    }
   ],
   "source": [
    "5.1 ** 7.3"
   ]
  },
  {
   "cell_type": "code",
   "execution_count": 11,
   "id": "3873c757-bf94-401a-9d00-dced65f4136c",
   "metadata": {},
   "outputs": [
    {
     "name": "stdout",
     "output_type": "stream",
     "text": [
      "\n",
      "\u001b[1m[\u001b[0m\u001b[34;49mnotice\u001b[0m\u001b[1;39;49m]\u001b[0m\u001b[39;49m A new release of pip is available: \u001b[0m\u001b[31;49m24.0\u001b[0m\u001b[39;49m -> \u001b[0m\u001b[32;49m24.1\u001b[0m\n",
      "\u001b[1m[\u001b[0m\u001b[34;49mnotice\u001b[0m\u001b[1;39;49m]\u001b[0m\u001b[39;49m To update, run: \u001b[0m\u001b[32;49mpython3.11 -m pip install --upgrade pip\u001b[0m\n",
      "Note: you may need to restart the kernel to use updated packages.\n"
     ]
    }
   ],
   "source": [
    "%pip install --upgrade --quiet  duckduckgo-search"
   ]
  },
  {
   "cell_type": "code",
   "execution_count": 12,
   "id": "c6c75e55-15a9-4869-ad7a-9ba52e9bc2bc",
   "metadata": {},
   "outputs": [
    {
     "name": "stdout",
     "output_type": "stream",
     "text": [
      "Name: duckduckgo_search\n",
      "Version: 6.1.7\n",
      "Summary: Search for words, documents, images, news, maps and text translation using the DuckDuckGo.com search engine.\n",
      "Home-page: \n",
      "Author: deedy5\n",
      "Author-email: \n",
      "License: MIT License\n",
      "Location: /opt/homebrew/lib/python3.11/site-packages\n",
      "Requires: click, orjson, pyreqwest-impersonate\n",
      "Required-by: \n",
      "Note: you may need to restart the kernel to use updated packages.\n"
     ]
    }
   ],
   "source": [
    "pip show duckduckgo-search"
   ]
  },
  {
   "cell_type": "code",
   "execution_count": 13,
   "id": "f2f92615-4d4c-4cff-9c3c-7a3d57c998f7",
   "metadata": {},
   "outputs": [
    {
     "name": "stdout",
     "output_type": "stream",
     "text": [
      "Freddie Mercury (born September 5, 1946, Stone Town, Zanzibar [now in Tanzania]—died November 24, 1991, Kensington, London, England) was a British rock singer and songwriter whose flamboyant showmanship and powerfully agile vocals, most famously for the band Queen, made him one of rock's most dynamic front men.. Bulsara was born to Parsi parents who had emigrated from India to Zanzibar ... Freddie Mercury was born Farrokh Bulsara in Stone Town in the British protectorate of the Sultanate of Zanzibar, East Africa (now part of Tanzania) on September 5, 1946. When did he get his start in music? Freddie Mercury began his musical career in the late 1960s. He formed his first band, The Hectics, while attending St. Peter's School in ... Born September 5, 1946, in Stone Town, Zanzibar — now Tanzania — Farrokh Bulsara spent his childhood between Zanzibar and India before immigrating to Middlesex, England, as a teen refugee. He began going by Freddie while in boarding school, eventually changing his name legally to Freddie Mercury after forming the band Queen in 1970. But there are many lesser-known Freddie Mercury facts that reveal hidden depths to the life and work of the man born Farrokh Bulsara in Zanzibar, on September 5, 1946. Freddie Mercury was born Farrokh Bulsara in Stone Town, in the British protectorate of Zanzibar (now part of Tanzania), on September 5, 1946. His first big challenge was to come to terms with ...\n"
     ]
    }
   ],
   "source": [
    "from langchain.tools import DuckDuckGoSearchRun\n",
    "\n",
    "search = DuckDuckGoSearchRun()\n",
    "output = search.invoke('Where was Freddie Mercury born?')\n",
    "print(output)"
   ]
  },
  {
   "cell_type": "code",
   "execution_count": 14,
   "id": "6e582297-5fe3-41ee-b9be-8b2e565ab647",
   "metadata": {},
   "outputs": [
    {
     "data": {
      "text/plain": [
       "'duckduckgo_search'"
      ]
     },
     "execution_count": 14,
     "metadata": {},
     "output_type": "execute_result"
    }
   ],
   "source": [
    "search.name"
   ]
  },
  {
   "cell_type": "code",
   "execution_count": 15,
   "id": "35f356e6-59f3-47a9-b6ee-d315ce38eac3",
   "metadata": {},
   "outputs": [
    {
     "data": {
      "text/plain": [
       "'A wrapper around DuckDuckGo Search. Useful for when you need to answer questions about current events. Input should be a search query.'"
      ]
     },
     "execution_count": 15,
     "metadata": {},
     "output_type": "execute_result"
    }
   ],
   "source": [
    "search.description"
   ]
  },
  {
   "cell_type": "code",
   "execution_count": 16,
   "id": "8975389b-05dc-4a5e-a6a1-9a4f88c7141c",
   "metadata": {},
   "outputs": [
    {
     "name": "stdout",
     "output_type": "stream",
     "text": [
      "[snippet: Freddie Mercury (born September 5, 1946, Stone Town, Zanzibar [now in Tanzania]—died November 24, 1991, Kensington, London, England) was a British rock singer and songwriter whose flamboyant showmanship and powerfully agile vocals, most famously for the band Queen, made him one of rock's most dynamic front men.. Bulsara was born to Parsi parents who had emigrated from India to Zanzibar ..., title: Freddie Mercury | Biography, Parents, Songs, & Facts, link: https://www.britannica.com/biography/Freddie-Mercury], [snippet: Freddie Mercury was born Farrokh Bulsara in Stone Town in the British protectorate of the Sultanate of Zanzibar, East Africa (now part of Tanzania) on September 5, 1946. When did he get his start in music? Freddie Mercury began his musical career in the late 1960s. He formed his first band, The Hectics, while attending St. Peter's School in ..., title: Freddie Mercury facts: Queen singer's career, family, real name ..., link: https://www.smoothradio.com/artists/freddie-mercury/facts-death-teeth-songs-age-net-worth/], [snippet: Freddie Mercury was born on September 5, 1946. Freddie Mercury, whose real name was Farrokh Bulsara, was born in Zanzibar, Tanzania. He later became the lead vocalist of the legendary rock band Queen. Freddie Mercury had a four-octave vocal range., title: 38 Facts about Freddie Mercury - Facts.net, link: https://facts.net/celebrity/38-facts-about-freddie-mercury/], [snippet: Freddie Mercury was born Farrokh Bulsara in Stone Town, in the British protectorate of Zanzibar (now part of Tanzania), on September 5, 1946. His first big challenge was to come to terms with ..., title: Made In Heaven: How Freddie Mercury Became A Rock Icon, link: https://www.udiscovermusic.com/stories/how-freddie-mercury-became-an-icon/]\n"
     ]
    }
   ],
   "source": [
    "from langchain.tools import DuckDuckGoSearchResults\n",
    "\n",
    "search = DuckDuckGoSearchResults()\n",
    "output = search.invoke('Where was Freddie Mercury born?')\n",
    "print(output)"
   ]
  },
  {
   "cell_type": "code",
   "execution_count": 17,
   "id": "fd3d7070-0c65-4992-b6a5-2d10354e33dc",
   "metadata": {},
   "outputs": [],
   "source": [
    "from langchain_community.utilities import DuckDuckGoSearchAPIWrapper\n",
    "\n",
    "wrapper = DuckDuckGoSearchAPIWrapper(region='de-de', max_results=3, safesearch='moderate')\n",
    "search = DuckDuckGoSearchResults(api_wrapper=wrapper, source='news')\n",
    "output = search.run('Berlin')"
   ]
  },
  {
   "cell_type": "code",
   "execution_count": 18,
   "id": "56fe4ebd-573e-4cf4-b599-b01fa11d8dfe",
   "metadata": {},
   "outputs": [
    {
     "data": {
      "text/plain": [
       "\"[snippet: Berlin [bɛr'li:n] ist die Hauptstadt und ein Land der Bundesrepublik Deutschland. Die Großstadt ist mit rund 3,8 Millionen Einwohnern die bevölkerungsreichste und mit 892 Quadratkilometern die flächengrößte Gemeinde Deutschlands sowie die bevölkerungsreichste Stadt der Europäischen Union., title: Berlin - Wikipedia, link: https://de.wikipedia.org/wiki/Berlin], [snippet: Berlin in 7 Tagen - Die besten Berlin Sehenswürdigkeiten, Tipps, Highlights, Geheimtipps und Empfehlungen zu Hotels und Restaurants., title: Berlin Sehenswürdigkeiten: Die 41 schönsten Orte | in 3 - 7 Tagen, link: https://wetraveltheworld.de/berlin-sehenswuerdigkeiten/], [snippet: Die Dichte der Sehenswürdigkeiten in Berlin-Mitte ist erschlagend. Perfekt für sattelfeste Stadt-Entdecker: Backsteinhäuser und Plattenbauten im Nikolaiviertel, grüne Spielwiese im Großen Tiergarten, Großstadt-Atmosphäre am Potsdamer Platz oder gleich der Ortsteil Wedding als Gesamtkunstwerk., title: Berlin Sehenswürdigkeiten: Top-25-Liste mit Tipps & Bezirken, link: https://www.voucherwonderland.com/reisemagazin/top-20-sehenswuerdigkeiten-in-berlin/], [snippet: Sie wollen heute ausgehen in Berlin und können sich bei der Vielfalt an Veranstaltungen nicht entscheiden? Die Redaktion gibt hier die besten Veranstaltungstipps für heute aus ausgewählten Kategorien: Events, Kunstausstellungen, Musical- und Konzert-Highlights, Kinderveranstaltungen, Theateraufführungen, Comedy, Kabarett und ..., title: Tagestipps: Heute in Berlin - Berlin.de, link: https://www.berlin.de/tickets/heute/]\""
      ]
     },
     "execution_count": 18,
     "metadata": {},
     "output_type": "execute_result"
    }
   ],
   "source": [
    "output"
   ]
  },
  {
   "cell_type": "code",
   "execution_count": 19,
   "id": "04ccb543-7bcd-4eef-8391-f112a97e6e97",
   "metadata": {},
   "outputs": [
    {
     "name": "stdout",
     "output_type": "stream",
     "text": [
      "Snippet: Berlin [bɛr'li:n] ist die Hauptstadt und ein Land der Bundesrepublik Deutschland. Die Großstadt ist mit rund 3,8 Millionen Einwohnern die bevölkerungsreichste und mit 892 Quadratkilometern die flächengrößte Gemeinde Deutschlands sowie die bevölkerungsreichste Stadt der Europäischen Union.\n",
      "Title: Berlin - Wikipedia\n",
      "Link: https://de.wikipedia.org/wiki/Berlin\n",
      "\n",
      "--------------------------------------------------\n",
      "Snippet: Berlin in 7 Tagen - Die besten Berlin Sehenswürdigkeiten, Tipps, Highlights, Geheimtipps und Empfehlungen zu Hotels und Restaurants.\n",
      "Title: Berlin Sehenswürdigkeiten: Die 41 schönsten Orte | in 3 - 7 Tagen\n",
      "Link: https://wetraveltheworld.de/berlin-sehenswuerdigkeiten/\n",
      "\n",
      "--------------------------------------------------\n",
      "Snippet: Die Dichte der Sehenswürdigkeiten in Berlin-Mitte ist erschlagend. Perfekt für sattelfeste Stadt-Entdecker: Backsteinhäuser und Plattenbauten im Nikolaiviertel, grüne Spielwiese im Großen Tiergarten, Großstadt-Atmosphäre am Potsdamer Platz oder gleich der Ortsteil Wedding als Gesamtkunstwerk.\n",
      "Title: Berlin Sehenswürdigkeiten: Top-25-Liste mit Tipps & Bezirken\n",
      "Link: https://www.voucherwonderland.com/reisemagazin/top-20-sehenswuerdigkeiten-in-berlin/\n",
      "\n",
      "--------------------------------------------------\n"
     ]
    }
   ],
   "source": [
    "import re\n",
    "pattern = r'snippet: (.*?), title: (.*?), link: (.*?)\\],'\n",
    "matches = re.findall(pattern, output, re.DOTALL)\n",
    "\n",
    "for snippet, title, link in matches:\n",
    "    print(f'Snippet: {snippet}\\nTitle: {title}\\nLink: {link}\\n')\n",
    "    print('-' * 50)"
   ]
  },
  {
   "cell_type": "code",
   "execution_count": null,
   "id": "d5d41f55-14b1-431b-a951-89748e49a9ec",
   "metadata": {},
   "outputs": [],
   "source": []
  },
  {
   "cell_type": "code",
   "execution_count": 20,
   "id": "e184f938-d26b-445d-b239-9d32c67cf231",
   "metadata": {},
   "outputs": [
    {
     "name": "stdout",
     "output_type": "stream",
     "text": [
      "\n",
      "\u001b[1m[\u001b[0m\u001b[34;49mnotice\u001b[0m\u001b[1;39;49m]\u001b[0m\u001b[39;49m A new release of pip is available: \u001b[0m\u001b[31;49m24.0\u001b[0m\u001b[39;49m -> \u001b[0m\u001b[32;49m24.1\u001b[0m\n",
      "\u001b[1m[\u001b[0m\u001b[34;49mnotice\u001b[0m\u001b[1;39;49m]\u001b[0m\u001b[39;49m To update, run: \u001b[0m\u001b[32;49mpython3.11 -m pip install --upgrade pip\u001b[0m\n",
      "Note: you may need to restart the kernel to use updated packages.\n"
     ]
    }
   ],
   "source": [
    "pip install -q wikipedia"
   ]
  },
  {
   "cell_type": "code",
   "execution_count": 21,
   "id": "7da9c301-7084-42b0-ac97-dc2c134e2178",
   "metadata": {},
   "outputs": [],
   "source": [
    "from langchain_community.tools import WikipediaQueryRun\n",
    "from langchain_community.utilities import WikipediaAPIWrapper"
   ]
  },
  {
   "cell_type": "code",
   "execution_count": 22,
   "id": "87e51067-45e7-4dd7-99dc-0cda80bb03f2",
   "metadata": {},
   "outputs": [
    {
     "data": {
      "text/plain": [
       "'Page: Vector database\\nSummary: A vector database, vector store or vector search engine is a database that can store vectors (fixed-length lists of numbers) along with other data items. Vector databases typically implement one or more Approximate Nearest Neighbor (ANN) algorithms, so that one can search the database with a query vector to retrieve the closest matching database records.\\nVectors are mathematical representations of data in a high-dimensional space. In this space, each dimension corresponds to a feature of the data, with the number of dimensions ranging from a few hundred to tens of thousands, depending on the complexity of the data being represented. A vector\\'s position in this space represents its characteristics. Words, phrases, or entire documents, as well as images, audio, and other types of data, can all be vectorized.\\nThese feature vectors may be computed from the raw data using machine learning methods such as feature extraction algorithms, word embeddings or deep learning networks. The goal is that semantically similar data items receive feature vectors close to each other.\\nVector databases can be used for similarity search, multi-modal search, recommendations engines, large language models (LLMs), etc.\\nVector databases are also often used to implement Retrieval-Augmented Generation (RAG), a method to improve domain-specific responses of large language models. The retrieval component of a RAG can be any search system, but is most often implemented as a vector database. Text documents describing the domain of interest are collected, and for each document or document section, a feature vector (known as an \"embedding\") is computed, typically using a deep learning network, and stored in a vector database. Given a user prompt, the feature vector of the prompt is computed, and the database is queried to retrieve the most relevant documents. These are then automatically added into the context window of the large language model, and the large language model proceeds to create a response to the prompt given this context.'"
      ]
     },
     "execution_count": 22,
     "metadata": {},
     "output_type": "execute_result"
    }
   ],
   "source": [
    "api_wrapper = WikipediaAPIWrapper(top_k_results=1, doc_content_chars_max=10000)\n",
    "wiki = WikipediaQueryRun(api_wrapper=api_wrapper)\n",
    "wiki.invoke({'query': 'llamaindex'})"
   ]
  },
  {
   "cell_type": "code",
   "execution_count": 23,
   "id": "e83c79b2-4f80-4496-85d2-3a6ca1f5bbee",
   "metadata": {},
   "outputs": [],
   "source": [
    "output = wiki.invoke('Google Gemini')"
   ]
  },
  {
   "cell_type": "code",
   "execution_count": 24,
   "id": "e1ac45e9-4191-477f-9e93-8ee857a450af",
   "metadata": {},
   "outputs": [
    {
     "name": "stdout",
     "output_type": "stream",
     "text": [
      "Page: Gemini (chatbot)\n",
      "Summary: Gemini, formerly known as Bard, is a generative artificial intelligence chatbot developed by Google. Based on the large language model (LLM) of the same name and developed as a direct response to the meteoric rise of OpenAI's ChatGPT, it was launched in a limited capacity in March 2023 before expanding to other countries in May. It was previously based on PaLM, and initially the LaMDA family of large language models.\n",
      "LaMDA had been developed and announced in 2021, but it was not released to the public out of an abundance of caution. OpenAI's launch of ChatGPT in November 2022 and its subsequent popularity caught Google executives off-guard and sent them into a panic, prompting a sweeping response in the ensuing months. After mobilizing its workforce, the company launched Bard in February 2023, which took center stage during the 2023 Google I/O keynote in May and was upgraded to the Gemini LLM in December. Bard and Duet AI were unified under the Gemini brand in February 2024, coinciding with the launch of an Android app.\n",
      "Gemini has received lukewarm responses. It became the center of controversy in February 2024, when social media users reported that it was generating historically inaccurate images of historical figures as people of color, with conservative commentators decrying its alleged bias as \"wokeness\".\n"
     ]
    }
   ],
   "source": [
    "print(output)"
   ]
  },
  {
   "cell_type": "code",
   "execution_count": null,
   "id": "146ba943-12b5-4ba9-90f9-99f6d7f932ef",
   "metadata": {},
   "outputs": [],
   "source": []
  },
  {
   "cell_type": "code",
   "execution_count": null,
   "id": "b8b681ec-e838-4c00-a07a-5fed55ec4fb7",
   "metadata": {},
   "outputs": [],
   "source": []
  },
  {
   "cell_type": "code",
   "execution_count": 27,
   "id": "8fb5b211-1121-48c0-b8b3-3476846fabe4",
   "metadata": {},
   "outputs": [],
   "source": [
    "from langchain import hub\n",
    "from langchain.agents import AgentExecutor, create_react_agent\n",
    "from langchain_community.tools.tavily_search import TavilySearchResults\n",
    "from langchain_openai import OpenAI, ChatOpenAI\n"
   ]
  },
  {
   "cell_type": "code",
   "execution_count": 28,
   "id": "19e18ad9-b18a-4812-851f-49e63dc8ef4c",
   "metadata": {},
   "outputs": [],
   "source": [
    "tools = [TavilySearchResults(max_results=3)]\n",
    "tools = "
   ]
  },
  {
   "cell_type": "code",
   "execution_count": 29,
   "id": "5f2bf8cd-ab9d-48f7-882d-760f248347ae",
   "metadata": {},
   "outputs": [],
   "source": [
    "# Get the prompt to use - you can modify this!\n",
    "prompt = hub.pull(\"hwchase17/react\")"
   ]
  },
  {
   "cell_type": "code",
   "execution_count": 30,
   "id": "5e601e85-25c2-4f03-826a-fd0009503775",
   "metadata": {},
   "outputs": [],
   "source": [
    "# Choose the LLM to use\n",
    "llm = ChatOpenAI(model = 'gpt-4-turbo-preview')\n",
    "\n",
    "# Construct the ReAct agent\n",
    "agent = create_react_agent(llm, tools, prompt)"
   ]
  },
  {
   "cell_type": "code",
   "execution_count": 31,
   "id": "932e8471-a028-44f7-b52e-1eb4480a74ad",
   "metadata": {},
   "outputs": [],
   "source": [
    "# Create an agent executor by passing in the agent and tools\n",
    "agent_executor = AgentExecutor(agent=agent, tools=tools, verbose=True)"
   ]
  },
  {
   "cell_type": "code",
   "execution_count": 32,
   "id": "1ef669e1-9358-49fb-bbdf-2bd178175516",
   "metadata": {},
   "outputs": [
    {
     "name": "stdout",
     "output_type": "stream",
     "text": [
      "\n",
      "\n",
      "\u001b[1m> Entering new AgentExecutor chain...\u001b[0m\n",
      "\u001b[32;1m\u001b[1;3mI need to find out the current Chief Minister of Andhra Pradesh, as this information might have changed recently due to elections or other political developments.\n",
      "Action: tavily_search_results_json\n",
      "Action Input: current Chief Minister of Andhra Pradesh 2023\u001b[0m\u001b[36;1m\u001b[1;3m[{'url': 'https://en.wikipedia.org/wiki/List_of_chief_ministers_of_Andhra_Pradesh', 'content': 'Concurrently, the integration of Telugu-speaking regions into Andhra State laid the foundation for the vibrant state of Andhra Pradesh with a bicameral parliamentary system consisting of Legislative Council and Legislative Assembly chambers.[7][8]\\nOriginally situated in Hyderabad, the capital later moved to Amaravati in 2017 following the implementation of the Andhra Pradesh Reorganisation Act, which led to the formation of Telangana on 2 June 2014 and a reduction in the assembly constituencies from 294 to 175. The newly created Andhra State included 11 districts in the Telugu-speaking region of the Madras State, with Kurnool as its capital and a unicameral parliamentary system with a Legislative Assembly chamber.[2][3][4][5]\\nAndhra Pradesh (since 1956)[edit]\\nThe Andhra Pradesh, colloquially referred to as United Andhra Pradesh, was officially established on 1 November 1956, through the enactment of the States Reorganisation Act in August 1956. Contents\\nList of chief ministers of Andhra Pradesh\\nThe chief minister of Andhra Pradesh is the chief executive of the Indian state of Andhra Pradesh. List of chief ministers[edit]\\nAndhra State (1953–1956)[edit]\\nThe Andhra State, a precursor to the modern state of Andhra Pradesh, was established on 1 October 1953, following the Andhra movement. Later Neelam Sanjeeva Reddy went on to become the President of India, while P. V. Narasimha Rao, also from the INC and previously the fourth chief minister of Andhra Pradesh went on to serve as the Prime Minister of India.'}, {'url': 'https://economictimes.indiatimes.com/news/politics-and-nation/chandrababu-naidu-sworn-in-as-new-andhra-cm-here-is-full-list-of-ap-ministers/articleshow/110937106.cms', 'content': \"Chandrababu Naidu Ministry: Chandrababu Naidu was sworn in as Andhra Pradesh's 18th chief minister, with Prime Minister Modi and other leaders in attendance. Naidu leads the TDP-BJP-Janasena alliance, which won a majority in the assembly. His cabinet includes 21 TDP members, three from Janasena, and one from the BJP. Janasena's Pawan Kalyan also took oath as a minister.\"}, {'url': 'https://en.wikipedia.org/wiki/Y._S._Jagan_Mohan_Reddy', 'content': 'The Andhra Pradesh High Court in a March 2022 ruling directed the Government of Andhra Pradesh to continue developing Amaravati and adjudicated that the government \"lacked the competence to make any legislation for shifting, bifurcating or trifurcating the capital\".[38]\\nAs of April 2023, it was reported by the Association for Democratic Reforms that he was the richest Chief Minister in India, with a total assets of 510 crore.[39][40][41]\\nEmbezzlement charges\\nOn 27 May 2012, Reddy was arrested by the Central Bureau of Investigation (CBI) on embezzlement charges. Jagan Mohan Reddy started his political career in the Indian National Congress and was elected as the Member of Parliament of Kadapa in 2009.[6]\\nAfter his father\\'s death due to helicopter crash in 2009, he started Odarpu Yatra (a consoling tour) across the state.[7] He then eventually came out of the Congress Party and established his own party, YSR Congress Party which also matches his father\\'s acronym, YSR.[8]\\n Five years later, in 2019 Andhra Pradesh Legislative Assembly elections, he led the party to a landslide victory in the state elections by winning 151 seats of the total 175 assembly segments.[10]\\nEarly life\\nJagan Mohan Reddy was born in Christian Reddy family in Jammalamadugu in Kadapa district of Andhra Pradesh to Y. S. Rajasekhara Reddy and Y. S. Vijayamma.[11][12] The Telugu Desam Party vote share went up to 47% and the 2% gap led to the defeat of YSRCP.[26]\\nAs a leader of the Opposition in Assembly and YSR Congress Party\\'s president, Reddy launched his 3,000-km-long walkathon named Praja Sankalpa Yatra, popularly called padayatra, on 6 November 2017 at Idupulapaya in Kadapa district.[28][29] YSR Congress party coined a slogan \"Raavali Jagan, Kaavali Jagan\" (transl.\\u2009 The Supreme Court of India dismissed his Bail petition on 4 July 2012,[46][47] 9 August 2012, 7 November 2012,[48] 9 May 2013,[49] 13 May 2013.[50][51]\\nThe YSR Congress Party and Reddy\\'s family have been alleging a political conspiracy behind Reddy\\'s investigations.[52][53] While in jail, Reddy started a hunger strike opposing the United Progressive Alliance\\'s decision to endorse the creation of a separate Telangana state.'}]\u001b[0m\u001b[32;1m\u001b[1;3mThe information from the search results indicates that Y. S. Jagan Mohan Reddy is mentioned with context to being the Chief Minister as of April 2023, reflecting his political activities and associations with the current developments in Andhra Pradesh. This suggests he is the current Chief Minister.\n",
      "Final Answer: Y. S. Jagan Mohan Reddy is the current Chief Minister of Andhra Pradesh as of 2023.\u001b[0m\n",
      "\n",
      "\u001b[1m> Finished chain.\u001b[0m\n"
     ]
    },
    {
     "data": {
      "text/plain": [
       "{'input': 'who is the current cheif minister of Andhra pradesh?',\n",
       " 'output': 'Y. S. Jagan Mohan Reddy is the current Chief Minister of Andhra Pradesh as of 2023.'}"
      ]
     },
     "execution_count": 32,
     "metadata": {},
     "output_type": "execute_result"
    }
   ],
   "source": [
    "agent_executor.invoke({\"input\": \"who is the current cheif minister of Andhra pradesh?\"})"
   ]
  },
  {
   "cell_type": "code",
   "execution_count": 35,
   "id": "363fa6b6-4f4c-41e1-a9c0-75596b251be9",
   "metadata": {},
   "outputs": [],
   "source": [
    "from langchain.agents import Tool, AgentExecutor, initialize_agent, create_react_agent\n",
    "from langchain.tools import DuckDuckGoSearchRun, WikipediaQueryRun\n"
   ]
  },
  {
   "cell_type": "code",
   "execution_count": 47,
   "id": "2edebdd8-14f6-443b-b417-3f5501af7c7c",
   "metadata": {},
   "outputs": [],
   "source": [
    "search = DuckDuckGoSearchRun()\n",
    "duckduckgo_tool = Tool(\n",
    "    name='DuckDuckGo Search',\n",
    "    func=search.run,\n",
    "    description='Useful for when you need to perform an internet search to find information that another tool can\\'t provide.'\n",
    ")"
   ]
  },
  {
   "cell_type": "code",
   "execution_count": 48,
   "id": "9aff6409-98bc-4174-983b-c9201d23a14f",
   "metadata": {},
   "outputs": [
    {
     "data": {
      "text/plain": [
       "[Tool(name='DuckDuckGo Search', description=\"Useful for when you need to perform an internet search to find information that another tool can't provide.\", func=<bound method BaseTool.run of DuckDuckGoSearchRun()>)]"
      ]
     },
     "execution_count": 48,
     "metadata": {},
     "output_type": "execute_result"
    }
   ],
   "source": [
    "tools"
   ]
  },
  {
   "cell_type": "code",
   "execution_count": 56,
   "id": "7f262caf-fde5-4241-821b-c1bb53ad116a",
   "metadata": {},
   "outputs": [
    {
     "name": "stdout",
     "output_type": "stream",
     "text": [
      "\n",
      "\n",
      "\u001b[1m> Entering new AgentExecutor chain...\u001b[0m\n",
      "\u001b[32;1m\u001b[1;3mTo determine the number of seats the BJP has won in the current election in India, I need to look up recent election results.\n",
      "\n",
      "Action: DuckDuckGo Search\n",
      "Action Input: \"current BJP seat count in India election 2023\"\u001b[0m\u001b[36;1m\u001b[1;3mThe BJP won 54 seats, well past the 46-seat majority mark, while the Congress won 35 seats. Senior BJP leader Raman Singh told reporters in Raipur that the people had rejected CM Bhupesh Baghel. With a 37 percent vote share in the 2019 election, the right-wing BJP won 303 of 543 seats in the lower house of parliament, under India's first past the post system. The Indian National ... Voting took place for 199 seats during the 2023 Assembly Election. Election was postponed in Sriganganagar's Karanapur seat due to the unfortunate demise of the Congress candidate, Gurmeet Singh ... The BJP is set to storm back into power in Rajasthan as Election Commission trends show it leading in 111 seats, while incumbent Congress is leading in only 71 seat. Bharat Adivasi Party (BAP) has ... Rajasthan Election Results 2023 LIVE: The BJP made a major dent in Congress by breaking into its traditional SC and ST community vote bank. The BJP won 22 of 34 SC seats, Congress 11 and one by ...\u001b[0m\u001b[32;1m\u001b[1;3mIt appears that the number of seats won by BJP in the most recent election is 54. The BJP has secured a majority, surpassing the 46-seat mark.\n",
      "\n",
      "Final Answer: BJP won 54 seats in the current election in India.\u001b[0m\n",
      "\n",
      "\u001b[1m> Finished chain.\u001b[0m\n"
     ]
    },
    {
     "data": {
      "text/plain": [
       "{'input': 'Can you tell me how many seat did BJP won currently in  election in India?',\n",
       " 'output': 'BJP won 54 seats in the current election in India.'}"
      ]
     },
     "execution_count": 56,
     "metadata": {},
     "output_type": "execute_result"
    }
   ],
   "source": [
    "tools = [duckduckgo_tool]\n",
    "# Get the prompt to use - you can modify this!\n",
    "prompt = hub.pull(\"hwchase17/react\")\n",
    "\n",
    "# Choose the LLM to use\n",
    "llm = ChatOpenAI(model = 'gpt-4o')\n",
    "\n",
    "# Construct the ReAct agent\n",
    "agent = create_react_agent(llm, tools, prompt)\n",
    "\n",
    "# Create an agent executor by passing in the agent and tools\n",
    "agent_executor = AgentExecutor(agent=agent, tools=tools, verbose=True)\n",
    "\n",
    "agent_executor.invoke({\"input\": \"Can you tell me how many seat did BJP won currently in  election in India?\"})"
   ]
  },
  {
   "cell_type": "code",
   "execution_count": null,
   "id": "15bd6cf0-4d23-49fe-a78a-b848e398f33d",
   "metadata": {},
   "outputs": [],
   "source": []
  },
  {
   "cell_type": "code",
   "execution_count": null,
   "id": "4f9f818f-670c-4af9-830e-2ba451cb7405",
   "metadata": {},
   "outputs": [],
   "source": []
  },
  {
   "cell_type": "code",
   "execution_count": null,
   "id": "9d96898a-a321-49fe-b870-0a7fb0a259e1",
   "metadata": {},
   "outputs": [],
   "source": []
  },
  {
   "cell_type": "code",
   "execution_count": 69,
   "id": "273d3b91-9834-4ff2-8f08-2e574b19e4b0",
   "metadata": {},
   "outputs": [],
   "source": [
    "from langchain.prompts import PromptTemplate\n",
    "from langchain import hub\n",
    "from langchain.agents import Tool, AgentExecutor, initialize_agent, create_react_agent\n",
    "from langchain.tools import DuckDuckGoSearchRun, WikipediaQueryRun\n",
    "from langchain.utilities import WikipediaAPIWrapper\n",
    "from langchain_experimental.tools.python.tool import PythonREPLTool\n",
    "from langchain_openai import ChatOpenAI\n",
    "\n",
    "# Initialize the ChatOpenAI model (gpt-4-turbo-preview) with a temperature of 0. Utilize gpt-3.5-turbo if you use the free plan\n",
    "llm = ChatOpenAI(model_name='gpt-4o', temperature=0)\n",
    "\n",
    "# Define a template for answering questions\n",
    "template = '''\n",
    "Answer the following questions in ENGLISH and HINGLISH as best you can.\n",
    "If the question is on 2024 always use the Tools(Agent) given to you.\n",
    "Questions: {q}\n",
    "'''\n",
    "\n",
    "# Create a PromptTemplate object from the template\n",
    "prompt_template = PromptTemplate.from_template(template)\n",
    "\n",
    "# Pull the react prompt from the hub\n",
    "prompt = hub.pull('hwchase17/react')\n",
    "\n",
    "# displaying information about the react prompt\n",
    "# print(type(prompt))\n",
    "# print(prompt.input_variables)\n",
    "# print(prompt.template)\n",
    "\n",
    "\n",
    "# Create tools for the agent\n",
    "\n",
    "# 1. Python REPL Tool (for executing Python code)\n",
    "python_repl = PythonREPLTool()\n",
    "python_repl_tool = Tool(\n",
    "    name='Python REPL',\n",
    "    func=python_repl.run,\n",
    "    description='Useful when you need to use Python to answer a question. You should input Python code.'\n",
    ")\n",
    "\n",
    "# 2. Wikipedia Tool (for searching Wikipedia)\n",
    "api_wrapper = WikipediaAPIWrapper()\n",
    "wikipedia = WikipediaQueryRun(api_wrapper=api_wrapper)\n",
    "wikipedia_tool = Tool(\n",
    "    name='Wikipedia',\n",
    "    func=wikipedia.run,\n",
    "    description='Useful for when you need to look up a topic, country, or person on Wikipedia.'\n",
    ")\n",
    "\n",
    "# 3. DuckDuckGo Search Tool (for general web searches)\n",
    "search = DuckDuckGoSearchRun()\n",
    "duckduckgo_tool = Tool(\n",
    "    name='DuckDuckGo Search',\n",
    "    func=search.run,\n",
    "    description='Useful for when you need to perform an internet search to find information that another tool can\\'t provide.'\n",
    ")\n",
    "\n",
    "# Combine the tools into a list\n",
    "tools = [python_repl_tool, wikipedia_tool, duckduckgo_tool]\n",
    "\n",
    "# Create a react agent with the ChatOpenAI model, tools, and prompt\n",
    "agent = create_react_agent(llm, tools, prompt)\n",
    "\n",
    "# Initialize the AgentExecutor\n",
    "agent_executor = AgentExecutor(\n",
    "    agent=agent,\n",
    "    tools=tools,\n",
    "    verbose=True,\n",
    "    handle_parsing_errors=True,\n",
    "    max_iterations=10\n",
    ")\n"
   ]
  },
  {
   "cell_type": "code",
   "execution_count": 66,
   "id": "ce4697a0-2487-42b2-9639-0998ff7c6b98",
   "metadata": {},
   "outputs": [],
   "source": [
    "question = \"Tell me about Napolean Bonaparte before his age 10\""
   ]
  },
  {
   "cell_type": "code",
   "execution_count": 67,
   "id": "7eccac44-5b60-4dea-a199-cd8ed47b894d",
   "metadata": {},
   "outputs": [
    {
     "name": "stdout",
     "output_type": "stream",
     "text": [
      "\n",
      "\n",
      "\u001b[1m> Entering new AgentExecutor chain...\u001b[0m\n",
      "\u001b[32;1m\u001b[1;3mTo answer the question about Napoleon Bonaparte's early life before the age of 10, I will look up relevant information. I will use Wikipedia to gather detailed information about his early years.\n",
      "\n",
      "Action: Wikipedia\n",
      "Action Input: Napoleon Bonaparte\n",
      "\u001b[0m\u001b[33;1m\u001b[1;3mPage: Napoleon\n",
      "Summary: Napoleon Bonaparte (born Napoleone di Buonaparte; 15 August 1769 – 5 May 1821), later known by his regnal name Napoleon I, was a French military and political leader who rose to prominence during the French Revolution and led a series of successful campaigns across Europe during the Revolutionary Wars and Napoleonic Wars from 1796 to 1815. He was the leader of the French Republic as First Consul from 1799 to 1804, then of the French Empire as Emperor of the French from 1804 to 1814, and briefly again in 1815.\n",
      "Born on the island of Corsica to a family of Italian origin, Napoleon moved to mainland France in 1779 and was commissioned as an officer in the French Army in 1785. He supported the French Revolution in 1789, and promoted its cause in Corsica. He rose rapidly in the ranks after breaking the siege of Toulon in 1793 and firing on royalist insurgents in Paris on 13 Vendémiaire in 1795. In 1796, Napoleon commanded a military campaign against the Austrians and their Italian allies in the War of the First Coalition, scoring decisive victories and becoming a national hero. He led an expedition to Egypt and Syria in 1798 which served as a springboard to political power. In November 1799, Napoleon engineered the Coup of 18 Brumaire against the Directory, and became First Consul of the Republic. He won the Battle of Marengo in 1800, which secured French victory in the War of the Second Coalition, and in 1803 sold the territory of Louisiana to the United States, which doubled the latter's area. In December 1804, Napoelon crowned himself Emperor of the French, further expanding his power.\n",
      "The breakdown of the Treaty of Amiens led to the War of the Third Coalition by 1805. Napoleon shattered the coalition with a decisive victory at the Battle of Austerlitz, which led to the dissolution of the Holy Roman Empire. In the War of the Fourth Coalition, Napoleon defeated Prussia at the Battle of Jena–Auerstedt in 1806, marched his Grande Armée into Eastern Europe, and defeated the Russians in 1807 at the Battle of Friedland. Seeking to extend his trade embargo against Britain, Napoleon invaded the Iberian Peninsula and installed his brother Joseph as King of Spain in 1808, provoking the Peninsular War, mainly fought by his marshals until 1814. In 1809, the Austrians again challenged France in the War of the Fifth Coalition, in which Napoleon solidified his grip over Europe after winning the Battle of Wagram. In summer 1812, Napoleon launched an invasion of Russia, which ended in the catastrophic retreat of his army that winter. In 1813, Prussia and Austria joined Russia in the War of the Sixth Coalition, in which Napoleon was decisively defeated at the Battle of Leipzig. The coalition invaded France and captured Paris, forcing Napoleon to abdicate in April 1814. They exiled him to the Mediterranean island of Elba and restored the Bourbons to power. In February 1815, Napoleon escaped from Elba and again took control of France in what became known as the \"Hundred Days\". His opponents responded by forming a Seventh Coalition, which defeated him at the Battle of Waterloo in June 1815. Napoleon was exiled to the remote island of Saint Helena in the South Atlantic, where he died of stomach cancer in 1821, aged 51.\n",
      "Napoleon is considered one of the greatest military commanders in history and Napoleonic tactics are still studied at military schools worldwide. His legacy endures through the modernizing legal and administrative reforms he enacted in France and Western Europe, embodied in the Napoleonic Code. He established a system of public education, abolished the vestiges of feudalism, emancipated Jews and other religious minorities, abolished the Spanish Inquisition, enacted the principle of equality before the law for an emerging middle class, and centralized state power at the expense of religious authorities. His conquests acted as a catalyst for political change and the development of nation states. However, he is cont\u001b[0m\u001b[32;1m\u001b[1;3mThe summary provided by Wikipedia gives a comprehensive overview of Napoleon Bonaparte's life, but it doesn't focus specifically on his early years before the age of 10. To provide a detailed answer, I will extract and summarize the relevant information about his early childhood.\n",
      "\n",
      "Action: Wikipedia\n",
      "Action Input: Early life of Napoleon Bonaparte\n",
      "\u001b[0m\u001b[33;1m\u001b[1;3mPage: Jérôme Bonaparte\n",
      "Summary: Jérôme-Napoléon Bonaparte (born Girolamo Buonaparte; 15 November 1784 – 24 June 1860) was the youngest brother of Napoleon I and reigned as Jerome Napoleon I (formally Hieronymus Napoleon in German), King of Westphalia, between 1807 and 1813. \n",
      "From 1816 onward, he bore the title of Prince of Montfort. After 1848, when his nephew, Louis Napoleon, became President of the Second French Republic, he served in several official roles, including Marshal of France from 1850 onward, and President of the Senate in 1852. He was the only one of Napoleon's siblings who lived long enough to see the Bonaparte restoration.\n",
      "Historian Owen Connelly points to his financial, military, and administrative successes and concludes he was a loyal, useful, and soldierly asset to Napoleon. Others, including historian Helen Jean Burn, have demonstrated his military failures, including a dismal career in the French navy that nearly escalated into war with Britain over an incident in the West Indies and his selfish concerns that led to the deaths of tens of thousands during the Russian invasion when he failed to provide military support as Napoleon had counted upon for his campaign; further, his addiction to spending led to both personal and national financial disasters, with his large personal debts repeatedly paid by family members including Napoleon, his mother, and both of his first two fathers-in-law, and the treasury of Westphalia emptied. In general, most historians agree that he was the most unsuccessful of Napoleon's brothers.\n",
      "\n",
      "Page: Lucien Bonaparte\n",
      "Summary: Lucien Bonaparte, 1st Prince of Canino and Musignano (born Luciano Buonaparte; 21 May 1775 – 29 June 1840), was a French politician and diplomat of the French Revolution and the Consulate. He served as Minister of the Interior from 1799 to 1800 and as the president of the Council of Five Hundred in 1799.\n",
      "The third surviving son of Carlo Bonaparte and his wife Letizia Ramolino, Lucien was the younger brother of Napoleon Bonaparte. As president of the Council of Five Hundred, he was one of the participants of the Coup of 18 Brumaire that brought Napoleon to power in France.\n",
      "\n",
      "Page: Napoleon\n",
      "Summary: Napoleon Bonaparte (born Napoleone di Buonaparte; 15 August 1769 – 5 May 1821), later known by his regnal name Napoleon I, was a French military and political leader who rose to prominence during the French Revolution and led a series of successful campaigns across Europe during the Revolutionary Wars and Napoleonic Wars from 1796 to 1815. He was the leader of the French Republic as First Consul from 1799 to 1804, then of the French Empire as Emperor of the French from 1804 to 1814, and briefly again in 1815.\n",
      "Born on the island of Corsica to a family of Italian origin, Napoleon moved to mainland France in 1779 and was commissioned as an officer in the French Army in 1785. He supported the French Revolution in 1789, and promoted its cause in Corsica. He rose rapidly in the ranks after breaking the siege of Toulon in 1793 and firing on royalist insurgents in Paris on 13 Vendémiaire in 1795. In 1796, Napoleon commanded a military campaign against the Austrians and their Italian allies in the War of the First Coalition, scoring decisive victories and becoming a national hero. He led an expedition to Egypt and Syria in 1798 which served as a springboard to political power. In November 1799, Napoleon engineered the Coup of 18 Brumaire against the Directory, and became First Consul of the Republic. He won the Battle of Marengo in 1800, which secured French victory in the War of the Second Coalition, and in 1803 sold the territory of Louisiana to the United States, which doubled the latter's area. In December 1804, Napoelon crowned himself Emperor of the French, further expanding his power.\n",
      "The breakdown of the Treaty of Amiens led to the War of the Third Coalition by 1805. Napoleon shattered the coalition with a decisive victory at the Battle of Austerlitz, which led to the d\u001b[0m\u001b[32;1m\u001b[1;3mThe information provided still does not focus specifically on Napoleon Bonaparte's early years before the age of 10. I will summarize what is known about his early childhood based on the available information.\n",
      "\n",
      "### English:\n",
      "Napoleon Bonaparte was born on August 15, 1769, in Ajaccio, Corsica, to Carlo Buonaparte and Letizia Ramolino. He was the second of eight surviving children in his family. His family was of Italian descent and belonged to the minor nobility. Napoleon's father, Carlo, was a lawyer and a political figure in Corsica, which was then a French territory.\n",
      "\n",
      "In 1779, at the age of 9, Napoleon moved to mainland France to attend a religious school in Autun. Shortly after, he was admitted to a military academy at Brienne-le-Château, where he began his formal education and military training. His early years were marked by a strong sense of ambition and a desire to rise above his modest beginnings.\n",
      "\n",
      "### Hinglish:\n",
      "Napoleon Bonaparte ka janm 15 August 1769 ko Ajaccio, Corsica mein hua tha, Carlo Buonaparte aur Letizia Ramolino ke ghar. Woh apne parivaar mein dusre bachche the aur unke 8 bhai-behen the. Unka parivaar Italian vansh ka tha aur chhoti nobility se sambandhit tha. Napoleon ke pita, Carlo, ek vakil aur Corsica mein ek rajneetik vyakti the, jo us samay French territory thi.\n",
      "\n",
      "1779 mein, jab Napoleon 9 saal ke the, tab woh mainland France gaye ek religious school mein padhne ke liye jo Autun mein tha. Thodi hi der baad, unhe Brienne-le-Château ke military academy mein admission mil gaya, jahan unhone apni formal education aur military training shuru ki. Unke shuru ke saal unki tej ambition aur apni modest shuruaat se upar uthne ki ichha se bhare hue the.\n",
      "\n",
      "Final Answer: \n",
      "### English:\n",
      "Napoleon Bonaparte was born on August 15, 1769, in Ajaccio, Corsica, to Carlo Buonaparte and Letizia Ramolino. He was the second of eight surviving children in his family. His family was of Italian descent and belonged to the minor nobility. In 1779, at the age of 9, Napoleon moved to mainland France to attend a religious school in Autun and later a military academy at Brienne-le-Château.\n",
      "\n",
      "### Hinglish:\n",
      "Napoleon Bonaparte ka janm 15 August 1769 ko Ajaccio, Corsica mein hua tha, Carlo Buonaparte aur Letizia Ramolino ke ghar. Woh apne parivaar mein dusre bachche the aur unke 8 bhai-behen the. Unka parivaar Italian vansh ka tha aur chhoti nobility se sambandhit tha. 1779 mein, jab Napoleon 9 saal ke the, tab woh mainland France gaye ek religious school mein padhne ke liye jo Autun mein tha aur baad mein Brienne-le-Château ke military academy mein admission mil gaya.\u001b[0m\n",
      "\n",
      "\u001b[1m> Finished chain.\u001b[0m\n"
     ]
    },
    {
     "data": {
      "text/plain": [
       "{'input': '\\nAnswer the following questions in ENGLISH and HINGLISH as best you can.\\nQuestions: Tell me about Napolean Bonaparte before his age 10\\n',\n",
       " 'output': '### English:\\nNapoleon Bonaparte was born on August 15, 1769, in Ajaccio, Corsica, to Carlo Buonaparte and Letizia Ramolino. He was the second of eight surviving children in his family. His family was of Italian descent and belonged to the minor nobility. In 1779, at the age of 9, Napoleon moved to mainland France to attend a religious school in Autun and later a military academy at Brienne-le-Château.\\n\\n### Hinglish:\\nNapoleon Bonaparte ka janm 15 August 1769 ko Ajaccio, Corsica mein hua tha, Carlo Buonaparte aur Letizia Ramolino ke ghar. Woh apne parivaar mein dusre bachche the aur unke 8 bhai-behen the. Unka parivaar Italian vansh ka tha aur chhoti nobility se sambandhit tha. 1779 mein, jab Napoleon 9 saal ke the, tab woh mainland France gaye ek religious school mein padhne ke liye jo Autun mein tha aur baad mein Brienne-le-Château ke military academy mein admission mil gaya.'}"
      ]
     },
     "execution_count": 67,
     "metadata": {},
     "output_type": "execute_result"
    }
   ],
   "source": [
    "agent_executor.invoke({'input': prompt_template.format(q=question)})"
   ]
  },
  {
   "cell_type": "code",
   "execution_count": 70,
   "id": "ba4ed4d0-aef8-45b0-84fd-d0a8576e3435",
   "metadata": {},
   "outputs": [],
   "source": [
    "question = \"Tell me the number of Seat won by BJP in the 2024 June elections?\""
   ]
  },
  {
   "cell_type": "code",
   "execution_count": 71,
   "id": "e885dfa7-5275-45c3-a0a2-f008acd31135",
   "metadata": {},
   "outputs": [
    {
     "name": "stdout",
     "output_type": "stream",
     "text": [
      "\n",
      "\n",
      "\u001b[1m> Entering new AgentExecutor chain...\u001b[0m\n",
      "\u001b[32;1m\u001b[1;3mTo answer the question about the number of seats won by BJP in the 2024 June elections, I need to look up the most recent information available. I will use the DuckDuckGo Search tool to find the latest results.\n",
      "\n",
      "Action: DuckDuckGo Search\n",
      "Action Input: \"BJP seats won in 2024 June elections\"\u001b[0m\u001b[38;5;200m\u001b[1;3mLok Sabha 2024 Election Results: As the d-day as finally arrived, with results of the 2024 Lok Sabha elections being announced today, June 4, here is the final list of winning candidates. ... Notably, the BJP, who won 283 and 303 seats in the 2014 and 2019 Lok Sabha elections, ... The Bharatiya Janata Party (BJP) has won 62 seats so far and is leading in 178, the election commission data showed at 6 p.m. local (8.30 a.m. ET). The BJP needs at least 272 seats to form a ... Lok Sabha Election Results 2024 Full List of Winners: The Bharatiya Janata Party (BJP)-led National Democratic Alliance (NDA) on Tuesday, June 4, reached the majority mark (272) after the ... The BJP, whose candidates contested in the name of Modi, won in 240 seats, falling short of the 272 majority mark and needing the support of allies in the party-led NDA for government formation, a ... Election Results 2024 highlights: Kharge says 'INDIA bloc will continue to fight BJP's fascist rule'. June 5, 2024 11:59 PM IST. Election Results 2024 highlights: NDA won 293 seats in Lok Sabha ...\u001b[0m\u001b[32;1m\u001b[1;3mThe Bharatiya Janata Party (BJP) won 240 seats in the 2024 June elections. They fell short of the 272 majority mark and will need the support of allies in the National Democratic Alliance (NDA) for government formation.\n",
      "\n",
      "Final Answer:\n",
      "ENGLISH: The BJP won 240 seats in the 2024 June elections.\n",
      "HINGLISH: BJP ne 2024 June ke elections mein 240 seats jeeti hain.\u001b[0m\n",
      "\n",
      "\u001b[1m> Finished chain.\u001b[0m\n"
     ]
    },
    {
     "data": {
      "text/plain": [
       "{'input': '\\nAnswer the following questions in ENGLISH and HINGLISH as best you can.\\nIf the question is on 2024 always use the Tools(Agent) given to you.\\nQuestions: Tell me the number of Seat won by BJP in the 2024 June elections?\\n',\n",
       " 'output': 'ENGLISH: The BJP won 240 seats in the 2024 June elections.\\nHINGLISH: BJP ne 2024 June ke elections mein 240 seats jeeti hain.'}"
      ]
     },
     "execution_count": 71,
     "metadata": {},
     "output_type": "execute_result"
    }
   ],
   "source": [
    "agent_executor.invoke({'input': prompt_template.format(q=question)})"
   ]
  },
  {
   "cell_type": "code",
   "execution_count": null,
   "id": "1068ee46-340c-49b0-8006-3b3eb9117658",
   "metadata": {},
   "outputs": [],
   "source": []
  },
  {
   "cell_type": "code",
   "execution_count": 72,
   "id": "326ee1cd-79cc-4656-b490-cbea8a70f79c",
   "metadata": {},
   "outputs": [],
   "source": [
    "question = \"Write a code to find the longest substring palindrome in a string and describe the code in detailed and try to opimize the code with better big O notation\""
   ]
  },
  {
   "cell_type": "code",
   "execution_count": 73,
   "id": "e2cf80a1-f3d6-4d7d-9b6f-59a051f7924e",
   "metadata": {},
   "outputs": [
    {
     "name": "stdout",
     "output_type": "stream",
     "text": [
      "\n",
      "\n",
      "\u001b[1m> Entering new AgentExecutor chain...\u001b[0m\n",
      "\u001b[32;1m\u001b[1;3mTo answer this question, I need to write a Python code to find the longest palindromic substring in a given string and then describe the code in detail. Additionally, I will try to optimize the code for better time complexity.\n",
      "\n",
      "### Step-by-Step Plan:\n",
      "1. Write a Python function to find the longest palindromic substring.\n",
      "2. Describe the code in detail.\n",
      "3. Optimize the code for better time complexity.\n",
      "\n",
      "### Action:\n",
      "I will start by writing the Python code to find the longest palindromic substring.\n",
      "\n",
      "#### Python Code:\n",
      "```python\n",
      "def longest_palindromic_substring(s: str) -> str:\n",
      "    n = len(s)\n",
      "    if n == 0:\n",
      "        return \"\"\n",
      "    \n",
      "    # Initialize a table to store the palindrome status\n",
      "    dp = [[False] * n for _ in range(n)]\n",
      "    \n",
      "    start = 0\n",
      "    max_length = 1\n",
      "    \n",
      "    # All substrings of length 1 are palindromes\n",
      "    for i in range(n):\n",
      "        dp[i][i] = True\n",
      "    \n",
      "    # Check for substrings of length 2\n",
      "    for i in range(n - 1):\n",
      "        if s[i] == s[i + 1]:\n",
      "            dp[i][i + 1] = True\n",
      "            start = i\n",
      "            max_length = 2\n",
      "    \n",
      "    # Check for substrings of length greater than 2\n",
      "    for length in range(3, n + 1):\n",
      "        for i in range(n - length + 1):\n",
      "            j = i + length - 1\n",
      "            if s[i] == s[j] and dp[i + 1][j - 1]:\n",
      "                dp[i][j] = True\n",
      "                start = i\n",
      "                max_length = length\n",
      "    \n",
      "    return s[start:start + max_length]\n",
      "\n",
      "# Example usage\n",
      "s = \"babad\"\n",
      "print(longest_palindromic_substring(s))  # Output: \"bab\" or \"aba\"\n",
      "```\n",
      "\n",
      "### Description of the Code:\n",
      "1. **Initialization**:\n",
      "   - `n` is the length of the input string `s`.\n",
      "   - If the string is empty, return an empty string.\n",
      "   - `dp` is a 2D list (table) where `dp[i][j]` will be `True` if the substring `s[i:j+1]` is a palindrome.\n",
      "   - `start` is the starting index of the longest palindromic substring found.\n",
      "   - `max_length` is the length of the longest palindromic substring found.\n",
      "\n",
      "2. **Base Cases**:\n",
      "   - All substrings of length 1 are palindromes, so `dp[i][i]` is set to `True` for all `i`.\n",
      "\n",
      "3. **Substrings of Length 2**:\n",
      "   - Check all substrings of length 2. If `s[i] == s[i + 1]`, then `dp[i][i + 1]` is `True`.\n",
      "\n",
      "4. **Substrings of Length Greater than 2**:\n",
      "   - For each length from 3 to `n`, check all possible substrings.\n",
      "   - If the characters at the start and end of the substring are the same (`s[i] == s[j]`) and the substring between them is a palindrome (`dp[i + 1][j - 1]`), then the current substring is also a palindrome (`dp[i][j] = True`).\n",
      "\n",
      "5. **Return the Longest Palindromic Substring**:\n",
      "   - Use the `start` index and `max_length` to extract and return the longest palindromic substring from the input string.\n",
      "\n",
      "### Optimization:\n",
      "The above solution has a time complexity of \\(O(n^2)\\) and a space complexity of \\(O(n^2)\\) due to the use of the `dp` table. We can optimize the space complexity to \\(O(1)\\) using the expand-around-center approach.\n",
      "\n",
      "#### Optimized Python Code:\n",
      "```python\n",
      "def longest_palindromic_substring_optimized(s: str) -> str:\n",
      "    def expand_around_center(s, left, right):\n",
      "        while left >= 0 and right < len(s) and s[left] == s[right]:\n",
      "            left -= 1\n",
      "            right += 1\n",
      "        return left + 1, right - 1\n",
      "    \n",
      "    start, end = 0, 0\n",
      "    for i in range(len(s)):\n",
      "        l1, r1 = expand_around_center(s, i, i)\n",
      "        l2, r2 = expand_around_center(s, i, i + 1)\n",
      "        \n",
      "        if r1 - l1 > end - start:\n",
      "            start, end = l1, r1\n",
      "        if r2 - l2 > end - start:\n",
      "            start, end = l2, r2\n",
      "    \n",
      "    return s[start:end + 1]\n",
      "\n",
      "# Example usage\n",
      "s = \"babad\"\n",
      "print(longest_palindromic_substring_optimized(s))  # Output: \"bab\" or \"aba\"\n",
      "```\n",
      "\n",
      "### Description of the Optimized Code:\n",
      "1. **Expand Around Center**:\n",
      "   - Define a helper function `expand_around_center` that expands around the given center indices (`left` and `right`) and returns the indices of the longest palindromic substring found.\n",
      "\n",
      "2. **Iterate Through the String**:\n",
      "   - For each character in the string, consider it as the center of a palindrome and expand around it.\n",
      "   - Also, consider the gap between each pair of characters as the center and expand around it.\n",
      "\n",
      "3. **Update the Longest Palindromic Substring**:\n",
      "   - Update the `start` and `end` indices if a longer palindromic substring is found.\n",
      "\n",
      "4. **Return the Longest Palindromic Substring**:\n",
      "   - Use the `start` and `end` indices to extract and return the longest palindromic substring from the input string.\n",
      "\n",
      "The optimized solution has a time complexity of \\(O(n^2)\\) but a space complexity of \\(O(1)\\).\n",
      "\n",
      "### Final Answer:\n",
      "The code to find the longest palindromic substring in a string is provided above, along with a detailed description and an optimized version with better space complexity.\u001b[0m\n",
      "\n",
      "\u001b[1m> Finished chain.\u001b[0m\n"
     ]
    },
    {
     "data": {
      "text/plain": [
       "{'input': '\\nAnswer the following questions in ENGLISH and HINGLISH as best you can.\\nIf the question is on 2024 always use the Tools(Agent) given to you.\\nQuestions: Write a code to find the longest substring palindrome in a string and describe the code in detailed and try to opimize the code with better big O notation\\n',\n",
       " 'output': 'The code to find the longest palindromic substring in a string is provided above, along with a detailed description and an optimized version with better space complexity.'}"
      ]
     },
     "execution_count": 73,
     "metadata": {},
     "output_type": "execute_result"
    }
   ],
   "source": [
    "agent_executor.invoke({'input': prompt_template.format(q=question)})"
   ]
  },
  {
   "cell_type": "code",
   "execution_count": null,
   "id": "9477b828-fc81-46ce-b7be-41772a5a99c4",
   "metadata": {},
   "outputs": [],
   "source": []
  }
 ],
 "metadata": {
  "kernelspec": {
   "display_name": "Python 3 (ipykernel)",
   "language": "python",
   "name": "python3"
  },
  "language_info": {
   "codemirror_mode": {
    "name": "ipython",
    "version": 3
   },
   "file_extension": ".py",
   "mimetype": "text/x-python",
   "name": "python",
   "nbconvert_exporter": "python",
   "pygments_lexer": "ipython3",
   "version": "3.11.8"
  }
 },
 "nbformat": 4,
 "nbformat_minor": 5
}
