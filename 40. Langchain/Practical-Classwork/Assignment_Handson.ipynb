{
  "nbformat": 4,
  "nbformat_minor": 0,
  "metadata": {
    "colab": {
      "provenance": []
    },
    "kernelspec": {
      "name": "python3",
      "display_name": "Python 3"
    },
    "language_info": {
      "name": "python"
    }
  },
  "cells": [
    {
      "cell_type": "code",
      "execution_count": null,
      "metadata": {
        "id": "qWM0Z5nlGvX5"
      },
      "outputs": [],
      "source": [
        "Financial Services\n",
        "Investment research assistant\n",
        "Investment analysts spend significant time manually gathering and analyzing data from diverse sources,\n",
        "limiting their ability to generate timely insights and strategic analysis.\n",
        "\n",
        "\n",
        "AI agents can generate comprehensive market insights through natural language queries and\n",
        "create detailed financial visualizations in minutes instead of hours or days.\n",
        "These agents can also identify market opportunities by combining insights from\n",
        "different data sources and analytical approaches,\n",
        "enabling analysts to reduce research time and focus on higher-value strategic work.\n"
      ]
    },
    {
      "cell_type": "code",
      "source": [
        "input -> 'Hypothesis' -> Example -> Apple stock will jump 10% in next year 2026?\n",
        "\n",
        "Sources:\n",
        "News\n",
        "\n",
        "https://strandsagents.com/latest/documentation/docs/examples/python/multi_agent_example/multi_agent_example/\n",
        "1. Strands Agents\n",
        "\n",
        "Orchestrator: hypothesis question?\n",
        "\n",
        "read from multiple sources\n",
        "\n",
        "yfinance - api - MCP\n",
        "news - api - MCP\n",
        "stock news - api - MCP\n",
        "reasearch - api - MCP\n",
        "browser - api - MCP\n",
        "\n",
        "\n",
        "1. News agent - all the api news - tavily - searapi.      - 10 source\n",
        "2. Financial Agent - yfinance, alphavantage 10 source\n",
        "3. Research Agent - research https://serpapi.com/google-scholar-api 10 source\n",
        "4. Browser Agent - bravesearch, duckduckgo 10 source\n",
        "\n",
        "\n",
        "Validation agent\n",
        "1. validate the reliability and accuracy of this source to the hypothesis - Filter\n",
        "\n",
        "3,4,2,5\n",
        "\n",
        "Summarizing agent\n",
        "\n",
        "Report agent: HTML output -> pdf\n",
        "\n",
        "\n",
        "#https://github.com/strands-agents/sdk-python\n",
        "\n",
        "\n",
        "\n",
        "\n",
        "\n"
      ],
      "metadata": {
        "id": "urRC08dNHG4W"
      },
      "execution_count": null,
      "outputs": []
    }
  ]
}