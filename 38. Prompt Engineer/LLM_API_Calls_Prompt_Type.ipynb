{
  "nbformat": 4,
  "nbformat_minor": 0,
  "metadata": {
    "colab": {
      "provenance": []
    },
    "kernelspec": {
      "name": "python3",
      "display_name": "Python 3"
    },
    "language_info": {
      "name": "python"
    }
  },
  "cells": [
    {
      "cell_type": "code",
      "source": [
        "from google.colab import userdata\n",
        "import os\n",
        "os.environ[\"OPENAI_API_KEY\"] = userdata.get(\"OPENAI_API_KEY\")\n",
        "os.environ[\"ANTHROPIC_API_KEY\"] = userdata.get(\"anthropic\")\n",
        "os.environ[\"GEMINI_API_KEY\"] = userdata.get(\"gemini\")\n",
        "os.environ[\"OPENROUTER_API_KEY\"] = userdata.get(\"OpenRouter\")"
      ],
      "metadata": {
        "id": "qvN_COvwJ6GM"
      },
      "execution_count": null,
      "outputs": []
    },
    {
      "cell_type": "code",
      "source": [
        "#OpenAI"
      ],
      "metadata": {
        "id": "XAS7Jeu8GUeE"
      },
      "execution_count": null,
      "outputs": []
    },
    {
      "cell_type": "code",
      "source": [
        "model_name = 'gpt-5-nano-2025-08-07'"
      ],
      "metadata": {
        "id": "xpY4zUbOGnWB"
      },
      "execution_count": null,
      "outputs": []
    },
    {
      "cell_type": "code",
      "source": [
        "from openai import OpenAI\n",
        "client = OpenAI()\n",
        "\n",
        "response = client.responses.create(\n",
        "    model=model_name,\n",
        "    input=\"Write a one-sentence bedtime story about a unicorn.\",\n",
        ")\n",
        "\n",
        "print(response.output_text)"
      ],
      "metadata": {
        "colab": {
          "base_uri": "https://localhost:8080/"
        },
        "id": "rtaY7QMRJmYj",
        "outputId": "70ae7d8f-6ad3-4960-9bb0-02ded6e77ae7"
      },
      "execution_count": null,
      "outputs": [
        {
          "output_type": "stream",
          "name": "stdout",
          "text": [
            "Under a silver moon, a gentle unicorn trotted through the quiet meadow, whispering a lullaby that carried every sleepy creature into dreamland.\n"
          ]
        }
      ]
    },
    {
      "cell_type": "code",
      "source": [
        "#Anthropic"
      ],
      "metadata": {
        "id": "NPWuueMQNqPn"
      },
      "execution_count": null,
      "outputs": []
    },
    {
      "cell_type": "code",
      "source": [
        "!pip install anthropic"
      ],
      "metadata": {
        "colab": {
          "base_uri": "https://localhost:8080/"
        },
        "id": "YCR6kf6nMoC7",
        "outputId": "71280aa6-e56e-460f-e4ff-2fd4b4134e86"
      },
      "execution_count": null,
      "outputs": [
        {
          "output_type": "stream",
          "name": "stdout",
          "text": [
            "Collecting anthropic\n",
            "  Downloading anthropic-0.64.0-py3-none-any.whl.metadata (27 kB)\n",
            "Requirement already satisfied: anyio<5,>=3.5.0 in /usr/local/lib/python3.12/dist-packages (from anthropic) (4.10.0)\n",
            "Requirement already satisfied: distro<2,>=1.7.0 in /usr/local/lib/python3.12/dist-packages (from anthropic) (1.9.0)\n",
            "Requirement already satisfied: httpx<1,>=0.25.0 in /usr/local/lib/python3.12/dist-packages (from anthropic) (0.28.1)\n",
            "Requirement already satisfied: jiter<1,>=0.4.0 in /usr/local/lib/python3.12/dist-packages (from anthropic) (0.10.0)\n",
            "Requirement already satisfied: pydantic<3,>=1.9.0 in /usr/local/lib/python3.12/dist-packages (from anthropic) (2.11.7)\n",
            "Requirement already satisfied: sniffio in /usr/local/lib/python3.12/dist-packages (from anthropic) (1.3.1)\n",
            "Requirement already satisfied: typing-extensions<5,>=4.10 in /usr/local/lib/python3.12/dist-packages (from anthropic) (4.14.1)\n",
            "Requirement already satisfied: idna>=2.8 in /usr/local/lib/python3.12/dist-packages (from anyio<5,>=3.5.0->anthropic) (3.10)\n",
            "Requirement already satisfied: certifi in /usr/local/lib/python3.12/dist-packages (from httpx<1,>=0.25.0->anthropic) (2025.8.3)\n",
            "Requirement already satisfied: httpcore==1.* in /usr/local/lib/python3.12/dist-packages (from httpx<1,>=0.25.0->anthropic) (1.0.9)\n",
            "Requirement already satisfied: h11>=0.16 in /usr/local/lib/python3.12/dist-packages (from httpcore==1.*->httpx<1,>=0.25.0->anthropic) (0.16.0)\n",
            "Requirement already satisfied: annotated-types>=0.6.0 in /usr/local/lib/python3.12/dist-packages (from pydantic<3,>=1.9.0->anthropic) (0.7.0)\n",
            "Requirement already satisfied: pydantic-core==2.33.2 in /usr/local/lib/python3.12/dist-packages (from pydantic<3,>=1.9.0->anthropic) (2.33.2)\n",
            "Requirement already satisfied: typing-inspection>=0.4.0 in /usr/local/lib/python3.12/dist-packages (from pydantic<3,>=1.9.0->anthropic) (0.4.1)\n",
            "Downloading anthropic-0.64.0-py3-none-any.whl (297 kB)\n",
            "\u001b[?25l   \u001b[90m━━━━━━━━━━━━━━━━━━━━━━━━━━━━━━━━━━━━━━━━\u001b[0m \u001b[32m0.0/297.2 kB\u001b[0m \u001b[31m?\u001b[0m eta \u001b[36m-:--:--\u001b[0m\r\u001b[2K   \u001b[90m━━━━━━━━━━━━━━━━━━━━━━━━━━━━━━━━━━━━━━━━\u001b[0m \u001b[32m297.2/297.2 kB\u001b[0m \u001b[31m10.2 MB/s\u001b[0m eta \u001b[36m0:00:00\u001b[0m\n",
            "\u001b[?25hInstalling collected packages: anthropic\n",
            "Successfully installed anthropic-0.64.0\n"
          ]
        }
      ]
    },
    {
      "cell_type": "code",
      "source": [
        "import anthropic\n",
        "\n",
        "client = anthropic.Anthropic()\n",
        "\n",
        "list_model = client.models.list(limit=20)"
      ],
      "metadata": {
        "id": "U1YHEd_1JoVh"
      },
      "execution_count": null,
      "outputs": []
    },
    {
      "cell_type": "code",
      "source": [
        "for model in list_model:\n",
        "  print(model.id)"
      ],
      "metadata": {
        "colab": {
          "base_uri": "https://localhost:8080/"
        },
        "id": "pswUNbSZMmb_",
        "outputId": "611efa3a-1690-4b22-fe44-54bd1e0a20a4"
      },
      "execution_count": null,
      "outputs": [
        {
          "output_type": "stream",
          "name": "stdout",
          "text": [
            "claude-opus-4-1-20250805\n",
            "claude-opus-4-20250514\n",
            "claude-sonnet-4-20250514\n",
            "claude-3-7-sonnet-20250219\n",
            "claude-3-5-sonnet-20241022\n",
            "claude-3-5-haiku-20241022\n",
            "claude-3-5-sonnet-20240620\n",
            "claude-3-haiku-20240307\n",
            "claude-3-opus-20240229\n"
          ]
        }
      ]
    },
    {
      "cell_type": "code",
      "source": [
        "import anthropic\n",
        "\n",
        "anthropic.Anthropic().messages.create(\n",
        "    model=\"claude-sonnet-4-20250514\",\n",
        "    max_tokens=1024,\n",
        "    messages=[\n",
        "        {\"role\": \"user\", \"content\": \"Write a one-sentence bedtime story about a unicorn.\"}\n",
        "    ]\n",
        ")"
      ],
      "metadata": {
        "colab": {
          "base_uri": "https://localhost:8080/"
        },
        "id": "MXdFl_jeNRBs",
        "outputId": "3924f038-6c68-44ab-e8fe-4a6759cf3669"
      },
      "execution_count": null,
      "outputs": [
        {
          "output_type": "execute_result",
          "data": {
            "text/plain": [
              "Message(id='msg_013TZqeLetFUULsYEp26FNKT', content=[TextBlock(citations=None, text='The little unicorn with the silver horn closed her eyes beneath the starlit meadow, her gentle dreams painting rainbows across the night sky for all the sleeping children below.', type='text')], model='claude-sonnet-4-20250514', role='assistant', stop_reason='end_turn', stop_sequence=None, type='message', usage=Usage(cache_creation=CacheCreation(ephemeral_1h_input_tokens=0, ephemeral_5m_input_tokens=0), cache_creation_input_tokens=0, cache_read_input_tokens=0, input_tokens=20, output_tokens=39, server_tool_use=None, service_tier='standard'))"
            ]
          },
          "metadata": {},
          "execution_count": 28
        }
      ]
    },
    {
      "cell_type": "code",
      "source": [
        "#https://ai.google.dev/gemini-api/docs/api-key#macos---zsh\n",
        "from google import genai\n",
        "\n",
        "client = genai.Client(api_key=os.environ[\"GEMINI_API_KEY\"])\n",
        "\n",
        "response = client.models.generate_content(\n",
        "    model=\"gemini-2.5-flash\", contents=\"Explain how AI works in a few words\"\n",
        ")\n",
        "print(response.text)"
      ],
      "metadata": {
        "colab": {
          "base_uri": "https://localhost:8080/",
          "height": 391
        },
        "id": "1Uav9GY2O7Uc",
        "outputId": "340c6fe7-807f-43aa-9dbd-8182b737fca8"
      },
      "execution_count": null,
      "outputs": [
        {
          "output_type": "error",
          "ename": "ValueError",
          "evalue": "Missing key inputs argument! To use the Google AI API, provide (`api_key`) arguments. To use the Google Cloud API, provide (`vertexai`, `project` & `location`) arguments.",
          "traceback": [
            "\u001b[0;31m---------------------------------------------------------------------------\u001b[0m",
            "\u001b[0;31mValueError\u001b[0m                                Traceback (most recent call last)",
            "\u001b[0;32m/tmp/ipython-input-658431691.py\u001b[0m in \u001b[0;36m<cell line: 0>\u001b[0;34m()\u001b[0m\n\u001b[1;32m      2\u001b[0m \u001b[0;32mfrom\u001b[0m \u001b[0mgoogle\u001b[0m \u001b[0;32mimport\u001b[0m \u001b[0mgenai\u001b[0m\u001b[0;34m\u001b[0m\u001b[0;34m\u001b[0m\u001b[0m\n\u001b[1;32m      3\u001b[0m \u001b[0;34m\u001b[0m\u001b[0m\n\u001b[0;32m----> 4\u001b[0;31m \u001b[0mclient\u001b[0m \u001b[0;34m=\u001b[0m \u001b[0mgenai\u001b[0m\u001b[0;34m.\u001b[0m\u001b[0mClient\u001b[0m\u001b[0;34m(\u001b[0m\u001b[0;34m)\u001b[0m\u001b[0;34m\u001b[0m\u001b[0;34m\u001b[0m\u001b[0m\n\u001b[0m\u001b[1;32m      5\u001b[0m \u001b[0;34m\u001b[0m\u001b[0m\n\u001b[1;32m      6\u001b[0m response = client.models.generate_content(\n",
            "\u001b[0;32m/usr/local/lib/python3.12/dist-packages/google/genai/client.py\u001b[0m in \u001b[0;36m__init__\u001b[0;34m(self, vertexai, api_key, credentials, project, location, debug_config, http_options)\u001b[0m\n\u001b[1;32m    217\u001b[0m         \u001b[0mhttp_options\u001b[0m \u001b[0;34m=\u001b[0m \u001b[0mHttpOptions\u001b[0m\u001b[0;34m(\u001b[0m\u001b[0mbase_url\u001b[0m\u001b[0;34m=\u001b[0m\u001b[0mbase_url\u001b[0m\u001b[0;34m)\u001b[0m\u001b[0;34m\u001b[0m\u001b[0;34m\u001b[0m\u001b[0m\n\u001b[1;32m    218\u001b[0m \u001b[0;34m\u001b[0m\u001b[0m\n\u001b[0;32m--> 219\u001b[0;31m     self._api_client = self._get_api_client(\n\u001b[0m\u001b[1;32m    220\u001b[0m         \u001b[0mvertexai\u001b[0m\u001b[0;34m=\u001b[0m\u001b[0mvertexai\u001b[0m\u001b[0;34m,\u001b[0m\u001b[0;34m\u001b[0m\u001b[0;34m\u001b[0m\u001b[0m\n\u001b[1;32m    221\u001b[0m         \u001b[0mapi_key\u001b[0m\u001b[0;34m=\u001b[0m\u001b[0mapi_key\u001b[0m\u001b[0;34m,\u001b[0m\u001b[0;34m\u001b[0m\u001b[0;34m\u001b[0m\u001b[0m\n",
            "\u001b[0;32m/usr/local/lib/python3.12/dist-packages/google/genai/client.py\u001b[0m in \u001b[0;36m_get_api_client\u001b[0;34m(vertexai, api_key, credentials, project, location, debug_config, http_options)\u001b[0m\n\u001b[1;32m    263\u001b[0m       )\n\u001b[1;32m    264\u001b[0m \u001b[0;34m\u001b[0m\u001b[0m\n\u001b[0;32m--> 265\u001b[0;31m     return BaseApiClient(\n\u001b[0m\u001b[1;32m    266\u001b[0m         \u001b[0mvertexai\u001b[0m\u001b[0;34m=\u001b[0m\u001b[0mvertexai\u001b[0m\u001b[0;34m,\u001b[0m\u001b[0;34m\u001b[0m\u001b[0;34m\u001b[0m\u001b[0m\n\u001b[1;32m    267\u001b[0m         \u001b[0mapi_key\u001b[0m\u001b[0;34m=\u001b[0m\u001b[0mapi_key\u001b[0m\u001b[0;34m,\u001b[0m\u001b[0;34m\u001b[0m\u001b[0;34m\u001b[0m\u001b[0m\n",
            "\u001b[0;32m/usr/local/lib/python3.12/dist-packages/google/genai/_api_client.py\u001b[0m in \u001b[0;36m__init__\u001b[0;34m(self, vertexai, api_key, credentials, project, location, http_options)\u001b[0m\n\u001b[1;32m    656\u001b[0m     \u001b[0;32melse\u001b[0m\u001b[0;34m:\u001b[0m  \u001b[0;31m# Implicit initialization or missing arguments.\u001b[0m\u001b[0;34m\u001b[0m\u001b[0;34m\u001b[0m\u001b[0m\n\u001b[1;32m    657\u001b[0m       \u001b[0;32mif\u001b[0m \u001b[0;32mnot\u001b[0m \u001b[0mself\u001b[0m\u001b[0;34m.\u001b[0m\u001b[0mapi_key\u001b[0m\u001b[0;34m:\u001b[0m\u001b[0;34m\u001b[0m\u001b[0;34m\u001b[0m\u001b[0m\n\u001b[0;32m--> 658\u001b[0;31m         raise ValueError(\n\u001b[0m\u001b[1;32m    659\u001b[0m             \u001b[0;34m'Missing key inputs argument! To use the Google AI API,'\u001b[0m\u001b[0;34m\u001b[0m\u001b[0;34m\u001b[0m\u001b[0m\n\u001b[1;32m    660\u001b[0m             \u001b[0;34m' provide (`api_key`) arguments. To use the Google Cloud API,'\u001b[0m\u001b[0;34m\u001b[0m\u001b[0;34m\u001b[0m\u001b[0m\n",
            "\u001b[0;31mValueError\u001b[0m: Missing key inputs argument! To use the Google AI API, provide (`api_key`) arguments. To use the Google Cloud API, provide (`vertexai`, `project` & `location`) arguments."
          ]
        }
      ]
    },
    {
      "cell_type": "code",
      "source": [
        "from openai import OpenAI\n",
        "\n",
        "client = OpenAI(\n",
        "  base_url=\"https://openrouter.ai/api/v1\",\n",
        "  api_key=os.environ[\"OPENROUTER_API_KEY\"],\n",
        ")\n",
        "\n",
        "completion = client.chat.completions.create(\n",
        "  extra_headers={\n",
        "    \"HTTP-Referer\": \"<YOUR_SITE_URL>\", # Optional. Site URL for rankings on openrouter.ai.\n",
        "    \"X-Title\": \"<YOUR_SITE_NAME>\", # Optional. Site title for rankings on openrouter.ai.\n",
        "  },\n",
        "  extra_body={},\n",
        "  model=\"openai/gpt-oss-20b:free\",\n",
        "  messages=[\n",
        "    {\n",
        "      \"role\": \"user\",\n",
        "      \"content\": \"What is the meaning of life?\"\n",
        "    }\n",
        "  ]\n",
        ")\n",
        "print(completion.choices[0].message.content)"
      ],
      "metadata": {
        "colab": {
          "base_uri": "https://localhost:8080/"
        },
        "id": "ns2mfDHdRUdv",
        "outputId": "ef576620-3547-4313-fbee-f8182d0d707a"
      },
      "execution_count": null,
      "outputs": [
        {
          "output_type": "stream",
          "name": "stdout",
          "text": [
            "The question “What is the meaning of life?” has fascinated philosophers, theologians, scientists, artists, and ordinary people for centuries—and it probably won’t be settled by any single answer.  Most people find that the best way to approach it is to frame it in terms of values, goals, and personal significance rather than an objective universal truth.\n",
            "\n",
            "| Perspective | Core idea about meaning | How it can help you |\n",
            "|-------------|-----------------------|---------------------|\n",
            "| **Existentialist** (e.g., Sartre, Camus) | Life has no pre‑written purpose; we create our own through choices and actions. | Encourages personal responsibility, authenticity, and the freedom to shape your own story. |\n",
            "| **Religious/Spiritual** (e.g., Christianity, Buddhism, Hinduism, Islam, Indigenous traditions) | Meaning arises from connection to a higher power, community, or transcendent reality; often involves moral service, devotion, or enlightenment. | Provides a sense of belonging, moral guidance, and rituals that bring comfort and purpose. |\n",
            "| **Humanistic Psychology** (e.g., Maslow, Rogers) | The purpose is to realize one’s potential, achieve self‑actualization, and foster empathy. | Promotes personal growth, self‑reflection, and meaningful relationships. |\n",
            "| **Scientific/Speculative** (e.g., cosmology, evolutionary biology) | Life is a product of natural processes; meaning may be an emergent property of consciousness that attaches importance to experiences. | Helps appreciate the wonder of existence, encourages curiosity, and frames life as a rare evolutionary event. |\n",
            "| **Pragmatic/Service‑oriented** | Meaning is found in contributing to others, leaving a legacy, solving problems, or creating beauty. | Gives direction in career choices, hobbies, and volunteer work. |\n",
            "| **Communitarian/Collective** | Meaning emerges from relationships, community, culture, and shared rituals. | Encourages investing in family, friends, local groups, and societal improvement. |\n",
            "\n",
            "### A few ways to explore your own answer\n",
            "\n",
            "1. **Reflect on what brings you deep joy or a sense of flow.**  \n",
            "   Activities that absorb you (writing, coding, cooking, helping people, learning) often signal areas that matter to you.\n",
            "\n",
            "2. **Identify core values.**  \n",
            "   Ask yourself: What would I want to be remembered for? What principles would I stand by everything else vanished?\n",
            "\n",
            "3. **Set personal “mission statements.”**  \n",
            "   Tiny, actionable statements like “I’ll plant trees in my neighborhood” or “I’ll write a poem every month” can give life a concrete focus.\n",
            "\n",
            "4. **Seek community.**  \n",
            "   Shared projects or groups can amplify meaning—you give and receive.\n",
            "\n",
            "5. **Be open to change.**  \n",
            "   Life phases and experiences shift priorities. A flexible sense of purpose can adapt without losing coherence.\n",
            "\n",
            "### Acknowledging limits\n",
            "\n",
            "- **No universal answer.** Science can explain how life started; philosophy and religion can suggest *why*, but none can claim a single definitive answer that applies to everyone.\n",
            "- **Subjective truth.** Your meaning is personal. What feels profound to one person may seem ordinary to another, and that’s okay.\n",
            "\n",
            "### Bottom line\n",
            "\n",
            "The meaning of life is more a *personal project* than a fixed fact. It’s built from the stories you tell about yourself, the values you live by, the community you join, and the curiosity that fuels you. Start by asking what moves you, nurture that, and let your journey evolve. That ongoing creation—toward goals, towards others, toward a deeper understanding of yourself—often becomes the richest answer available.\n"
          ]
        }
      ]
    },
    {
      "cell_type": "code",
      "source": [
        "from openai import OpenAI\n",
        "\n",
        "client = OpenAI(\n",
        "  base_url=\"https://openrouter.ai/api/v1\",\n",
        "  api_key=os.environ[\"OPENROUTER_API_KEY\"],\n",
        ")\n",
        "\n",
        "completion = client.chat.completions.create(\n",
        "  extra_headers={\n",
        "    \"HTTP-Referer\": \"<YOUR_SITE_URL>\", # Optional. Site URL for rankings on openrouter.ai.\n",
        "    \"X-Title\": \"<YOUR_SITE_NAME>\", # Optional. Site title for rankings on openrouter.ai.\n",
        "  },\n",
        "  extra_body={},\n",
        "  model=\"deepseek/deepseek-r1-distill-llama-70b:free\",\n",
        "  messages=[\n",
        "    {\n",
        "      \"role\": \"user\",\n",
        "      \"content\": \"What is the meaning of life?\"\n",
        "    }\n",
        "  ]\n",
        ")\n",
        "print(completion.choices[0].message.content)"
      ],
      "metadata": {
        "colab": {
          "base_uri": "https://localhost:8080/"
        },
        "id": "CM1DHz4YUZ7J",
        "outputId": "07474868-d780-45f2-bca6-4f8812396c60"
      },
      "execution_count": null,
      "outputs": [
        {
          "output_type": "stream",
          "name": "stdout",
          "text": [
            "The question of the meaning of life is both profound and deeply personal. It has been explored by philosophers, scientists, religious leaders, and everyday people across cultures and generations. Ultimately, the meaning of life is subjective and can vary depending on an individual's beliefs, values, experiences, and perspective.\n",
            "\n",
            "Here are some common ways people approach this question:\n",
            "\n",
            "### 1. **Philosophical Perspectives:**\n",
            "   - **Existentialism:** Life’s meaning is something you create for yourself. There is no inherent or universal meaning, so it’s up to each individual to define their own purpose.\n",
            "   - **Stoicism:** The meaning of life is found in living in harmony with nature, focusing on what is within your control, and cultivating inner peace and resilience.\n",
            "   - **Hedonism:** Life’s meaning is found in seeking pleasure and avoiding pain, though this can be tempered by the idea of balance and not harming others.\n",
            "\n",
            "### 2. **Religious or Spiritual Beliefs:**\n",
            "   - Many religions and spiritual traditions offer answers to this question. For example:\n",
            "     - In **Christianity**, the meaning of life might be to know God and serve others.\n",
            "     - In **Buddhism**, the purpose is to achieve enlightenment and escape the cycle of suffering.\n",
            "     - In **Islam**, life’s purpose is to worship Allah and follow divine guidance.\n",
            "     - In **Hinduism**, the goal is to fulfill one’s dharma (duty), karma (actions), and ultimately achieve moksha (liberation).\n",
            "\n",
            "### 3. **Scientific Viewpoints:**\n",
            "   - From a **biological perspective**, life’s purpose could be seen as survival and reproduction, as these are the driving forces behind evolution.\n",
            "   - From a **cosmic perspective**, life might seem insignificant in the grand scheme of the universe, but the fact that we exist and can contemplate such questions is itself remarkable.\n",
            "\n",
            "### 4. **Personal Meaning:**\n",
            "   - Many people find meaning in life through relationships, creativity, work, hobbies, or helping others. For some, it’s about achieving personal growth, overcoming challenges, or pursuing passions.\n",
            "\n",
            "### 5. **Absurdism:**\n",
            "   - Inspired by philosophers like Albert Camus, absurdism posits that life has no inherent meaning, but we can create meaning by embracing the absurdity of existence and finding ways to live authentically.\n",
            "\n",
            "### 6. **Cultural and Social Context:**\n",
            "   - The meaning of life can also be shaped by cultural norms, societal expectations, and the broader community. For some, contributing to the greater good or leaving a lasting impact on the world is a source of meaning.\n",
            "\n",
            "### Conclusion:\n",
            "The meaning of life is not a one-size-fits-all answer. It’s something that many people grapple with throughout their lives, and it can evolve as they grow and experience new things. If you’re wondering about the meaning of life, reflecting on your own values, passions, and sense of purpose can be a good starting point.\n"
          ]
        }
      ]
    },
    {
      "cell_type": "code",
      "source": [
        "#Langchain\n",
        "#https://python.langchain.com/docs/introduction/\n",
        "!pip install -qU \"langchain[openai]\"\n",
        "!pip install -U langchain-anthropic\n",
        "\n"
      ],
      "metadata": {
        "colab": {
          "base_uri": "https://localhost:8080/"
        },
        "id": "6BrLTjmlVGhV",
        "outputId": "28f17579-90fb-4ec7-e740-d93e058e7994"
      },
      "execution_count": null,
      "outputs": [
        {
          "output_type": "stream",
          "name": "stdout",
          "text": [
            "Collecting langchain-anthropic\n",
            "  Downloading langchain_anthropic-0.3.19-py3-none-any.whl.metadata (1.9 kB)\n",
            "Requirement already satisfied: anthropic<1,>=0.64.0 in /usr/local/lib/python3.12/dist-packages (from langchain-anthropic) (0.64.0)\n",
            "Requirement already satisfied: langchain-core<1.0.0,>=0.3.74 in /usr/local/lib/python3.12/dist-packages (from langchain-anthropic) (0.3.74)\n",
            "Requirement already satisfied: pydantic<3.0.0,>=2.7.4 in /usr/local/lib/python3.12/dist-packages (from langchain-anthropic) (2.11.7)\n",
            "Requirement already satisfied: anyio<5,>=3.5.0 in /usr/local/lib/python3.12/dist-packages (from anthropic<1,>=0.64.0->langchain-anthropic) (4.10.0)\n",
            "Requirement already satisfied: distro<2,>=1.7.0 in /usr/local/lib/python3.12/dist-packages (from anthropic<1,>=0.64.0->langchain-anthropic) (1.9.0)\n",
            "Requirement already satisfied: httpx<1,>=0.25.0 in /usr/local/lib/python3.12/dist-packages (from anthropic<1,>=0.64.0->langchain-anthropic) (0.28.1)\n",
            "Requirement already satisfied: jiter<1,>=0.4.0 in /usr/local/lib/python3.12/dist-packages (from anthropic<1,>=0.64.0->langchain-anthropic) (0.10.0)\n",
            "Requirement already satisfied: sniffio in /usr/local/lib/python3.12/dist-packages (from anthropic<1,>=0.64.0->langchain-anthropic) (1.3.1)\n",
            "Requirement already satisfied: typing-extensions<5,>=4.10 in /usr/local/lib/python3.12/dist-packages (from anthropic<1,>=0.64.0->langchain-anthropic) (4.14.1)\n",
            "Requirement already satisfied: langsmith>=0.3.45 in /usr/local/lib/python3.12/dist-packages (from langchain-core<1.0.0,>=0.3.74->langchain-anthropic) (0.4.14)\n",
            "Requirement already satisfied: tenacity!=8.4.0,<10.0.0,>=8.1.0 in /usr/local/lib/python3.12/dist-packages (from langchain-core<1.0.0,>=0.3.74->langchain-anthropic) (8.5.0)\n",
            "Requirement already satisfied: jsonpatch<2.0,>=1.33 in /usr/local/lib/python3.12/dist-packages (from langchain-core<1.0.0,>=0.3.74->langchain-anthropic) (1.33)\n",
            "Requirement already satisfied: PyYAML>=5.3 in /usr/local/lib/python3.12/dist-packages (from langchain-core<1.0.0,>=0.3.74->langchain-anthropic) (6.0.2)\n",
            "Requirement already satisfied: packaging>=23.2 in /usr/local/lib/python3.12/dist-packages (from langchain-core<1.0.0,>=0.3.74->langchain-anthropic) (25.0)\n",
            "Requirement already satisfied: annotated-types>=0.6.0 in /usr/local/lib/python3.12/dist-packages (from pydantic<3.0.0,>=2.7.4->langchain-anthropic) (0.7.0)\n",
            "Requirement already satisfied: pydantic-core==2.33.2 in /usr/local/lib/python3.12/dist-packages (from pydantic<3.0.0,>=2.7.4->langchain-anthropic) (2.33.2)\n",
            "Requirement already satisfied: typing-inspection>=0.4.0 in /usr/local/lib/python3.12/dist-packages (from pydantic<3.0.0,>=2.7.4->langchain-anthropic) (0.4.1)\n",
            "Requirement already satisfied: idna>=2.8 in /usr/local/lib/python3.12/dist-packages (from anyio<5,>=3.5.0->anthropic<1,>=0.64.0->langchain-anthropic) (3.10)\n",
            "Requirement already satisfied: certifi in /usr/local/lib/python3.12/dist-packages (from httpx<1,>=0.25.0->anthropic<1,>=0.64.0->langchain-anthropic) (2025.8.3)\n",
            "Requirement already satisfied: httpcore==1.* in /usr/local/lib/python3.12/dist-packages (from httpx<1,>=0.25.0->anthropic<1,>=0.64.0->langchain-anthropic) (1.0.9)\n",
            "Requirement already satisfied: h11>=0.16 in /usr/local/lib/python3.12/dist-packages (from httpcore==1.*->httpx<1,>=0.25.0->anthropic<1,>=0.64.0->langchain-anthropic) (0.16.0)\n",
            "Requirement already satisfied: jsonpointer>=1.9 in /usr/local/lib/python3.12/dist-packages (from jsonpatch<2.0,>=1.33->langchain-core<1.0.0,>=0.3.74->langchain-anthropic) (3.0.0)\n",
            "Requirement already satisfied: orjson>=3.9.14 in /usr/local/lib/python3.12/dist-packages (from langsmith>=0.3.45->langchain-core<1.0.0,>=0.3.74->langchain-anthropic) (3.11.2)\n",
            "Requirement already satisfied: requests-toolbelt>=1.0.0 in /usr/local/lib/python3.12/dist-packages (from langsmith>=0.3.45->langchain-core<1.0.0,>=0.3.74->langchain-anthropic) (1.0.0)\n",
            "Requirement already satisfied: requests>=2.0.0 in /usr/local/lib/python3.12/dist-packages (from langsmith>=0.3.45->langchain-core<1.0.0,>=0.3.74->langchain-anthropic) (2.32.4)\n",
            "Requirement already satisfied: zstandard>=0.23.0 in /usr/local/lib/python3.12/dist-packages (from langsmith>=0.3.45->langchain-core<1.0.0,>=0.3.74->langchain-anthropic) (0.24.0)\n",
            "Requirement already satisfied: charset_normalizer<4,>=2 in /usr/local/lib/python3.12/dist-packages (from requests>=2.0.0->langsmith>=0.3.45->langchain-core<1.0.0,>=0.3.74->langchain-anthropic) (3.4.3)\n",
            "Requirement already satisfied: urllib3<3,>=1.21.1 in /usr/local/lib/python3.12/dist-packages (from requests>=2.0.0->langsmith>=0.3.45->langchain-core<1.0.0,>=0.3.74->langchain-anthropic) (2.5.0)\n",
            "Downloading langchain_anthropic-0.3.19-py3-none-any.whl (31 kB)\n",
            "Installing collected packages: langchain-anthropic\n",
            "Successfully installed langchain-anthropic-0.3.19\n"
          ]
        }
      ]
    },
    {
      "cell_type": "code",
      "source": [
        "import getpass\n",
        "import os\n",
        "\n",
        "if not os.environ.get(\"OPENAI_API_KEY\"):\n",
        "  os.environ[\"OPENAI_API_KEY\"] = getpass.getpass(\"Enter API key for OpenAI: \")\n",
        "\n",
        "from langchain.chat_models import init_chat_model\n",
        "\n",
        "model = init_chat_model(\"gpt-4o-mini\", model_provider=\"openai\")"
      ],
      "metadata": {
        "id": "r84ODw9ohFfg"
      },
      "execution_count": null,
      "outputs": []
    },
    {
      "cell_type": "code",
      "source": [
        "model"
      ],
      "metadata": {
        "colab": {
          "base_uri": "https://localhost:8080/"
        },
        "id": "lv9ETATChHCi",
        "outputId": "c689fa70-02c7-4a89-8f94-c92b9f55abbf"
      },
      "execution_count": null,
      "outputs": [
        {
          "output_type": "execute_result",
          "data": {
            "text/plain": [
              "ChatOpenAI(client=<openai.resources.chat.completions.completions.Completions object at 0x79062c28f500>, async_client=<openai.resources.chat.completions.completions.AsyncCompletions object at 0x79062c1b5b20>, root_client=<openai.OpenAI object at 0x79062bf70d40>, root_async_client=<openai.AsyncOpenAI object at 0x79062c1b50d0>, model_name='gpt-4o-mini', model_kwargs={}, openai_api_key=SecretStr('**********'))"
            ]
          },
          "metadata": {},
          "execution_count": 44
        }
      ]
    },
    {
      "cell_type": "code",
      "source": [
        "model.invoke(\"Hello, world!\").content\n",
        "\n"
      ],
      "metadata": {
        "colab": {
          "base_uri": "https://localhost:8080/",
          "height": 35
        },
        "id": "ZQJhVIqshRxU",
        "outputId": "b063c2b7-c782-4065-9e8c-076f1c9ebc9f"
      },
      "execution_count": null,
      "outputs": [
        {
          "output_type": "execute_result",
          "data": {
            "text/plain": [
              "'Hello! How can I assist you today?'"
            ],
            "application/vnd.google.colaboratory.intrinsic+json": {
              "type": "string"
            }
          },
          "metadata": {},
          "execution_count": 46
        }
      ]
    },
    {
      "cell_type": "code",
      "source": [
        "model = init_chat_model(\"claude-3-5-sonnet-latest\", model_provider=\"anthropic\")\n",
        "model.invoke(\"Hello, world!\").content\n"
      ],
      "metadata": {
        "colab": {
          "base_uri": "https://localhost:8080/",
          "height": 35
        },
        "id": "-iHceRIxhVel",
        "outputId": "7a947e34-b39c-45a1-97b7-761603fa88d6"
      },
      "execution_count": null,
      "outputs": [
        {
          "output_type": "execute_result",
          "data": {
            "text/plain": [
              "\"Hi! Nice to meet you. I'm here to help and chat. What's on your mind?\""
            ],
            "application/vnd.google.colaboratory.intrinsic+json": {
              "type": "string"
            }
          },
          "metadata": {},
          "execution_count": 49
        }
      ]
    },
    {
      "cell_type": "code",
      "source": [
        "#PROMPT ENGINEERING"
      ],
      "metadata": {
        "id": "ZA93nfWAhk__"
      },
      "execution_count": null,
      "outputs": []
    },
    {
      "cell_type": "code",
      "source": [
        "model = init_chat_model(\"gpt-4o-mini\", model_provider=\"openai\")\n",
        "for chunk in model.stream(\"Hello, world!\"):\n",
        "    print(chunk.content, end=\"\", flush=True)"
      ],
      "metadata": {
        "colab": {
          "base_uri": "https://localhost:8080/"
        },
        "id": "XS3zmtjkibUn",
        "outputId": "098a0a3d-f4c4-4bfa-a0e4-ee746a2a2c26"
      },
      "execution_count": null,
      "outputs": [
        {
          "output_type": "stream",
          "name": "stdout",
          "text": [
            "Hello! How can I assist you today?"
          ]
        }
      ]
    },
    {
      "cell_type": "code",
      "source": [
        "#1. CLEAR\n",
        "#2. CoT\n",
        "#3. ReAct"
      ],
      "metadata": {
        "id": "VUOv8wS-j5zy"
      },
      "execution_count": null,
      "outputs": []
    },
    {
      "cell_type": "markdown",
      "source": [
        "# CLEAR"
      ],
      "metadata": {
        "id": "vjabqV6dkO2x"
      }
    },
    {
      "cell_type": "code",
      "source": [
        "prompt = \"write a review on Inceptez\""
      ],
      "metadata": {
        "id": "VM40abJbkLkJ"
      },
      "execution_count": null,
      "outputs": []
    },
    {
      "cell_type": "code",
      "source": [
        "model = init_chat_model(\"gpt-3.5-turbo\", model_provider=\"openai\")\n",
        "for chunk in model.stream(prompt):\n",
        "    print(chunk.content, end=\"\", flush=True)"
      ],
      "metadata": {
        "colab": {
          "base_uri": "https://localhost:8080/"
        },
        "id": "GM652SSWkcbN",
        "outputId": "826abace-8877-4008-feb1-1d98fdd48a5b"
      },
      "execution_count": null,
      "outputs": [
        {
          "output_type": "stream",
          "name": "stdout",
          "text": [
            "Inceptez is truly a remarkable institution that offers top-notch training in the field of data science and analytics. I enrolled in their Data Science course and I must say, it exceeded all of my expectations.\n",
            "\n",
            "The instructors at Inceptez are highly knowledgeable and experienced professionals who are passionate about what they do. They not only teach the concepts in a clear and concise manner but also provide practical real-world examples that help in better understanding the subject matter.\n",
            "\n",
            "The course curriculum is well-structured and covers a wide range of topics such as machine learning, deep learning, data visualization, and more. Additionally, the hands-on projects and assignments gave me the opportunity to apply the knowledge that I gained in a real-world scenario.\n",
            "\n",
            "The support staff at Inceptez is also very helpful and responsive. They are always available to assist with any queries or concerns that I had during the course.\n",
            "\n",
            "Overall, I would highly recommend Inceptez to anyone looking to enhance their skills in data science and analytics. It's a fantastic place to learn and grow in this rapidly evolving field."
          ]
        }
      ]
    },
    {
      "cell_type": "code",
      "source": [
        "#C - Context, LE, A - Audience, R\n",
        "\n",
        "prompt = \"\"\"\n",
        "\n",
        "Context  : Tech Education Institute Review\n",
        "Audience : Tech-Proffesional Students\n",
        "\n",
        "write a review on Inceptez\"\"\"\n",
        "\n",
        "model = init_chat_model(\"gpt-3.5-turbo\", model_provider=\"openai\")\n",
        "for chunk in model.stream(prompt):\n",
        "    print(chunk.content, end=\"\", flush=True)"
      ],
      "metadata": {
        "colab": {
          "base_uri": "https://localhost:8080/"
        },
        "id": "m6G5kM21kfeh",
        "outputId": "d5138314-529b-4ccb-db6d-adf6d465ef0d"
      },
      "execution_count": null,
      "outputs": [
        {
          "output_type": "stream",
          "name": "stdout",
          "text": [
            "As a tech-professional student, I have thoroughly enjoyed my experience at Inceptez. The institute offers a wide range of courses in various technology domains, allowing students to choose their preferred specialization. The instructors are highly knowledgeable and experienced in their respective fields, providing valuable insights and practical learning experiences.\n",
            "\n",
            "One aspect that sets Inceptez apart is its focus on hands-on training and real-world projects. This approach has helped me gain a deeper understanding of the concepts and skills required in the tech industry. Additionally, the institute provides excellent support and guidance to students throughout their learning journey.\n",
            "\n",
            "The learning environment at Inceptez is conducive to growth and development, with state-of-the-art facilities and resources available to students. The institute also has a strong network of industry partners, providing opportunities for internships and job placements.\n",
            "\n",
            "Overall, I would highly recommend Inceptez to any tech-professional student looking to enhance their skills and advance their career in the tech industry. It has been a rewarding experience for me, and I am grateful for the knowledge and support I have gained from this institute."
          ]
        }
      ]
    },
    {
      "cell_type": "code",
      "source": [
        "#C - Context, L - Length, E, A - Audience, R\n",
        "prompt = \"\"\"\n",
        "\n",
        "Context  : Tech Education Institute Review\n",
        "Audience : Tech-Proffesional Students\n",
        "Length : Make it upto 150 words, In a Bullent points with each bullet point not extending to 30 words\n",
        "write a review on Inceptez\"\"\"\n",
        "\n",
        "model = init_chat_model(\"gpt-3.5-turbo\", model_provider=\"openai\")\n",
        "for chunk in model.stream(prompt):\n",
        "    print(chunk.content, end=\"\", flush=True)"
      ],
      "metadata": {
        "colab": {
          "base_uri": "https://localhost:8080/"
        },
        "id": "F8Rpf0Bbl5oa",
        "outputId": "a7d80bb7-3ed8-4345-9c50-38758c7071e1"
      },
      "execution_count": null,
      "outputs": [
        {
          "output_type": "stream",
          "name": "stdout",
          "text": [
            "- Inceptez offers a wide range of tech courses catering to various skill levels, from beginner to advanced.\n",
            "- The instructors are highly knowledgeable and experienced in their respective fields, providing valuable insights and practical knowledge.\n",
            "- The courses are well-structured and designed to keep up with the latest industry trends and technologies.\n",
            "- The hands-on projects and assignments help students apply their learning in real-world scenarios, enhancing their practical skills.\n",
            "- The career support services offered by Inceptez are invaluable, helping students with resume building, interview preparation, and job placement assistance.\n",
            "- The community and networking opportunities provided by Inceptez are great for connecting with industry professionals and peers.\n",
            "- Overall, Inceptez is a fantastic choice for tech professionals looking to upskill or specialize in a particular tech domain."
          ]
        }
      ]
    },
    {
      "cell_type": "code",
      "source": [
        "Inceptez is a top-notch tech education institute that provides industry-relevant\n",
        "courses for tech-professional students. The faculty is highly experienced and the curriculum is\n",
        "up-to-date with current market trends. The hands-on training and placement assistance make Inceptez a valuable choice\n",
        "for advancing your career in the tech industry.\n",
        "\n",
        "\n",
        "\n",
        "Inceptez is a top-notch tech education institute that provides excellent training for\n",
        "tech professionals. As a student, I have had a fantastic experience at Inceptez.\n",
        "The instructors are highly knowledgeable and skilled, providing hands-on training in the latest technologies.\n",
        "The curriculum is well-structured, covering a wide range of topics that are relevant to the tech industry.\n",
        "\n",
        "One of the things that sets Inceptez apart is their industry connections and placement assistance.\n",
        "They have tie-ups with leading tech companies, which opens up great job opportunities for students.\n",
        "The support staff is also very helpful and responsive, making the overall learning experience smooth and enjoyable.\n",
        "\n",
        "I highly recommend Inceptez to any tech professional looking to upskill or advance their career.\n",
        "It's definitely worth the investment, and I am confident that you will also have a wonderful learning experience here.\n"
      ],
      "metadata": {
        "id": "EYYVLMG1maam"
      },
      "execution_count": null,
      "outputs": []
    },
    {
      "cell_type": "code",
      "source": [
        "#C - Context, L - Length, E, A - Audience,E - Explicit, R\n",
        "\n",
        "prompt = \"\"\"\n",
        "\n",
        "Context  : Tech Education Institute Review\n",
        "Audience : Tech-Proffesional Students\n",
        "Length : Make it upto 150 words, In a Bullent points with each bullet point not extending to 30 words\n",
        "Explicit : Mention atleast two strentghts, and two weakness. Justify your claim with a short reason.\n",
        "write a review on Inceptez\"\"\"\n",
        "\n",
        "model = init_chat_model(\"gpt-3.5-turbo\", model_provider=\"openai\")\n",
        "for chunk in model.stream(prompt):\n",
        "    print(chunk.content, end=\"\", flush=True)"
      ],
      "metadata": {
        "colab": {
          "base_uri": "https://localhost:8080/"
        },
        "id": "E7_rd1Tvm8NX",
        "outputId": "52c960ea-143c-4d4f-ab2b-ce564e2c7c01"
      },
      "execution_count": null,
      "outputs": [
        {
          "output_type": "stream",
          "name": "stdout",
          "text": [
            "- Inceptez offers a comprehensive curriculum that covers a wide range of tech topics, providing a well-rounded education for students entering the industry.\n",
            "- The instructors at Inceptez are experienced professionals in the field, offering valuable insights and guidance to students.\n",
            "\n",
            "- On the downside, the course fees at Inceptez are on the higher side compared to other tech education institutes, which may be a barrier for some students.\n",
            "- Additionally, some students have reported that the course material can be overwhelming at times, requiring extra effort to keep up with the pace of the program. \n",
            "\n",
            "Overall, Inceptez is a solid choice for tech professionals looking to enhance their skills and knowledge in a supportive learning environment."
          ]
        }
      ]
    },
    {
      "cell_type": "code",
      "source": [
        "#C - Context, L - Length, E, A - Audience, E - Explicit, R - Reasoning\n",
        "\n",
        "prompt = \"\"\"\n",
        "\n",
        "Context  : Tech Education Institute Review\n",
        "Audience : Tech-Proffesional Students\n",
        "Length : Make it upto 150 words, In a Bullent points with each bullet point not extending to 30 words\n",
        "Explicit : Mention atleast two strentghts, and two weakness. Justify your claim with a short reason.\n",
        "Reasoning : Avoid Marketing languauge, Be truthfull in giving the response. add the reference review from the previous student to claim your justification in the previous step.\n",
        "write a review on Inceptez\"\"\"\n",
        "\n",
        "model = init_chat_model(\"gpt-3.5-turbo\", model_provider=\"openai\")\n",
        "for chunk in model.stream(prompt):\n",
        "    print(chunk.content, end=\"\", flush=True)"
      ],
      "metadata": {
        "colab": {
          "base_uri": "https://localhost:8080/"
        },
        "id": "o_u2qULwnTZz",
        "outputId": "222008cb-9d5e-48df-f8c2-be0f3ec0d3d4"
      },
      "execution_count": null,
      "outputs": [
        {
          "output_type": "stream",
          "name": "stdout",
          "text": [
            "Strengths:\n",
            "- Comprehensive curriculum covering relevant industry topics\n",
            "- Experienced instructors providing practical insights\n",
            "\n",
            "One student review states, \"I appreciated the in-depth discussions on machine learning algorithms. The instructors brought real-world examples and case studies that made the concepts easier to understand.\"\n",
            "\n",
            "Weaknesses:\n",
            "- Limited resources for hands-on practice\n",
            "- Limited networking opportunities with industry professionals\n",
            "\n",
            "Another student review mentions, \"I wish there were more opportunities to collaborate with industry professionals or participate in real-world projects to apply the skills we learned in class.\"\n",
            "\n",
            "In conclusion, Inceptez offers a solid educational foundation with knowledgeable instructors, but falls short in providing ample resources for practical application and industry connections."
          ]
        }
      ]
    },
    {
      "cell_type": "code",
      "source": [
        "#C - Context, L - Length, E, A - Audience, E - Explicit, R - Reasoning\n",
        "\n",
        "#Format\n",
        "prompt = \"\"\"\n",
        "\n",
        "Context  : Tech Education Institute Review\n",
        "Audience : Tech-Profesional Students\n",
        "Length : Make it upto 150 words, In a Bullent points with each bullet point not extending to 30 words\n",
        "Explicit : Mention atleast 5 strentghts, 3 weakness and a verdict whether to join or not and the instructor names and their streangth for the course learning. Justify your claim with a short reason.\n",
        "Reasoning : Avoid Marketing languauge, Be truthfull in giving the response. add the reference review from the previous student to claim your justification in the previous step.\n",
        "Format : Can you add bullet points whereever required and also add the table and give me the\n",
        "Strictly you csnnot hallucinate and give a made up response unless you find a clear proof\n",
        "always write the response with Grounded Fact.\n",
        "\n",
        "write a review on Inceptez\"\"\"\n",
        "\n",
        "model = init_chat_model(\"gpt-4o\", model_provider=\"openai\")\n",
        "for chunk in model.stream(prompt):\n",
        "    print(chunk.content, end=\"\", flush=True)"
      ],
      "metadata": {
        "colab": {
          "base_uri": "https://localhost:8080/"
        },
        "id": "X_ufKIPhoL4r",
        "outputId": "7cea5df7-dcef-47ca-b173-b6dea58b6d5b"
      },
      "execution_count": null,
      "outputs": [
        {
          "output_type": "stream",
          "name": "stdout",
          "text": [
            "Unfortunately, I lack access to specific external documents or databases, so I cannot provide a review based on external references or specific student feedback about Inceptez. If you have insights or information about this institution, I can help you structure them into a coherent review. If you're looking for general guidance on how to create such a review, here's a template you might follow:\n",
            "\n",
            "---\n",
            "\n",
            "**Inceptez Review for Tech-Professional Students**\n",
            "\n",
            "**Strengths:**\n",
            "- **Experienced Instructors:** Courses are led by industry experts like [Instructor Name], known for their practical insights and effective teaching methods.\n",
            "- **Comprehensive Curriculum:** Offers a well-rounded curriculum covering the latest industry trends, beneficial for staying updated.\n",
            "\n",
            "**Weaknesses:**\n",
            "- **Limited Hands-on Projects:** Some students reported a need for more practical, project-based learning experiences.\n",
            "- **Inconsistent Course Updates:** A few courses may not be updated regularly, which can lag behind current tech advancements.\n",
            "\n",
            "**Student Feedback Reference:**\n",
            "- A past student mentioned, \"The curriculum is strong, but additional hands-on projects and frequent updates could enhance learning.\"\n",
            "\n",
            "**Verdict:**\n",
            "- **Join if:** You seek strong foundational knowledge and insights from experienced professionals.\n",
            "- **Consider alternatives if:** Hands-on projects and constant curriculum updates are your priority.\n",
            "\n",
            "---\n",
            "\n",
            "Please fill in the instructor names and specific details if you have access to particular information."
          ]
        }
      ]
    },
    {
      "cell_type": "code",
      "source": [
        "# CoT - Chain of thought"
      ],
      "metadata": {
        "id": "IvdJa8sip1MJ"
      },
      "execution_count": null,
      "outputs": []
    },
    {
      "cell_type": "code",
      "source": [
        "\n",
        "prompt = \"\"\"\n",
        "what is 27 * 42?\n",
        "\n",
        "\"\"\"\n",
        "\n",
        "model = init_chat_model(\"gpt-3.5-turbo\", model_provider=\"openai\")\n",
        "for chunk in model.stream(prompt):\n",
        "    print(chunk.content, end=\"\", flush=True)"
      ],
      "metadata": {
        "colab": {
          "base_uri": "https://localhost:8080/"
        },
        "id": "YKefVg2dtioy",
        "outputId": "4bf572e2-197f-4d93-f3c8-48cfbe4e456f"
      },
      "execution_count": null,
      "outputs": [
        {
          "output_type": "stream",
          "name": "stdout",
          "text": [
            "27 * 42 = 1134"
          ]
        }
      ]
    },
    {
      "cell_type": "code",
      "source": [
        "prompt = \"\"\"\n",
        "Explain step by step. how to compute 27 * 42. and then give the result?\n",
        "\n",
        "\"\"\"\n",
        "\n",
        "model = init_chat_model(\"gpt-3.5-turbo\", model_provider=\"openai\")\n",
        "for chunk in model.stream(prompt):\n",
        "    print(chunk.content, end=\"\", flush=True)"
      ],
      "metadata": {
        "colab": {
          "base_uri": "https://localhost:8080/"
        },
        "id": "unr-CotLt5xq",
        "outputId": "0a880552-f50f-426b-b2d7-f4a098a1f6d6"
      },
      "execution_count": null,
      "outputs": [
        {
          "output_type": "stream",
          "name": "stdout",
          "text": [
            "To compute 27 multiplied by 42, follow these steps:\n",
            "\n",
            "1. Write down the two numbers vertically, with one on top of the other:\n",
            "\n",
            "     27\n",
            "   x 42\n",
            "\n",
            "2. Start by multiplying the units digit of the bottom number (2) by the top number (27). \n",
            "\n",
            "   27\n",
            " x 42\n",
            "---\n",
            "  54\n",
            "\n",
            "3. Write down the result below the line:\n",
            "\n",
            "     27\n",
            "   x 42\n",
            "------\n",
            "    54\n",
            "\n",
            "4. Next, move to the tens digit of the bottom number (4) and repeat the multiplication process, but this time, shift one place to the left (since we are now dealing with the tens place):\n",
            "\n",
            "     27\n",
            "   x 42\n",
            "------\n",
            "    108\n",
            "\n",
            "5. Write down the result below the line:\n",
            "\n",
            "     27\n",
            "   x 42\n",
            "------\n",
            "   1080\n",
            "\n",
            "6. Now, add up the two results:\n",
            "\n",
            "   1080\n",
            "+   54\n",
            "--------\n",
            "   1134\n",
            "\n",
            "Therefore, 27 multiplied by 42 equals 1134."
          ]
        }
      ]
    },
    {
      "cell_type": "code",
      "source": [
        "prompt = \"\"\"\n",
        "Persona: You are a pateint math tutor\n",
        "Instruction: show the multiplication step by step. label each step and then provide the final result under  'Answer :'\n",
        "Explain step by step. how to compute 27 * 42. and then give the result?\n",
        "\n",
        "\"\"\"\n",
        "model = init_chat_model(\"gpt-3.5-turbo\", model_provider=\"openai\")\n",
        "for chunk in model.stream(prompt):\n",
        "    print(chunk.content, end=\"\", flush=True)"
      ],
      "metadata": {
        "colab": {
          "base_uri": "https://localhost:8080/"
        },
        "id": "W1fnXQ4auQxz",
        "outputId": "bb958148-618f-450f-a5fe-9cf69a5224ac"
      },
      "execution_count": null,
      "outputs": [
        {
          "output_type": "stream",
          "name": "stdout",
          "text": [
            "Step 1: Start by multiplying the ones digits of both numbers. \n",
            "7 * 2 = 14. Write down 4 and carry over 1.\n",
            "\n",
            "Step 2: Multiply the tens digit of the first number by the ones digit of the second number.\n",
            "2 * 7 = 14. Add the carried 1 from the previous step.\n",
            "14 + 1 = 15. Write down 5 and carry over 1.\n",
            "\n",
            "Step 3: Multiply the tens digit of the second number by the ones digit of the first number.\n",
            "4 * 7 = 28. Add the carried 1 from the previous step.\n",
            "28 + 1 = 29. Write down 9 and carry over 2.\n",
            "\n",
            "Step 4: Multiply the tens digits of both numbers.\n",
            "2 * 4 = 8. Add the carried 2 from the previous step.\n",
            "8 + 2 = 10. Write down 10.\n",
            "\n",
            "Step 5: Now, add up all the results you've written down.\n",
            "10(100s place) 9(10s place) 5(1s place) = 1134.\n",
            "\n",
            "Answer: 27 * 42 = 1134."
          ]
        }
      ]
    },
    {
      "cell_type": "code",
      "source": [
        "prompt = \"\"\"\n",
        "Persona: You are a experienced travel advisory\n",
        "Instruction: show the  step by step. label each step and then provide the final result under  'Answer :'\n",
        "Explain step by step. I want to reach Spain from Dubabi to spend there 2 days and come back?\n",
        "Constraint: 500 USD\n",
        "Person count: 2\n",
        "Days : 2\n",
        "Preference: Strictly I cannot take a travel in Flight.\n",
        "\"\"\"\n",
        "model = init_chat_model(\"gpt-3.5-turbo\", model_provider=\"openai\")\n",
        "for chunk in model.stream(prompt):\n",
        "    print(chunk.content, end=\"\", flush=True)"
      ],
      "metadata": {
        "colab": {
          "base_uri": "https://localhost:8080/"
        },
        "id": "E5Dujkt6vCdL",
        "outputId": "138d3b4f-15b4-4b24-cbb7-0a8e9d9cc4e3"
      },
      "execution_count": null,
      "outputs": [
        {
          "output_type": "stream",
          "name": "stdout",
          "text": [
            "Step 1: Research and decide on the mode of transportation. Since you cannot take a flight, consider taking a train or bus to travel from Dubai to Spain.\n",
            "\n",
            "Step 2: Check for available train or bus routes from Dubai to Spain. Research the duration of the journey and the cost of tickets to ensure it fits within your budget of 500 USD.\n",
            "\n",
            "Step 3: Book tickets for a train or bus journey from Dubai to Spain for 2 passengers. Make sure to select a route that allows you to reach Spain within the allocated 2 days.\n",
            "\n",
            "Step 4: Plan your itinerary in Spain for the 2 days. Research and decide on the places you want to visit, activities you want to do, and accommodations within your budget.\n",
            "\n",
            "Step 5: Enjoy your time in Spain for 2 days, making the most of your experience within the constraints of your budget and travel preferences.\n",
            "\n",
            "Answer: You successfully traveled from Dubai to Spain and spent 2 days in Spain while staying within your budget of 500 USD, without taking a flight."
          ]
        }
      ]
    },
    {
      "cell_type": "code",
      "source": [
        "prompt = \"\"\"\n",
        "Where will be a coT prompt will be helpful, Give me an application in realtime?\n",
        "\"\"\"\n",
        "model = init_chat_model(\"gpt-3.5-turbo\", model_provider=\"openai\")\n",
        "for chunk in model.stream(prompt):\n",
        "    print(chunk.content, end=\"\", flush=True)"
      ],
      "metadata": {
        "colab": {
          "base_uri": "https://localhost:8080/"
        },
        "id": "TW9QAEcav_St",
        "outputId": "0efcb961-2186-4b9c-b5db-4365bd661b51"
      },
      "execution_count": null,
      "outputs": [
        {
          "output_type": "stream",
          "name": "stdout",
          "text": [
            "A Cot prompt can be helpful in real-time during a customer service interaction. For example, if a customer is having trouble with a product or service and is chatting with a customer service representative online, a Cot prompt could be used to guide the representative on how to best assist the customer. The prompt could provide suggested responses, troubleshooting steps, or information on company policies to help resolve the issue quickly and efficiently. This can improve the overall customer experience and ensure that the customer's needs are met in a timely manner."
          ]
        }
      ]
    },
    {
      "cell_type": "code",
      "source": [
        "A Cot prompt can be helpful in real-time during a customer service interaction.\n",
        "For example, if a customer is having trouble with a product or service and is chatting with a\n",
        "customer service representative online, a Cot prompt could be used to guide the representative on how to best assist the customer.\n",
        "The prompt could provide suggested responses, troubleshooting steps, or information on company policies to help resolve the issue quickly and\n",
        "efficiently. This can improve the overall customer experience and ensure that the customer's needs are met in a timely manner.\n",
        "\n"
      ],
      "metadata": {
        "id": "0YDhUYOkxCR2"
      },
      "execution_count": null,
      "outputs": []
    },
    {
      "cell_type": "markdown",
      "source": [
        "# ReAct"
      ],
      "metadata": {
        "id": "FS8ap7IbzCwi"
      }
    },
    {
      "cell_type": "code",
      "source": [],
      "metadata": {
        "id": "N9FJk40MzAJz"
      },
      "execution_count": null,
      "outputs": []
    }
  ]
}