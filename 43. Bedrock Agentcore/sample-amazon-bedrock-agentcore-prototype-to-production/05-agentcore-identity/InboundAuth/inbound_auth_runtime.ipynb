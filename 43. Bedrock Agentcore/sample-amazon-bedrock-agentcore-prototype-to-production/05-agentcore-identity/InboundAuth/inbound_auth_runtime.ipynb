{
 "cells": [
  {
   "cell_type": "markdown",
   "id": "5c0122e65c053f38",
   "metadata": {},
   "source": [
    "# Agentcore Inbound Auth\n",
    "\n",
    "AgentCore Identity lets you validate inbound access (Inbound Auth) for users and applications calling agents or tools in an AgentCore Runtime or validate access to AgentCore Gateway targets. It also provide secure outbound access (Outbound Auth) from an agent to external services or a Gateway target. It integrates with your existing identity providers (such as Amazon Cognito) while enforcing permission boundaries for agents acting independently or on behalf of users (via OAuth).\n",
    "\n",
    "Inbound Auth validates callers attempting to invoke agents or tools, whether they're hosted in AgentCore Runtime, AgentCore Gateway , or in other environments. Inbound Auth works with IAM (SigV4 credentials) or with OAuth authorization.\n",
    "\n",
    "By default, Amazon Bedrock AgentCore uses IAM credentials, meaning user requests to the agent are authenticated with the user's IAM credentials. If you use OAuth, you will need to specify the following when configuring your AgentCore Runtime resources or AgentCore Gateway endpoints:\n",
    "\n",
    "- OAuth discovery server Url — A string that must match the pattern ^.+/\\.well-known/openid-configuration$ for OpenID Connect discovery URLs\n",
    "\n",
    "- Allowed audiences — List of allowed audiences for JWT tokens\n",
    "\n",
    "- Allowed clients — List of allowed client identifiers\n",
    "\n",
    "Before the user can call the agent, the client application must have the user authenticate with the OAuth authorizer. Your client receives a bearer token which it then passes to the agent in an invocation request. Upon receipt the agent validates the token with the authorization server before allowing access.\n",
    "\n",
    "## About this Notebook\n",
    "\n",
    "In this notebook, we will modify the mortgage assistant agent you deployed in 04-agentcore-gateway and configure it for Inbound Auth using Cognito as the Identity Provider. You will set up a Cognito User pool with one user and an app client. You will learn how to host your existing agent, using Amazon Bedrock AgentCore Runtime with Inbound Auth using the Cognito user pool. \n",
    "\n",
    "## Architecture\n",
    "\n",
    "![Inbound Auth Architecture](../images/inbound-auth.png)\n",
    "\n",
    "## Key Features\n",
    "\n",
    "* Hosting Agents on Amazon Bedrock AgentCore Runtime with Inbound Auth using Amazon Cognito"
   ]
  },
  {
   "cell_type": "markdown",
   "id": "46ac3dfb",
   "metadata": {},
   "source": [
    "## Setting up Amazon Cognito for Authentication\n",
    "\n",
    "Lets provision a Cognito Userpool with an App client and one test user. We'll use Amazon Cognito to provide JWT tokens for accessing our deployed MCP server. To do so, we will use the `setup_cognito_user_pool` support function from our `utils` script."
   ]
  },
  {
   "cell_type": "code",
   "execution_count": null,
   "id": "d8af4d14",
   "metadata": {},
   "outputs": [],
   "source": [
    "import utils\n",
    "\n",
    "cognito_config = utils.setup_cognito_user_pool()\n",
    "\n",
    "user_pool_id = cognito_config['pool_id']\n",
    "discovery_url = cognito_config['discovery_url']\n",
    "client_id = cognito_config['client_id']\n",
    "bearer_token = cognito_config['bearer_token']\n",
    "\n",
    "print(f\"user_pool_id: {user_pool_id}\")\n",
    "print(f\"discovery_url: {discovery_url}\")\n",
    "print(f\"client_id: {client_id}\")\n",
    "print(f\"bearer_token: {bearer_token}\")"
   ]
  },
  {
   "cell_type": "markdown",
   "id": "932110e6-fca6-47b6-b7c5-c4714a866a80",
   "metadata": {},
   "source": [
    "## Preparing your agent for deployment on AgentCore Runtime\n",
    "\n",
    "Let's start with our Strands Agent we created in the 04-agentcore-gateway and configure it with Inbound Auth that uses Amazon Cognito as the Identity Provider."
   ]
  },
  {
   "cell_type": "markdown",
   "id": "8855aceb-b79f-4aaa-b16f-8577c059816a",
   "metadata": {},
   "source": [
    "### Configure AgentCore Runtime\n",
    "\n",
    "Next we will use our starter toolkit to configure the AgentCore Runtime deployment with an entrypoint, the execution role we just created and a requirements file. We will also configure the starter kit to auto create the Amazon ECR repository on launch.\n",
    "\n",
    "During the configure step, your docker file will be generated based on your application code\n",
    "\n",
    "**Important** - Update the Cognito Discovery url and the Cognito App client id from the previous steps."
   ]
  },
  {
   "cell_type": "code",
   "execution_count": null,
   "id": "3b845b32-a03e-45c2-a2f0-2afba8069f47",
   "metadata": {},
   "outputs": [],
   "source": [
    "from bedrock_agentcore_starter_toolkit import Runtime\n",
    "from boto3.session import Session\n",
    "boto_session = Session()\n",
    "region = boto_session.region_name\n",
    "\n",
    "agentcore_runtime = Runtime()\n",
    "agent_name = \"mortgage_assistant\"\n",
    "agentcore_gateway_iam_role = utils.create_agentcore_role(agent_name)\n",
    "\n",
    "response = agentcore_runtime.configure(\n",
    "    entrypoint=\"mortgage_agent_runtime_gw.py\",\n",
    "    execution_role=agentcore_gateway_iam_role['Role']['Arn'],\n",
    "    auto_create_ecr=True,\n",
    "    requirements_file=\"requirements.txt\",\n",
    "    region=region,\n",
    "    agent_name=agent_name,\n",
    "    authorizer_configuration={\n",
    "        \"customJWTAuthorizer\": {\n",
    "            \"discoveryUrl\": discovery_url,\n",
    "            \"allowedClients\": [client_id]\n",
    "        }\n",
    "    }\n",
    ")\n",
    "response"
   ]
  },
  {
   "cell_type": "markdown",
   "id": "9e1b84cc-798e-472c-ac0b-2c315f4b704d",
   "metadata": {},
   "source": [
    "### Launching agent to AgentCore Runtime\n",
    "\n",
    "Now let's launch the agent to the AgentCore Runtime. "
   ]
  },
  {
   "cell_type": "code",
   "execution_count": null,
   "id": "17a32ab8-7701-4900-8055-e24364bdf35c",
   "metadata": {},
   "outputs": [],
   "source": [
    "launch_result = agentcore_runtime.launch(auto_update_on_conflict=True)\n",
    "launch_result"
   ]
  },
  {
   "cell_type": "markdown",
   "id": "a0ae9c09-09db-4a76-871a-92eacd96b9c3",
   "metadata": {},
   "source": [
    "### Checking for the AgentCore Runtime Status\n",
    "Now that we've deployed the AgentCore Runtime, let's check for it's deployment status"
   ]
  },
  {
   "cell_type": "code",
   "execution_count": null,
   "id": "afa6ac09-9adb-4846-9fc1-4d12aeb74853",
   "metadata": {},
   "outputs": [],
   "source": [
    "status_response = agentcore_runtime.status()\n",
    "status = status_response.endpoint['status']\n",
    "end_status = ['READY', 'CREATE_FAILED', 'DELETE_FAILED', 'UPDATE_FAILED']\n",
    "while status not in end_status:\n",
    "    time.sleep(10)\n",
    "    status_response = agentcore_runtime.status()\n",
    "    status = status_response.endpoint['status']\n",
    "    print(status)\n",
    "status"
   ]
  },
  {
   "cell_type": "markdown",
   "id": "b7f89c56-918a-4cab-beaa-c7ac43a2ba29",
   "metadata": {},
   "source": [
    "### Invoking AgentCore Runtime without authorization\n",
    "\n",
    "Finally, we can invoke our AgentCore Runtime with a payload. Try running the following cell and we expect to see an error that says \n",
    "\n",
    "**\"AccessDeniedException: An error occurred (AccessDeniedException) when calling the InvokeAgentRuntime operation: Agent is configured for a different authorization token type\".**"
   ]
  },
  {
   "cell_type": "code",
   "execution_count": null,
   "id": "3d909e42-e1a0-407f-84c2-3d16cc889cd3",
   "metadata": {
    "scrolled": true
   },
   "outputs": [],
   "source": [
    "invoke_response = agentcore_runtime.invoke({\"prompt\": \"What are the benefits of a 15-year mortgage?\"})\n",
    "invoke_response"
   ]
  },
  {
   "cell_type": "markdown",
   "id": "18d0d295-8279-499a-9a1b-3310086cf493",
   "metadata": {},
   "source": [
    "### Invoking AgentCore Runtime with authorization\n",
    "\n",
    "Lets invoke the agent with the right authorization token type. In our case, it will be the Cognito access token. "
   ]
  },
  {
   "cell_type": "code",
   "execution_count": null,
   "id": "988961ad-75d1-42bd-94e1-c3add05363c0",
   "metadata": {},
   "outputs": [],
   "source": [
    "import json\n",
    "\n",
    "def print_response_text(invoke_response):\n",
    "    response_bytes=invoke_response['response']\n",
    "    response_strings = [item for item in response_bytes]\n",
    "    # print(response_bytes)\n",
    "    response_combined_string = \"\".join(response_strings)\n",
    "    # print(response_combined_string)\n",
    "    \n",
    "    response_dict = json.loads(response_combined_string)\n",
    "    response_text=response_dict[\"result\"][\"content\"][0][\"text\"]\n",
    "    print(response_text)"
   ]
  },
  {
   "cell_type": "code",
   "execution_count": null,
   "id": "ab9e0379-00ab-4940-92d0-7a444b3dbb8b",
   "metadata": {},
   "outputs": [],
   "source": [
    "bearer_token = utils.reauthenticate_user(client_id)\n",
    "\n",
    "invoke_response = agentcore_runtime.invoke(\n",
    "    {\"prompt\": \"what is the credit score for me? my customer id is 1234\"}, \n",
    "    bearer_token=bearer_token\n",
    ")"
   ]
  },
  {
   "cell_type": "code",
   "execution_count": null,
   "id": "e53d5095-b509-462b-ad02-6f51a57e6ca5",
   "metadata": {},
   "outputs": [],
   "source": [
    "print_response_text(invoke_response)"
   ]
  },
  {
   "cell_type": "markdown",
   "id": "b118ad38-feeb-4d1d-9d57-e5c845becc56",
   "metadata": {},
   "source": [
    "### 🎉 Congratulation! \n",
    "You have added inbound authentication to your multi-agent Mortgage Assistant. "
   ]
  },
  {
   "cell_type": "code",
   "execution_count": null,
   "id": "f022fbb6-17f3-4cc8-931d-7af3dfc28a4d",
   "metadata": {},
   "outputs": [],
   "source": []
  }
 ],
 "metadata": {
  "kernelspec": {
   "display_name": "Python 3 (ipykernel)",
   "language": "python",
   "name": "python3"
  },
  "language_info": {
   "codemirror_mode": {
    "name": "ipython",
    "version": 3
   },
   "file_extension": ".py",
   "mimetype": "text/x-python",
   "name": "python",
   "nbconvert_exporter": "python",
   "pygments_lexer": "ipython3",
   "version": "3.12.11"
  }
 },
 "nbformat": 4,
 "nbformat_minor": 5
}
