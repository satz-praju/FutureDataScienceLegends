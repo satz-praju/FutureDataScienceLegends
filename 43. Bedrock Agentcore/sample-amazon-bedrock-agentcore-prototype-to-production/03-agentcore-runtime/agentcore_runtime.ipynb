{
 "cells": [
  {
   "cell_type": "markdown",
   "id": "43f3cb3a",
   "metadata": {},
   "source": [
    "## Deploying the agent to AgentCore Runtime"
   ]
  },
  {
   "cell_type": "markdown",
   "id": "eaf1d5df",
   "metadata": {},
   "source": [
    "### Setup and Configuration\n",
    "\n",
    "We'll start by setting up the Bedrock AgentCore starter toolkit\n",
    "\n",
    "The [Bedrock AgentCore Starter Toolkit](https://github.com/aws/bedrock-agentcore-starter-toolkit/) is a lightweight Python wrapper that streamlines deploying and managing AI agents on AWS Bedrock AgentCore. The toolkit acts as a thin layer over AWS Bedrock AgentCore's control and data plane APIs, automating infrastructure provisioning (ECR repositories, IAM roles, CodeBuild projects) and managing agent state through a .bedrock_agentcore.yaml configuration file. It provides both CLI and notebook interfaces that orchestrate the complete agent lifecycle - from initial configuration and containerization to cloud deployment and invocation. It supports multiple deployment modes (local development, cloud deployment with CodeBuild for ARM64 builds) and handles authentication patterns (JWT, OAuth, IAM) and protocol interfaces (HTTP, Model Context Protocol), enabling developers to focus on building agents rather than wrestling with AWS service integration details."
   ]
  },
  {
   "cell_type": "code",
   "execution_count": null,
   "id": "a7382958",
   "metadata": {},
   "outputs": [],
   "source": [
    "import os\n",
    "import random, string\n",
    "from bedrock_agentcore_starter_toolkit import Runtime\n",
    "import boto3\n",
    "boto_session = boto3.Session()\n",
    "region = boto_session.region_name\n",
    "\n",
    "\n",
    "print(f\"current region: {region}\")\n",
    "account_id = boto_session.client(\"sts\").get_caller_identity()[\"Account\"]\n",
    "print(f\"current account: {account_id}\")\n",
    "\n",
    "agentcore_runtime = Runtime()\n"
   ]
  },
  {
   "cell_type": "markdown",
   "id": "930ecf33",
   "metadata": {},
   "source": [
    "### Create IAM Execution Role\n",
    "\n",
    "The AgentCore runtime requires an IAM role with specific permissions to:\n",
    "- Access Bedrock models for AI inference\n",
    "- Retrieve from knowledge bases (KB)\n",
    "- Write to CloudWatch logs\n",
    "- Access SSM Parameter for KB ID\n",
    "- Pull/push Docker images to ECR\n",
    "\n",
    "We'll create this role using our predefined policy templates that include all necessary permissions."
   ]
  },
  {
   "cell_type": "code",
   "execution_count": null,
   "id": "217e795d",
   "metadata": {},
   "outputs": [],
   "source": [
    "# Load policy from external file\n",
    "with open('policy.json', 'r') as f:\n",
    "    policy_template = f.read()\n",
    "\n",
    "# load trust policy from external file\n",
    "with open('trust-policy.json', 'r') as f:\n",
    "    trust_policy_template = f.read()\n",
    "\n",
    "policy = policy_template.replace('REGION', region).replace('ACCOUNT_ID', account_id).replace('REPO_ARN', '*')\n",
    "print(f\"Policy loaded and updated with region: {region}, account: {account_id}\")\n",
    "\n",
    "trust_policy = trust_policy_template.replace('REGION', region).replace('ACCOUNT_ID', account_id)\n",
    "\n",
    "# create IAM role using the policies\n",
    "suffix = random.choices(string.ascii_lowercase + string.digits, k=8)\n",
    "iam_client = boto3.client('iam')\n",
    "role_name = f\"bedrock-runtime-execution-role-{''.join(suffix)}\"\n",
    "\n",
    "role = iam_client.create_role(\n",
    "    RoleName=role_name,\n",
    "    AssumeRolePolicyDocument=trust_policy\n",
    ")\n",
    "\n",
    "iam_client.put_role_policy(\n",
    "    RoleName=role_name,\n",
    "    PolicyName='bedrock-runtime-execution-policy',\n",
    "    PolicyDocument=policy\n",
    ")"
   ]
  },
  {
   "cell_type": "markdown",
   "id": "e5b9a610",
   "metadata": {},
   "source": [
    "### Configure Agent Deployment\n",
    "\n",
    "The `configure()` method sets up the deployment infrastructure:\n",
    "\n",
    "\n",
    "**What happens during configuration:**\n",
    "- Creates ECR repository and IAM role (if needed)\n",
    "- Generates Dockerfile and .dockerignore for containerization\n",
    "- Creates `.bedrock_agentcore.yaml` configuration file"
   ]
  },
  {
   "cell_type": "code",
   "execution_count": null,
   "id": "44b4922f",
   "metadata": {},
   "outputs": [],
   "source": [
    "agent_name = \"mortgage_assistant\"\n",
    "response = agentcore_runtime.configure(\n",
    "    entrypoint=\"mortgage_agent_runtime.py\",\n",
    "    execution_role=role['Role']['Arn'],\n",
    "    # auto_create_execution_role=True,\n",
    "    auto_create_ecr=True,\n",
    "    requirements_file=\"requirements.txt\",\n",
    "    region=region,\n",
    "    agent_name=agent_name\n",
    ")\n",
    "response"
   ]
  },
  {
   "cell_type": "markdown",
   "id": "2f83adc4",
   "metadata": {},
   "source": [
    "### Launch Agent Runtime\n",
    "\n",
    "The `launch()` method triggers a CodeBuild job that:\n",
    "\n",
    "1. **Pre-build**: Authenticates with ECR registry\n",
    "2. **Build**: Creates ARM64 Docker image with your agent code\n",
    "3. **Post-build**: Pushes image to ECR and creates a Bedrock AgentCore runtime and deploys the agent"
   ]
  },
  {
   "cell_type": "code",
   "execution_count": null,
   "id": "589d3278",
   "metadata": {},
   "outputs": [],
   "source": [
    "launch_result = agentcore_runtime.launch()"
   ]
  },
  {
   "cell_type": "markdown",
   "id": "3e2a8579",
   "metadata": {},
   "source": [
    "Lets check the status of the agentcore runtime"
   ]
  },
  {
   "cell_type": "code",
   "execution_count": null,
   "id": "8c7dcebb",
   "metadata": {},
   "outputs": [],
   "source": [
    "import time\n",
    "status_response = agentcore_runtime.status()\n",
    "status = status_response.endpoint['status']\n",
    "end_status = ['READY', 'CREATE_FAILED', 'DELETE_FAILED', 'UPDATE_FAILED']\n",
    "while status not in end_status:\n",
    "    time.sleep(10)\n",
    "    status_response = agentcore_runtime.status()\n",
    "    status = status_response.endpoint['status']\n",
    "    print(status)\n",
    "print(status)"
   ]
  },
  {
   "cell_type": "markdown",
   "id": "93ee5f13",
   "metadata": {},
   "source": [
    "Time to invoke the agent"
   ]
  },
  {
   "cell_type": "code",
   "execution_count": null,
   "id": "0d37b931-419e-4078-94f9-d2f1740f5e6b",
   "metadata": {},
   "outputs": [],
   "source": [
    "import json\n",
    "\n",
    "def print_response_text(invoke_response):\n",
    "    response_bytes=invoke_response['response']\n",
    "    response_strings = [item.decode('utf-8') for item in response_bytes]\n",
    "    # print(response_bytes)\n",
    "    response_combined_string = \"\".join(response_strings)\n",
    "    # print(response_combined_string)\n",
    "    \n",
    "    response_dict = json.loads(response_combined_string)\n",
    "    response_text=response_dict[\"result\"][\"content\"][0][\"text\"]\n",
    "    print(response_text)"
   ]
  },
  {
   "cell_type": "code",
   "execution_count": null,
   "id": "87d063a4",
   "metadata": {},
   "outputs": [],
   "source": [
    "invoke_response = agentcore_runtime.invoke({\"prompt\": \"what is my current outstanding balance for customer id 1234??\"})\n",
    "print_response_text(invoke_response)"
   ]
  },
  {
   "cell_type": "markdown",
   "id": "c5db64c9",
   "metadata": {},
   "source": [
    "## Summary\n",
    "\n",
    "You've successfully deployed a multi-agent mortgage assistant that:\n",
    "\n",
    "- **Routes customers** to appropriate specialists automatically  \n",
    "- **Retrieves real-time data** using  tools  \n",
    "- **Accesses knowledge base** for general mortgage guidance  \n",
    "- **Handles complex queries** requiring multiple agent expertise  \n",
    "\n",
    "\n",
    "\n",
    "## Related Resources\n",
    "\n",
    "- [Bedrock AgentCore Documentation](https://docs.aws.amazon.com/bedrock/)\n",
    "- [Strands Documentation](https://strandsagents.com/latest/documentation/docs/)"
   ]
  }
 ],
 "metadata": {
  "kernelspec": {
   "display_name": "workshop-agentcore",
   "language": "python",
   "name": "python3"
  },
  "language_info": {
   "codemirror_mode": {
    "name": "ipython",
    "version": 3
   },
   "file_extension": ".py",
   "mimetype": "text/x-python",
   "name": "python",
   "nbconvert_exporter": "python",
   "pygments_lexer": "ipython3",
   "version": "3.12.11"
  }
 },
 "nbformat": 4,
 "nbformat_minor": 5
}
