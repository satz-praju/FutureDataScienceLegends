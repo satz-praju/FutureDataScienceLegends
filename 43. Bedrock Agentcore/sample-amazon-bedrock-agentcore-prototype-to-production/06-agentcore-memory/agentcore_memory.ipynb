{
 "cells": [
  {
   "cell_type": "markdown",
   "id": "e51f221a-7119-4241-b072-02c4b37113f5",
   "metadata": {},
   "source": [
    "# Amazon Bedrock AgentCore Memory"
   ]
  },
  {
   "attachments": {},
   "cell_type": "markdown",
   "id": "03703699-5a89-4287-911c-134e18405fd6",
   "metadata": {},
   "source": [
    "## Introduction\n",
    "\n",
    "This notebook demonstrates how to add memory (short-term and long-term) to a multi-agent system built with Strands using AgentCore Memory. \n",
    "\n",
    "What you will learn:\n",
    "\n",
    "* Create a shared memory resource that multiple agents can access\n",
    "* Configure supervisor agent to store user visible conversations to the memory \n",
    "* Configure supervisor agent and sub-agents to retrieve recent conversation history from short-term memory as context\n",
    "* Configure long-term memory strategy and manage data segregation with namespaces\n",
    "* Congiture agent to retrieve user query related long term memory and use it as context\n"
   ]
  },
  {
   "cell_type": "markdown",
   "id": "47e07666-3d05-4bb2-beee-f1144e686a16",
   "metadata": {},
   "source": [
    "## Scenario context\n",
    "\n",
    "In the previous session, you have taken the mortgage assistant built with Strands to Agentcore Runtime, added tools on Agentcore Gateway, authentication and authorisation with Agentcore Idenity. In this session, we continue the journey to make the agent more helpful by adding a memory component using Agentcore Memory."
   ]
  },
  {
   "cell_type": "markdown",
   "id": "f4a5a446-6fe3-4e8c-9aa9-72c190e33648",
   "metadata": {},
   "source": [
    "## Architecture\n",
    "\n",
    "![agentcore_memory_architecture.png](images/agentcore_memory_architecture.png)\n",
    "\n",
    "1. Whenever a user visible conversation is added, whether it is from the user or agent, the conversation will be stored in AgentCore Memory as short-term memory. In Strands `Agents as Tools` setup, all visible conversation will pass through the supervisor agent.\n",
    "2. Whenever an agent starts, it loads the last 3 conversation from short-term memory as context.\n",
    "3. A memory extraction module works asynchronously at the background, and use the defined strategy to turn short-term memory into long-term memory.\n",
    "4. Whenever a user asks a question, the supervisor agent will run a natural language query against the long-term memory and obtain related information as context. "
   ]
  },
  {
   "cell_type": "markdown",
   "id": "e8375253-dac7-4206-841d-1a8fba438cde",
   "metadata": {},
   "source": [
    "## Step 0: Environment Setup"
   ]
  },
  {
   "cell_type": "code",
   "execution_count": null,
   "id": "dab9f13c-ab63-44d3-b2fd-16af68141636",
   "metadata": {},
   "outputs": [],
   "source": [
    "import logging\n",
    "from datetime import datetime\n",
    "import boto3\n",
    "from boto3.session import Session\n",
    "boto_session = Session()\n",
    "region = boto_session.region_name\n",
    "\n",
    "logging.basicConfig(level=logging.INFO, format=\"%(asctime)s - %(levelname)s - %(message)s\", datefmt=\"%Y-%m-%d %H:%M:%S\")\n",
    "logger = logging.getLogger(\"agentcore-memory\")"
   ]
  },
  {
   "cell_type": "markdown",
   "id": "a48f9e01-eb66-4c7f-8b4f-c4e9fa567faa",
   "metadata": {},
   "source": [
    "## Step 1: Create Agentcore Memory Resource\n",
    "First, create Agentcore Memory resource for the mortgage assistant in your AWS account."
   ]
  },
  {
   "cell_type": "code",
   "execution_count": null,
   "id": "a2d98ced-864c-4b4c-9041-288d9e05305d",
   "metadata": {},
   "outputs": [],
   "source": [
    "from bedrock_agentcore.memory import MemoryClient\n",
    "from bedrock_agentcore.memory.constants import StrategyType\n",
    "\n",
    "client = MemoryClient(region_name=region)\n",
    "memory_name = \"mortgage_assistant\"\n",
    "memory_id = None"
   ]
  },
  {
   "cell_type": "code",
   "execution_count": null,
   "id": "66a14f25-bd10-47fc-9bea-c9ef143d9409",
   "metadata": {},
   "outputs": [],
   "source": [
    "# for testing only: if agentcore memory has already been created outside this workshop\n",
    "# memory_id=\"mortgage_assistant_20250817122625-BgMl7M34lQ\""
   ]
  },
  {
   "attachments": {},
   "cell_type": "markdown",
   "id": "32b4b2fe-b289-4d4c-9bd5-0ce8737ca5da",
   "metadata": {},
   "source": [
    "In the following code, we create the Agentcore Memory resource.\n",
    "\n",
    "Notice we create `strategies` here and use the them when creating Agentcore Memory. When `strategies` are provided, Agentcore Memory will use the provided strategies to process short-term memories (conversation histories) and generate long-term memories, such as user facts, user preference or conversation summaries.\n",
    "\n",
    "If Agentcore Memory is created without `strategies`, it only keeps short-term memories (conversation histories). No long-term memories will be generated.\n",
    "\n",
    "The Agentcore Memory resource will take a few minutes to create. "
   ]
  },
  {
   "cell_type": "code",
   "execution_count": null,
   "id": "afff4278-ae48-448b-b48d-77ea7e2177a0",
   "metadata": {},
   "outputs": [],
   "source": [
    "from botocore.exceptions import ClientError\n",
    "\n",
    "try:\n",
    "    print(\"Creating Memory...\")\n",
    "    memory_name = memory_name\n",
    "\n",
    "    # Strategies for long term memory\n",
    "    strategies = [\n",
    "        {\n",
    "            StrategyType.SEMANTIC.value: {\n",
    "                \"name\": \"fact_extractor\",\n",
    "                \"description\": \"Extracts and stores factual information\",\n",
    "                \"namespaces\": [\"mortgage_assistant/{actorId}/facts\"],\n",
    "            },\n",
    "        },\n",
    "        {\n",
    "            StrategyType.SUMMARY.value: {\n",
    "                \"name\": \"conversation_summary\",\n",
    "                \"description\": \"Captures summaries of conversations\",\n",
    "                \"namespaces\": [\"mortgage_assistant/{actorId}/{sessionId}\"],\n",
    "            },\n",
    "        },\n",
    "        {\n",
    "            StrategyType.USER_PREFERENCE.value: {\n",
    "                \"name\": \"user_preferences\",\n",
    "                \"description\": \"Captures user preferences and settings\",\n",
    "                \"namespaces\": [\"mortgage_assistant/{actorId}/preferences\"],\n",
    "            },\n",
    "        },\n",
    "    ]\n",
    "\n",
    "    # Create the memory resource\n",
    "    memory = client.create_memory_and_wait(\n",
    "        name=memory_name,                       # Unique name for this memory store\n",
    "        description=\"Mortgage Assistant Memory\", # Human-readable description\n",
    "        strategies=strategies,                  # Strategies is for long term memory. For short term memory only, pass in an empty array \n",
    "        event_expiry_days=7,                    # Memories expire after 7 days\n",
    "        max_wait=300,                           # Maximum time to wait for memory creation (5 minutes)\n",
    "        poll_interval=10                        # Check status every 10 seconds\n",
    "    )\n",
    "\n",
    "    # Extract and print the memory ID\n",
    "    memory_id = memory['id']\n",
    "    print(f\"Memory created successfully with ID: {memory_id}\")\n",
    "except ClientError as e:\n",
    "    if e.response['Error']['Code'] == 'ValidationException' and \"already exists\" in str(e):\n",
    "        # If memory already exists, retrieve its ID\n",
    "        memories = client.list_memories()\n",
    "        memory_id = next((m['id'] for m in memories if m['id'].startswith(memory_name)), None)\n",
    "        logger.info(f\"Memory already exists. Using existing memory ID: {memory_id}\")\n",
    "except Exception as e:\n",
    "    # Handle any errors during memory creation\n",
    "    print(f\"❌ ERROR: {e}\")\n",
    "    import traceback\n",
    "    traceback.print_exc()\n",
    "\n",
    "    # Cleanup on error - delete the memory if it was partially created\n",
    "    if memory_id:\n",
    "        try:\n",
    "            client.delete_memory_and_wait(memory_id=memory_id)\n",
    "            logger.info(f\"Cleaned up memory: {memory_id}\")\n",
    "        except Exception as cleanup_error:\n",
    "            logger.info(f\"Failed to clean up memory: {cleanup_error}\")"
   ]
  },
  {
   "cell_type": "markdown",
   "id": "88aa34a8-e7fe-4229-a0b6-7f4669349af5",
   "metadata": {},
   "source": [
    "Now the agentcore memory is created. You can go to your AWS Console -> Amazon Bedrock Agentcore -> Memory to see the resource. \n",
    "\n",
    "Please note, `memory_id` will be used in most API calls to store/retrieve memory. We will store the memory ID in System Manager Parameter Store, so our Agentcore Runtime can fetch this memory ID at runtime to access the Agentcore Memory we created."
   ]
  },
  {
   "cell_type": "code",
   "execution_count": null,
   "id": "b8525bd8-06f1-4919-a131-e024a7d78228",
   "metadata": {},
   "outputs": [],
   "source": [
    "ssm = boto3.client(\"ssm\")\n",
    "param_name = \"/app/mortgage_assistant/agentcore/memory_id\"\n",
    "\n",
    "def store_memory_id_in_ssm(param_name: str, memory_id: str):\n",
    "    ssm.put_parameter(Name=param_name, Value=memory_id, Type=\"String\", Overwrite=True)\n",
    "    print(f\"Stored memory_id in SSM: {param_name}\")"
   ]
  },
  {
   "cell_type": "code",
   "execution_count": null,
   "id": "175f3d6f-0766-4990-9188-13130841d0e5",
   "metadata": {},
   "outputs": [],
   "source": [
    "store_memory_id_in_ssm(param_name, memory_id)"
   ]
  },
  {
   "cell_type": "markdown",
   "id": "6bf27fc5-58f9-4323-9b14-ad3304ca8df7",
   "metadata": {},
   "source": [
    "## Step 2: Create Memory Hook Providers\n",
    "Here we create classes for memory hooks. We tap into Strands agents native lifecycle events. In the relevant lifecycle events, we retrieve/store conversations. For more information about Strands agent's lifecycle events, please check [documentation on Strands Hooks](https://strandsagents.com/latest/documentation/docs/api-reference/hooks/).\n",
    "\n",
    "The following code will be written into a python file `mortgage_agent_memory_hook.py`, which will be imported and used by the `mortgage_agent_runtime_with_memory.py` to create memory hook at runtime.\n",
    "\n",
    "A few key points in the code.\n",
    "1. Both `MortgageAssistantSupervisorMemoryHook` and `MortgageAssistantSubAgentMemoryHook` class override `on_message_added` method. \n",
    "2. In `on_message_added` overriden by `MortgageAssistantSupervisorMemoryHook`, we call `process_saving_message()` to save a message (if it is a user visiable message). We also call `process_long_term_memory_retrieval()` to retrieve long-term memories that is related to user queries.\n",
    "3. In `on_message_added` overriden by `MortgageAssistantSubAgentMemoryHook`, we choose NOT to call `process_saving_message()` as the user messages are repeated, and are already saved by supervisor agent. Sub-agents can also generate internal messages, which supervisor agent may overwrite. So in this project, it is better to leave the responsibility of saving messages to the supervisor agent. Secondly, we don't need to retrieve long term memory again, because the supervisor agent has already done so and will pass that context to the sub-agents. In our implementation, we simply print out the message passed over from the supervisor agent in the log."
   ]
  },
  {
   "cell_type": "code",
   "execution_count": null,
   "id": "222f4472-aa85-46a6-bd42-c4e31f795fef",
   "metadata": {},
   "outputs": [],
   "source": [
    "%%writefile mortgage_agent_memory_hook.py\n",
    "from strands.hooks import AgentInitializedEvent, HookProvider, HookRegistry, MessageAddedEvent\n",
    "from bedrock_agentcore.memory import MemoryClient\n",
    "import logging\n",
    "\n",
    "logging.basicConfig(level=logging.INFO, format=\"%(asctime)s - %(levelname)s - %(message)s\", datefmt=\"%Y-%m-%d %H:%M:%S\")\n",
    "logger = logging.getLogger(\"agentcore-memory\")\n",
    "\n",
    "\n",
    "class MortgageAssistantMemoryHookAbstract(HookProvider):\n",
    "    \"\"\"An abstract class extending Strands provided HookProvider class. \n",
    "\n",
    "        This class should be extended and on_message_added() should be overriden to customise memory related behaviors\n",
    "    \"\"\"\n",
    "    def __init__(self, agent_name: str, memory_client: MemoryClient, memory_id: str, actor_id: str, session_id: str):\n",
    "        self.agent_name = agent_name\n",
    "        self.memory_client = memory_client\n",
    "        self.memory_id = memory_id\n",
    "        self.actor_id = actor_id\n",
    "        self.session_id = session_id\n",
    "\n",
    "    def register_hooks(self, registry: HookRegistry) -> None:\n",
    "        \"\"\"Register memory hooks\"\"\"\n",
    "        registry.add_callback(MessageAddedEvent, self.on_message_added)\n",
    "        registry.add_callback(AgentInitializedEvent, self.on_agent_initialized)\n",
    "        \n",
    "    def on_agent_initialized(self, event: AgentInitializedEvent):\n",
    "        \"\"\"Load recent conversation history when agent starts\"\"\"\n",
    "        logger.info(f\"[{self.__class__.__name__}] - {self.agent_name} - AgentInitializedEvent\")\n",
    "        logger.info(event)\n",
    "        \n",
    "        short_term_context = self.get_short_term_context()\n",
    "        event.agent.system_prompt += short_term_context\n",
    "        logger.info(f\"[{self.__class__.__name__}] - {self.agent_name} - Short term context added to system prompt:\")\n",
    "        logger.info(f\"[{self.__class__.__name__}] - {self.agent_name} - System_prompt: {event.agent.system_prompt}\")\n",
    "\n",
    "    def on_message_added(self, event: MessageAddedEvent):\n",
    "        pass\n",
    "\n",
    "    def process_saving_message(self, messages):\n",
    "        # if the message does not have meaningful to store, skip \n",
    "        if \"text\" not in messages[-1][\"content\"][0].keys():\n",
    "            logger.info(f\"[{self.__class__.__name__}] - {self.agent_name} - Skipping creating memory record as this is no \\\"text\\\" in this message\")\n",
    "            return\n",
    "\n",
    "        messages_to_store = [(messages[-1][\"content\"][0][\"text\"], messages[-1][\"role\"])]\n",
    "        logger.info(f\"[{self.__class__.__name__}] - {self.agent_name} - Creating a memory record\")\n",
    "        self.save_messages_to_memory(messages_to_store)\n",
    "\n",
    "    def process_long_term_memory_retrieval(self, messages):\n",
    "        # for a user query, find corresponding long term context, and add it to the message as context\n",
    "        if messages[-1][\"role\"] == \"user\" and \"toolResult\" not in messages[-1][\"content\"][0]:\n",
    "            logger.info(f\"[{self.__class__.__name__}] - {self.agent_name} - fetching long term memory as context\")\n",
    "            user_query = messages[-1][\"content\"][0][\"text\"]\n",
    "            long_term_context = self.get_long_term_context(user_query)\n",
    "            messages[-1][\"content\"][0][\"text\"] = (\n",
    "                f\"Customer Context:\\n{long_term_context}\\n\\n{user_query}\"\n",
    "            )\n",
    "            logger.info(f\"[{self.__class__.__name__}] - {self.agent_name} - long term context added to message:\")\n",
    "            logger.info(f\"[{self.__class__.__name__}] - {self.agent_name} - {messages[-1][\"content\"][0][\"text\"]}\")\n",
    "        \n",
    "    def save_messages_to_memory(self, messages_to_store):\n",
    "        logger.info(f\"[{self.__class__.__name__}] - {self.agent_name} - message to store: {messages_to_store}\")\n",
    "        logger.info(f\"[{self.__class__.__name__}] - {self.agent_name} - Creating a memery record using create_event\")\n",
    "        logger.info(f\"[{self.__class__.__name__}] - {self.agent_name} - memory_id: {self.memory_id}\")\n",
    "        logger.info(f\"[{self.__class__.__name__}] - {self.agent_name} - actor_id: {self.actor_id}\")\n",
    "        logger.info(f\"[{self.__class__.__name__}] - {self.agent_name} - session_id: {self.session_id}\")\n",
    "        \n",
    "        try:\n",
    "            self.memory_client.create_event(\n",
    "                memory_id=self.memory_id,\n",
    "                actor_id=self.actor_id,\n",
    "                session_id=self.session_id,\n",
    "                messages=messages_to_store\n",
    "            )\n",
    "            logger.info(f\"[{self.__class__.__name__}] - {self.agent_name} - memory record created\")\n",
    "\n",
    "        except Exception as e:\n",
    "            logger.error(f\"[{self.__class__.__name__}] - {self.agent_name} - Failed to store message: {e}\")\n",
    "            logger.error(f\"[{self.__class__.__name__}] - {self.agent_name} - Error occurred: {str(e)}\")\n",
    "\n",
    "    def get_long_term_context(self, user_query):\n",
    "        long_term_context = \"\"\n",
    "        try:\n",
    "            # Retrieve customer facts and preference\n",
    "            long_term_context_list = []\n",
    "            \n",
    "            namespaces_to_query = [f\"mortgage_assistant/{self.actor_id}/facts\", \n",
    "                                f\"mortgage_assistant/{self.actor_id}/preferences\"]\n",
    "            for namespace in namespaces_to_query:\n",
    "                logger.info(f\"[{self.__class__.__name__}] - {self.agent_name} - get_long_term_context() | namespaces: {namespace}\")\n",
    "                \n",
    "                memories = self.memory_client.retrieve_memories(\n",
    "                    memory_id=self.memory_id,\n",
    "                    namespace=namespace.format(actorId=self.actor_id),\n",
    "                    query=user_query,\n",
    "                    top_k=3\n",
    "                )\n",
    "                \n",
    "                for memory in memories:\n",
    "                    if isinstance(memory, dict):\n",
    "                        content = memory.get('content', {})\n",
    "                        if isinstance(content, dict):\n",
    "                            text = content.get('text', '').strip()\n",
    "                            if text:\n",
    "                                long_term_context_list.append(text)\n",
    "            \n",
    "            # Inject customer context into the query\n",
    "            if long_term_context_list:\n",
    "                long_term_context = \"\\n\".join(long_term_context_list)\n",
    "                logger.info(f\"Retrieved {len(long_term_context_list)} customer context records\")\n",
    "                \n",
    "        except Exception as e:\n",
    "            logger.error(f\"Failed to retrieve long term memory: {e}\")\n",
    "            \n",
    "        return long_term_context\n",
    "        \n",
    "    def get_short_term_context(self):\n",
    "        short_term_context = \"\"\n",
    "        try:\n",
    "            # Get last 5 conversation turns\n",
    "            recent_turns = self.memory_client.get_last_k_turns(\n",
    "                memory_id=self.memory_id,\n",
    "                actor_id=self.actor_id,\n",
    "                session_id=self.session_id,\n",
    "                k=5,\n",
    "                branch_name=\"main\"\n",
    "            )\n",
    "\n",
    "            if recent_turns:\n",
    "                # Format conversation history for context\n",
    "                context_messages = []\n",
    "                for turn in recent_turns:\n",
    "                    for message in turn:\n",
    "                        role = message['role'].lower()\n",
    "                        content = message['content']['text']\n",
    "                        context_messages.append(f\"{role.title()}: {content}\")\n",
    "\n",
    "                context = \"\\n\".join(context_messages)\n",
    "                short_term_context = f\"\\n\\nRecent conversation history:\\n{context}\\n\\nContinue the conversation naturally based on this context.\"\n",
    "            \n",
    "                logger.info(f\"[{self.__class__.__name__}] - {self.agent_name} - ✅ Loaded {len(recent_turns)} recent conversation turns\")\n",
    "                # logger.info(f\"[{self.__class__.__name__}] - {self.agent_name} - short_term_context: {context}\")\n",
    "            else:\n",
    "                logger.info(f\"[{self.__class__.__name__}] - {self.agent_name} - No previous conversation history found\")\n",
    "\n",
    "        except Exception as e:\n",
    "            logger.error(f\"[{self.__class__.__name__}] - {self.agent_name} - Failed to load conversation history: {e}\")\n",
    "        \n",
    "        return short_term_context\n",
    "    \n",
    "\n",
    "class MortgageAssistantSupervisorMemoryHook(MortgageAssistantMemoryHookAbstract):\n",
    "    \"\"\"Memory hook for supervisor agents in Strands, where all user visible messages will pass through.\n",
    "    \n",
    "        This class overriding on_message_added method to \n",
    "        1. save the message to agentcore memory\n",
    "        2. retrieve long-term memory related to the user query\n",
    "    \"\"\"\n",
    "    def on_message_added(self, event: MessageAddedEvent):\n",
    "        logger.info(f\"[{self.__class__.__name__}] - {self.agent_name} - MessageAddedEvent\")\n",
    "        messages = event.agent.messages\n",
    "        self.process_saving_message(messages)\n",
    "        self.process_long_term_memory_retrieval(messages)\n",
    "\n",
    "\n",
    "class MortgageAssistantSubAgentMemoryHook(MortgageAssistantMemoryHookAbstract):\n",
    "    \"\"\"Memory hook for sub-agents in Strands, where user messages are repeated, and agent messages\n",
    "        could be overwritten by the supervisor agent. \n",
    "    \n",
    "        This class overriding on_message_added method to retrieve long-term memory related to the user query\n",
    "    \"\"\"\n",
    "    def on_message_added(self, event: MessageAddedEvent):\n",
    "        logger.info(f\"[{self.__class__.__name__}] - {self.agent_name} - MessageAddedEvent\")\n",
    "        messages = event.agent.messages\n",
    "        logger.info(f\"[{self.__class__.__name__}] - {self.agent_name} - messages: {messages}\")\n"
   ]
  },
  {
   "cell_type": "markdown",
   "id": "9013020a-84b4-47ec-99b2-7c2794bf4fdf",
   "metadata": {},
   "source": [
    "## Step 3: Create Multi-Agent Architecture with Strands Agents\n",
    "Now we can re-create the Agentcore Runtime for the Strands agents as you have done in the last few labs. The execution role for Agentcore Runtime needs access to the Agentcore Memory, and the System Manager Parameter Store to access the Memory ID. This is handled for you in this lab through a project-wide util function."
   ]
  },
  {
   "cell_type": "code",
   "execution_count": null,
   "id": "983a7f05-a441-4465-9fb1-e5a2c4492fc0",
   "metadata": {},
   "outputs": [],
   "source": [
    "from utils import create_agentcore_role\n",
    "\n",
    "agent_name=\"mortgage_assistant\"\n",
    "agentcore_iam_role = create_agentcore_role(agent_name=agent_name)"
   ]
  },
  {
   "cell_type": "markdown",
   "id": "b3d7a3ac-9dc9-4b2e-963f-40deaeec9cd7",
   "metadata": {},
   "source": [
    "Now we can configure the Agentcore Runtime. "
   ]
  },
  {
   "cell_type": "code",
   "execution_count": null,
   "id": "a7382958",
   "metadata": {},
   "outputs": [],
   "source": [
    "from bedrock_agentcore_starter_toolkit import Runtime\n",
    "from boto3.session import Session\n",
    "\n",
    "agentcore_runtime = Runtime()\n",
    "agent_name = \"mortage_assistant_with_memory\"\n",
    "response = agentcore_runtime.configure(\n",
    "    entrypoint=\"mortgage_agent_runtime_with_memory.py\",\n",
    "    execution_role=agentcore_iam_role['Role']['Arn'],\n",
    "    auto_create_ecr=True,\n",
    "    requirements_file=\"requirements.txt\",\n",
    "    region=region,\n",
    "    agent_name=agent_name\n",
    ")\n",
    "response"
   ]
  },
  {
   "cell_type": "markdown",
   "id": "3e2a8579",
   "metadata": {},
   "source": [
    "Now we will launch the AgentCore Runtime resource in your AWS account. It will take a few minutes as the docker image is built in Code Build and deployed to Agentcore Runtime."
   ]
  },
  {
   "cell_type": "code",
   "execution_count": null,
   "id": "d3f0111a",
   "metadata": {
    "scrolled": true
   },
   "outputs": [],
   "source": [
    "launch_result = agentcore_runtime.launch(auto_update_on_conflict=True)"
   ]
  },
  {
   "cell_type": "markdown",
   "id": "9a17e76a-904f-4422-a1fc-0f4e71bc774c",
   "metadata": {},
   "source": [
    "Now you can see the Agentcore Runtime resource in your AWS account in Amazon Bedrock Agentcore -> Agent Runtime. But it won't be ready until the status is changed to `READY`\n",
    "\n",
    "As usual, we check the status of agentcore runtime until it is ready."
   ]
  },
  {
   "cell_type": "code",
   "execution_count": null,
   "id": "8c7dcebb",
   "metadata": {},
   "outputs": [],
   "source": [
    "import time\n",
    "status_response = agentcore_runtime.status()\n",
    "status = status_response.endpoint['status']\n",
    "end_status = ['READY', 'CREATE_FAILED', 'DELETE_FAILED', 'UPDATE_FAILED']\n",
    "while status not in end_status:\n",
    "    time.sleep(10)\n",
    "    status_response = agentcore_runtime.status()\n",
    "    status = status_response.endpoint['status']\n",
    "    print(status)\n",
    "print(status)"
   ]
  },
  {
   "cell_type": "markdown",
   "id": "c74748af-13e1-43e5-a101-538bcef6410d",
   "metadata": {},
   "source": [
    "Once the status is shown as `READY`, the Agentcore Runtime is ready to be invoked."
   ]
  },
  {
   "cell_type": "markdown",
   "id": "2e36b5bc-27a9-4aee-aa5d-faf6edf03410",
   "metadata": {},
   "source": [
    "## Step 4: Invoke the deployed agent"
   ]
  },
  {
   "cell_type": "markdown",
   "id": "98c4ed46-e513-4a73-978c-9e411458a6b2",
   "metadata": {},
   "source": [
    "First, let's create a `user_id` and `session_id` for testing. We also create `user_id_for_testing_no_memory` and `session_id_for_testing_no_memory` to test memory isolation. "
   ]
  },
  {
   "cell_type": "code",
   "execution_count": null,
   "id": "23bdcd13-f862-4919-b215-6706e3175a57",
   "metadata": {
    "scrolled": true
   },
   "outputs": [],
   "source": [
    "import uuid\n",
    "\n",
    "# An randomly generated fictional user ID. \n",
    "# In a real system, replace this with a real user ID in your system\n",
    "user_id=str(uuid.uuid4())\n",
    "user_id_for_testing_no_memory=str(uuid.uuid4())\n",
    "\n",
    "session_id = str(uuid.uuid4())\n",
    "session_id_for_testing_no_memory = str(uuid.uuid4())\n",
    "\n",
    "print(f\"user_id: {user_id}\")\n",
    "print(f\"user_id_for_testing_no_memory: {user_id_for_testing_no_memory}\")\n",
    "print(f\"session_id: {session_id}\")\n",
    "print(f\"session_id_for_testing_no_memory: {session_id_for_testing_no_memory}\")"
   ]
  },
  {
   "cell_type": "markdown",
   "id": "65ce81d9-ed3d-4902-b99c-8ae8be2c8aa1",
   "metadata": {},
   "source": [
    "We create a convenient method for printing the reponse messages nicely."
   ]
  },
  {
   "cell_type": "code",
   "execution_count": null,
   "id": "7faa5f09-76ca-4210-a5d8-ef7be754d936",
   "metadata": {},
   "outputs": [],
   "source": [
    "def print_response_text(invoke_response):\n",
    "    response_bytes=invoke_response['response']\n",
    "    response_strings = [item.decode('utf-8') for item in response_bytes]\n",
    "    # print(response_bytes)\n",
    "    response_combined_string = \"\".join(response_strings)\n",
    "    # print(response_combined_string)\n",
    "    \n",
    "    response_dict = json.loads(response_combined_string)\n",
    "    response_text=response_dict[\"result\"][\"content\"][0][\"text\"]\n",
    "    print(response_text)"
   ]
  },
  {
   "cell_type": "code",
   "execution_count": null,
   "id": "95c2f849-80fc-41ee-84f1-3855e7c0a2aa",
   "metadata": {},
   "outputs": [],
   "source": [
    "sample_prompt_1 = \"Hey I am John. I'd like to check my existing home loan. My customer id is ABC-123\"\n",
    "sample_prompt_2 = \"We are planning to upsize. We are shopping around to see what is avaialble?\"\n",
    "sample_prompt_3 = \"Do do banks decide how much it can lend me?\"\n",
    "sample_prompt_4 = \"What is the difference between standard variable and fixed rate\"\n",
    "sample_prompt_5 = \"What is interest only vs principal and interest?\""
   ]
  },
  {
   "cell_type": "markdown",
   "id": "1965f1a1-19e6-4b3a-b747-d5385faf54c5",
   "metadata": {},
   "source": [
    "Now we call the agent a few times. "
   ]
  },
  {
   "cell_type": "code",
   "execution_count": null,
   "id": "87d063a4",
   "metadata": {
    "scrolled": true
   },
   "outputs": [],
   "source": [
    "import pprint\n",
    "import json\n",
    "\n",
    "invoke_response = agentcore_runtime.invoke({\n",
    "    \"prompt\": sample_prompt_1,\n",
    "    \"user_id\": user_id\n",
    "}, session_id=session_id)\n",
    "# pprint.pprint(invoke_response, width=80, depth=None)\n",
    "print_response_text(invoke_response)"
   ]
  },
  {
   "cell_type": "code",
   "execution_count": null,
   "id": "a612cac1-b7bb-42d5-94df-c4d08cf76aee",
   "metadata": {
    "scrolled": true
   },
   "outputs": [],
   "source": [
    "invoke_response = agentcore_runtime.invoke({\n",
    "    \"prompt\": sample_prompt_2,\n",
    "    \"user_id\": user_id\n",
    "}, session_id=session_id)\n",
    "print_response_text(invoke_response)"
   ]
  },
  {
   "cell_type": "code",
   "execution_count": null,
   "id": "d90a2340-2c4f-4427-8803-26e654b434af",
   "metadata": {
    "scrolled": true
   },
   "outputs": [],
   "source": [
    "invoke_response = agentcore_runtime.invoke({\n",
    "    \"prompt\": sample_prompt_3,\n",
    "    \"user_id\": user_id\n",
    "}, session_id=session_id)\n",
    "print_response_text(invoke_response)"
   ]
  },
  {
   "cell_type": "code",
   "execution_count": null,
   "id": "50a4301b-6371-459e-92ac-91e12b009515",
   "metadata": {},
   "outputs": [],
   "source": [
    "invoke_response = agentcore_runtime.invoke({\n",
    "    \"prompt\": sample_prompt_4,\n",
    "    \"user_id\": user_id\n",
    "}, session_id=session_id)\n",
    "print_response_text(invoke_response)"
   ]
  },
  {
   "cell_type": "markdown",
   "id": "ce04995d-7d0e-4a65-864a-706c0ea5c598",
   "metadata": {},
   "source": [
    "## Step 4: Check memory\n",
    "\n",
    "After calling the agents a few times, we can now check the memory. We use two ways to check the memory.\n",
    "\n",
    "1. We will check the memory with the user_id and session_id with Bedrock API. This allows us to check the stored short-term and long-term memory.\n",
    "2. We will check the CloudWatch log to see the exact memory operations at the lifecycle events in supervisor and sub-agents. This helps us to adapt our memory management to suit our use case."
   ]
  },
  {
   "cell_type": "markdown",
   "id": "599cc1fe-e026-498c-8ebd-165244bd1afa",
   "metadata": {},
   "source": [
    "### 4.1 Check short-term memory\n",
    "First, we create a convenient method for listing out the last K conversation turns from the short-term memory."
   ]
  },
  {
   "cell_type": "code",
   "execution_count": null,
   "id": "6d4fea6b-2ec7-48d6-9280-a94722fbb2d8",
   "metadata": {},
   "outputs": [],
   "source": [
    "# Check what's stored in memory\n",
    "def list_last_k_turns(memory_id, actor_id, session_id, k):\n",
    "    print(\"=== Memory Contents ===\")\n",
    "    print(f\"actor_id: {actor_id}\")\n",
    "    print(f\"session_id: {session_id}\")\n",
    "    \n",
    "    recent_turns = client.get_last_k_turns(\n",
    "        memory_id=memory_id,\n",
    "        actor_id=actor_id,\n",
    "        session_id=session_id,\n",
    "        k=k # Adjust k to see more or fewer turns\n",
    "        # branch_name=\"main\"\n",
    "    )\n",
    "    \n",
    "    for i, turn in enumerate(recent_turns, 1):\n",
    "        print(f\"Turn {i}:\")\n",
    "        for message in turn:\n",
    "            role = message['role']\n",
    "            content = message['content']['text'][:200] + \" <🖨️ ... omitted for printing only ... 🖨️>\" if len(message['content']['text']) > 200 else message['content']['text']\n",
    "            print(f\"  {role}: {content}\")\n",
    "        print()"
   ]
  },
  {
   "cell_type": "markdown",
   "id": "e90d7c77-58a3-4eb6-a2f4-34afd9fbf7a7",
   "metadata": {},
   "source": [
    "Using a valid `user_id` and `session_id`, we expect to see the recent conversation history."
   ]
  },
  {
   "cell_type": "code",
   "execution_count": null,
   "id": "fdfab4df-debb-4c82-bd3e-b1593c4a0267",
   "metadata": {
    "scrolled": true
   },
   "outputs": [],
   "source": [
    "list_last_k_turns(memory_id, f\"{user_id}\", session_id, 10)"
   ]
  },
  {
   "cell_type": "markdown",
   "id": "7002b8fa-b063-40a4-a538-98e6dacccd89",
   "metadata": {},
   "source": [
    "Next, check the memory with a different user_id `user_id_for_testing_no_memory` which does not exist. We expect to see nothing."
   ]
  },
  {
   "cell_type": "code",
   "execution_count": null,
   "id": "ee200922-225d-40d4-8d5e-4c37fd1f0415",
   "metadata": {},
   "outputs": [],
   "source": [
    "list_last_k_turns(memory_id, f\"{user_id_for_testing_no_memory}-supervisor\", session_id, 10)"
   ]
  },
  {
   "cell_type": "markdown",
   "id": "51c2fe71-a342-4464-b34c-266da1859470",
   "metadata": {},
   "source": [
    "Check the memory with the same `user_id`, but a different session_id `session_id_for_testing_no_memory`. Again, we expect to see NO messages."
   ]
  },
  {
   "cell_type": "code",
   "execution_count": null,
   "id": "7825996c-3af0-4328-9160-fc803510b55f",
   "metadata": {},
   "outputs": [],
   "source": [
    "list_last_k_turns(memory_id, f\"{user_id}\", session_id_for_testing_no_memory, 10)"
   ]
  },
  {
   "attachments": {},
   "cell_type": "markdown",
   "id": "d1380ef2-3a3a-4b8a-a160-73d2ffa7e11a",
   "metadata": {},
   "source": [
    "#### CloudWatch Log\n",
    "Let's find the the log file in CloudWatch. You should see the short-term memory loaded at `AgentInitializedEvent`. \n",
    "\n",
    "![log-short-term-memory-loaded.png](images/log-short-term-memory-loaded.png)"
   ]
  },
  {
   "attachments": {},
   "cell_type": "markdown",
   "id": "2677ddf7-da7a-4b46-83f9-1596b78a0efe",
   "metadata": {},
   "source": [
    "You should also see at `MessageAddedEvent`, the current conversation is stored to memory.\n",
    "\n",
    "![log-store-memory.png](images/log-store-memory.png)"
   ]
  },
  {
   "cell_type": "markdown",
   "id": "3e66912c-b760-4373-8fa4-22df9408e425",
   "metadata": {},
   "source": [
    "### 4.2 Check long-term memory\n",
    "Again, we will first use `list_memory_records` method to see the long-term memory."
   ]
  },
  {
   "cell_type": "code",
   "execution_count": null,
   "id": "46d9d2ab-b182-49a6-88d8-7e55fe9ac7fa",
   "metadata": {
    "scrolled": true
   },
   "outputs": [],
   "source": [
    "agentcore_client = boto3.client(\"bedrock-agentcore\")\n",
    "\n",
    "print(\"----------\")\n",
    "print(\"Long term memory - facts:\")\n",
    "response_facts = agentcore_client.list_memory_records(\n",
    "    memoryId=memory_id,\n",
    "    namespace=f\"mortgage_assistant/{user_id}/facts\",\n",
    "    maxResults=10\n",
    ")\n",
    "# pprint.pprint(response_facts, width=80, depth=None)\n",
    "for list_memory_record in response_facts[\"memoryRecordSummaries\"]:\n",
    "    print(f\"Content: {list_memory_record['content']['text']}\")\n",
    "print(\"----------\")\n",
    "\n",
    "print(\"Long term memory - preferences:\")\n",
    "response_preferences = agentcore_client.list_memory_records(\n",
    "    memoryId=memory_id,\n",
    "    namespace=f\"mortgage_assistant/{user_id}/preferences\",\n",
    "    maxResults=10\n",
    ")\n",
    "# pprint.pprint(response_preferences, width=80, depth=None)\n",
    "for list_memory_record in response_preferences[\"memoryRecordSummaries\"]:\n",
    "    print(f\"Content: {list_memory_record['content']['text']}\")\n",
    "print(\"----------\")\n",
    "\n",
    "print(\"Long term memory - summary:\")\n",
    "response_summary = agentcore_client.list_memory_records(\n",
    "    memoryId=memory_id,\n",
    "    namespace=f\"mortgage_assistant/{user_id}/{session_id}\",\n",
    "    maxResults=10\n",
    ")\n",
    "# pprint.pprint(response_summary, width=80, depth=None)\n",
    "for list_memory_record in response_summary[\"memoryRecordSummaries\"]:\n",
    "    print(f\"Content: {list_memory_record['content']['text']}\")\n",
    "print(\"----------\")"
   ]
  },
  {
   "cell_type": "markdown",
   "id": "fee8fdae-5bfd-4299-9ea6-54beec3c0288",
   "metadata": {},
   "source": [
    "Alternatively, we can also use `retrieve_memories` method to retrieve long-term memory."
   ]
  },
  {
   "cell_type": "code",
   "execution_count": null,
   "id": "ec77fdf5-2cc8-4933-907d-3df5c59372da",
   "metadata": {},
   "outputs": [],
   "source": [
    "memory_client=MemoryClient(region_name=region)\n",
    "print(\"----------\")\n",
    "print(\"Long term memory - facts:\")\n",
    "facts_memory=memory_client.retrieve_memories(\n",
    "            memory_id=memory_id, namespace=f\"mortgage_assistant/{user_id}/facts\", query=\"all\", top_k=10\n",
    "        )\n",
    "# to see the raw facts memory records\n",
    "# print(facts_memory)\n",
    "# print the content\n",
    "for memory in  facts_memory:\n",
    "    print(memory[\"content\"][\"text\"])\n",
    "\n",
    "print(\"----------\")\n",
    "print(\"Long term memory - preferences:\")\n",
    "prefs_memory=memory_client.retrieve_memories(\n",
    "            memory_id=memory_id, namespace=f\"mortgage_assistant/{user_id}/preferences\", query=\"all\", top_k=10\n",
    "        )\n",
    "# print the content\n",
    "for memory in  prefs_memory:\n",
    "    memory_content = memory[\"content\"][\"text\"]\n",
    "    memory_content_json = json.loads(memory_content)\n",
    "    print(json.dumps(memory_content_json, indent=4))\n",
    "\n",
    "print(\"----------\")\n",
    "print(\"Long term memory - summaries:\")\n",
    "summaries_memory=memory_client.retrieve_memories(\n",
    "            memory_id=memory_id, namespace=f\"mortgage_assistant/{user_id}/{session_id}\", query=\"all\", top_k=10\n",
    "        )\n",
    "# print the content\n",
    "for memory in  summaries_memory:\n",
    "    print(memory[\"content\"][\"text\"])\n",
    "print(\"----------\")"
   ]
  },
  {
   "attachments": {},
   "cell_type": "markdown",
   "id": "014f54d2-615d-461b-85d1-0f805f2cb14d",
   "metadata": {},
   "source": [
    "#### CloudWatch\n",
    "Let's find the the log file in CloudWatch. You should see the short-term memory loaded at `MessageAddedEvent`.\n",
    "\n",
    "![log-long-term-memory-loaded.png](images/log-long-term-memory-loaded.png)"
   ]
  },
  {
   "cell_type": "markdown",
   "id": "72ee2f6f-43fe-4d54-99d6-6a239ac71cd6",
   "metadata": {},
   "source": [
    "#### 🎉 Congratulation! \n",
    "You have added memory to your multi-agent Mortgage Assistant. \n",
    "\n",
    "Explore more on the Strands agents lifecycle events, experiment with different ways to use Agentcore Memory, and make your AI agent more intelligent!\n",
    "\n",
    "You can now move to the next session."
   ]
  },
  {
   "cell_type": "code",
   "execution_count": null,
   "id": "7147114e-06b4-4050-989b-9c4f7aa460ae",
   "metadata": {},
   "outputs": [],
   "source": []
  }
 ],
 "metadata": {
  "kernelspec": {
   "display_name": "Python 3 (ipykernel)",
   "language": "python",
   "name": "python3"
  },
  "language_info": {
   "codemirror_mode": {
    "name": "ipython",
    "version": 3
   },
   "file_extension": ".py",
   "mimetype": "text/x-python",
   "name": "python",
   "nbconvert_exporter": "python",
   "pygments_lexer": "ipython3",
   "version": "3.12.11"
  }
 },
 "nbformat": 4,
 "nbformat_minor": 5
}
