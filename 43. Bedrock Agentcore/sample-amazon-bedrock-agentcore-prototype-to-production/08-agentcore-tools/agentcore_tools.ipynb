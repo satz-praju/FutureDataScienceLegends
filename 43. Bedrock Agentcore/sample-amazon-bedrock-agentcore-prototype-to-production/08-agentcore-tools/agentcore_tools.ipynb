{
 "cells": [
  {
   "cell_type": "markdown",
   "id": "43f3cb3a",
   "metadata": {},
   "source": [
    "### Setup and Configuration\n",
    "\n",
    "Deploying the agent to AgentCore Runtime"
   ]
  },
  {
   "cell_type": "code",
   "execution_count": null,
   "id": "a7382958",
   "metadata": {},
   "outputs": [],
   "source": [
    "from bedrock_agentcore_starter_toolkit import Runtime\n",
    "import boto3\n",
    "import os\n",
    "import random, string\n",
    "\n",
    "session = boto3.Session()\n",
    "region = session.region_name\n",
    "print(f\"current region: {region}\")\n",
    "account_id = session.client(\"sts\").get_caller_identity()[\"Account\"]\n",
    "print(f\"current account: {account_id}\")\n"
   ]
  },
  {
   "cell_type": "markdown",
   "id": "a90a5e48",
   "metadata": {},
   "source": [
    "### Create IAM Execution Role\n",
    "\n",
    "The AgentCore runtime requires an IAM role with specific permissions to:\n",
    "- Access Bedrock models for AI inference\n",
    "- Retrieve from knowledge bases (KB)\n",
    "- Write to CloudWatch logs\n",
    "- Access SSM Parameter for KB ID\n",
    "- Pull/push Docker images to ECR\n",
    "\n",
    "We'll create this role using our predefined policy templates that include all necessary permissions."
   ]
  },
  {
   "cell_type": "code",
   "execution_count": null,
   "id": "ff0d50e0",
   "metadata": {},
   "outputs": [],
   "source": [
    "# Load policy from external file\n",
    "with open('policy.json', 'r') as f:\n",
    "    policy_template = f.read()\n",
    "\n",
    "# load trust policy from external file\n",
    "with open('trust-policy.json', 'r') as f:\n",
    "    trust_policy_template = f.read()\n",
    "\n",
    "policy = policy_template.replace('REGION', region).replace('ACCOUNT_ID', account_id).replace('REPO_ARN', '*')\n",
    "print(f\"Policy loaded and updated with region: {region}, account: {account_id}\")\n",
    "\n",
    "trust_policy = trust_policy_template.replace('REGION', region).replace('ACCOUNT_ID', account_id)\n",
    "\n",
    "# create IAM role using the policies\n",
    "suffix = random.choices(string.ascii_lowercase + string.digits, k=8)\n",
    "iam_client = boto3.client('iam')\n",
    "role_name = f\"bedrock-runtime-execution-role-{''.join(suffix)}\"\n",
    "\n",
    "role = iam_client.create_role(\n",
    "    RoleName=role_name,\n",
    "    AssumeRolePolicyDocument=trust_policy\n",
    ")\n",
    "\n",
    "iam_client.put_role_policy(\n",
    "    RoleName=role_name,\n",
    "    PolicyName='bedrock-runtime-execution-policy',\n",
    "    PolicyDocument=policy\n",
    ")"
   ]
  },
  {
   "cell_type": "markdown",
   "id": "3bbad2ae",
   "metadata": {},
   "source": [
    "### Configure Agent Deployment\n",
    "\n",
    "The `configure()` method sets up the deployment infrastructure:\n",
    "\n",
    "\n",
    "**What happens during configuration:**\n",
    "- Creates ECR repository and IAM role (if needed)\n",
    "- Generates Dockerfile and .dockerignore for containerization\n",
    "- Creates `.bedrock_agentcore.yaml` configuration file"
   ]
  },
  {
   "cell_type": "code",
   "execution_count": null,
   "id": "4a767085",
   "metadata": {},
   "outputs": [],
   "source": [
    "agentcore_runtime = Runtime()\n",
    "agent_name = \"mortgage_assistant\"\n",
    "response = agentcore_runtime.configure(\n",
    "    entrypoint=\"mortgage_agent_runtime_tools.py\",\n",
    "    execution_role=role['Role']['Arn'],\n",
    "    auto_create_ecr=True,\n",
    "    requirements_file=\"requirements.txt\",\n",
    "    region=region,\n",
    "    agent_name=agent_name\n",
    ")"
   ]
  },
  {
   "cell_type": "markdown",
   "id": "3e2a8579",
   "metadata": {},
   "source": [
    "### Launch Agent Runtime\n",
    "\n",
    "The `launch()` method triggers a CodeBuild job that:\n",
    "\n",
    "1. **Pre-build**: Authenticates with ECR registry\n",
    "2. **Build**: Creates ARM64 Docker image with your agent code\n",
    "3. **Post-build**: Pushes image to ECR and creates a Bedrock AgentCore runtime and deploys the agent"
   ]
  },
  {
   "cell_type": "code",
   "execution_count": null,
   "id": "d3f0111a",
   "metadata": {},
   "outputs": [],
   "source": [
    "launch_result = agentcore_runtime.launch(auto_update_on_conflict=True)"
   ]
  },
  {
   "cell_type": "markdown",
   "id": "cb06e3b7",
   "metadata": {},
   "source": [
    "Lets check the status of the agentcore runtime"
   ]
  },
  {
   "cell_type": "code",
   "execution_count": null,
   "id": "8c7dcebb",
   "metadata": {},
   "outputs": [],
   "source": [
    "import time\n",
    "status_response = agentcore_runtime.status()\n",
    "status = status_response.endpoint['status']\n",
    "end_status = ['READY', 'CREATE_FAILED', 'DELETE_FAILED', 'UPDATE_FAILED']\n",
    "while status not in end_status:\n",
    "    time.sleep(10)\n",
    "    status_response = agentcore_runtime.status()\n",
    "    status = status_response.endpoint['status']\n",
    "    print(status)\n",
    "print(status)"
   ]
  },
  {
   "cell_type": "markdown",
   "id": "99adfb3f",
   "metadata": {},
   "source": [
    "Time to invoke the agent"
   ]
  },
  {
   "cell_type": "code",
   "execution_count": null,
   "id": "87d063a4",
   "metadata": {},
   "outputs": [],
   "source": [
    "invoke_response = agentcore_runtime.invoke({\"prompt\": \"I am an existing customer, Here is my id :2445566. How much could I save by switching to fortnightly payments \"})"
   ]
  },
  {
   "cell_type": "markdown",
   "id": "143e3f08",
   "metadata": {},
   "source": [
    "And parse the response message"
   ]
  },
  {
   "cell_type": "code",
   "execution_count": null,
   "id": "92af0807",
   "metadata": {},
   "outputs": [],
   "source": [
    "from IPython.display import Markdown, display\n",
    "import json\n",
    "#  Handle multiple response chunks\n",
    "full_response = b\"\"\n",
    "for chunk in invoke_response['response']:\n",
    "    full_response += chunk\n",
    "\n",
    "response_text = full_response.decode(\"utf-8\")\n",
    "response_data = json.loads(response_text)\n",
    "content = response_data['result']['content'][0]['text']\n",
    "display(Markdown(content))"
   ]
  },
  {
   "cell_type": "markdown",
   "id": "b5a1d811",
   "metadata": {},
   "source": [
    "### Summary\n",
    "You've successfully enhanced your mortgage assistant with AgentCore's built-in Code Interpreter tool:\n",
    "\n",
    "- Executes dynamic Python code in secure sandbox environments\n",
    "- Performs complex mortgage calculations comparing payment strategies\n",
    "- Generates code on-demand based on customer-specific loan parameters\n",
    "- Maintains security through isolated code execution\n",
    "- Provides detailed analysis with formatted currency values and recommendations\n",
    "- Integrates seamlessly with existing Strands agent architecture"
   ]
  }
 ],
 "metadata": {
  "kernelspec": {
   "display_name": "LangGraph Environment",
   "language": "python",
   "name": "langgraph-env"
  },
  "language_info": {
   "codemirror_mode": {
    "name": "ipython",
    "version": 3
   },
   "file_extension": ".py",
   "mimetype": "text/x-python",
   "name": "python",
   "nbconvert_exporter": "python",
   "pygments_lexer": "ipython3",
   "version": "3.12.2"
  }
 },
 "nbformat": 4,
 "nbformat_minor": 5
}
