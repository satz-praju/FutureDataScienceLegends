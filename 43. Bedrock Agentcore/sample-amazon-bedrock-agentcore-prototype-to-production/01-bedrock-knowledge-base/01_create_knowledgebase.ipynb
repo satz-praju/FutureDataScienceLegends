{
 "cells": [
  {
   "cell_type": "markdown",
   "id": "46f3175c",
   "metadata": {},
   "source": [
    "Let's start by creating a [Knowledge Base for Amazon Bedrock](https://aws.amazon.com/bedrock/knowledge-bases/) \n",
    "to provide knowledge about mortgages. In this notebook, we will create a knowledge base using the content available in the mortgage_dataset folder. This knowledge base will be used by Mortgage assistant agent to answer general QnA. "
   ]
  },
  {
   "cell_type": "markdown",
   "id": "f10b7461",
   "metadata": {},
   "source": [
    "Step 1: Install and import the libraries required"
   ]
  },
  {
   "cell_type": "code",
   "execution_count": null,
   "id": "e03e4969",
   "metadata": {},
   "outputs": [],
   "source": [
    "# Dependencies are managed by uv via pyproject.toml\n",
    "# Run 'uv sync' in terminal to install all dependencies\n",
    "# Update the Kernel to pint to the new uv that's created as part of prerequisite\n",
    "print(\"Dependencies installed via uv sync\")"
   ]
  },
  {
   "cell_type": "code",
   "execution_count": null,
   "id": "de079de3-efb6-43bf-beff-cea056850a97",
   "metadata": {},
   "outputs": [],
   "source": [
    "import os\n",
    "import time\n",
    "import boto3\n",
    "import logging\n",
    "import botocore\n",
    "import json\n",
    "from textwrap import dedent\n",
    "\n",
    "%load_ext autoreload\n",
    "%autoreload 2"
   ]
  },
  {
   "cell_type": "markdown",
   "id": "20333837-76b5-4699-8fb3-260829df8098",
   "metadata": {},
   "source": [
    "In the following cell, we add and `knowledge_base_helper` on Python path. This provides functionality for creating the knowledge base if it does not already exists.\n",
    "\n"
   ]
  },
  {
   "cell_type": "code",
   "execution_count": null,
   "id": "560e3292-1e89-4014-bcd4-29241b82c961",
   "metadata": {},
   "outputs": [],
   "source": [
    "import sys\n",
    "sys.path.insert(0, '..') \n",
    "\n",
    "\n",
    "from src.utils.knowledge_base_helper import KnowledgeBasesForAmazonBedrock\n",
    "\n",
    "kb = KnowledgeBasesForAmazonBedrock()"
   ]
  },
  {
   "cell_type": "markdown",
   "id": "ae64d94a",
   "metadata": {},
   "source": [
    "Create boto3 clients"
   ]
  },
  {
   "cell_type": "code",
   "execution_count": null,
   "id": "02ad6143-fde8-4ecf-88a5-ba333d722b35",
   "metadata": {},
   "outputs": [],
   "source": [
    "s3_client = boto3.client('s3')\n",
    "sts_client = boto3.client('sts')\n",
    "bedrock_agent_runtime_client = boto3.client('bedrock-agent-runtime')"
   ]
  },
  {
   "cell_type": "markdown",
   "id": "a93fa5a8",
   "metadata": {},
   "source": [
    "Get the region and bucket name. The bucket will be created if its not present already."
   ]
  },
  {
   "cell_type": "code",
   "execution_count": null,
   "id": "2e79386b-d639-4894-96d1-cb5180e2fc73",
   "metadata": {},
   "outputs": [],
   "source": [
    "region = boto3.session.Session().region_name\n",
    "account_id = sts_client.get_caller_identity()[\"Account\"]\n",
    "suffix = f\"{region}-{account_id}\"\n",
    "bucket_name = f'agentcore-workshop-{suffix}'"
   ]
  },
  {
   "cell_type": "code",
   "execution_count": null,
   "id": "24a281a6-d3b3-4cd4-8ddc-87b46225a8ef",
   "metadata": {},
   "outputs": [],
   "source": [
    "agent_foundation_model = [\"us.anthropic.claude-3-7-sonnet-20250219-v1:0\"]"
   ]
  },
  {
   "cell_type": "markdown",
   "id": "8ec63db8-5b50-46e6-9ace-729b60d240f8",
   "metadata": {},
   "source": [
    "### Create Knowledge Base \n",
    " We will now create the knowledge base with Amazon OpenSearch Serverless as the vector store. To do so, we will use the helper class `KnowledgeBasesForAmazonBedrock` which creates the knowledge base and all of its prerequisites:\n",
    "1. IAM roles and policies\n",
    "2. S3 bucket\n",
    "3. Amazon OpenSearch Serverless encryption, network and data access policies\n",
    "4. Amazon OpenSearch Serverless collection\n",
    "5. Amazon OpenSearch Serverless vector index\n",
    "6. Knowledge Base\n",
    "7. Knowledge Base data source\n",
    "\n",
    "This might take a few minutes, so have a break!"
   ]
  },
  {
   "cell_type": "code",
   "execution_count": null,
   "id": "efaeec57-ef8e-48f1-839e-922250db2f78",
   "metadata": {},
   "outputs": [],
   "source": [
    "knowledge_base_name = \"mortgage-agent-kb-test1\"\n",
    "\n",
    "knowledge_base_description = \"KB containing information on mortgages\""
   ]
  },
  {
   "cell_type": "code",
   "execution_count": null,
   "id": "037d2c4e-9906-4a4d-8188-d22c65448460",
   "metadata": {},
   "outputs": [],
   "source": [
    "%%time\n",
    "kb_id, ds_id = kb.create_or_retrieve_knowledge_base(\n",
    "    knowledge_base_name,\n",
    "    knowledge_base_description,\n",
    "    bucket_name\n",
    ")\n",
    "\n",
    "print(f\"Knowledge Base ID: {kb_id}\")\n",
    "print(f\"Data Source ID: {ds_id}\")\n"
   ]
  },
  {
   "cell_type": "code",
   "execution_count": null,
   "id": "ec0b356b",
   "metadata": {},
   "outputs": [],
   "source": [
    "# function to upload to S3 bucket\n",
    "import boto3\n",
    "\n",
    "def upload_file_to_s3(file_path, bucket_name, object_key=None):\n",
    "    \"\"\"Upload a file to S3 bucket\"\"\"\n",
    "    s3_client = boto3.client('s3')\n",
    "    \n",
    "    # Check if bucket exists, create if not\n",
    "    existing_buckets = [bucket['Name'] for bucket in s3_client.list_buckets()['Buckets']]\n",
    "    if bucket_name not in existing_buckets:\n",
    "        s3_client.create_bucket(Bucket=bucket_name)\n",
    "    \n",
    "    if object_key is None:\n",
    "        object_key = file_path.split('/')[-1]\n",
    "    \n",
    "    s3_client.upload_file(file_path, bucket_name, object_key)\n",
    "    return f\"s3://{bucket_name}/{object_key}\""
   ]
  },
  {
   "cell_type": "code",
   "execution_count": null,
   "id": "63553727",
   "metadata": {},
   "outputs": [],
   "source": [
    "upload_file_to_s3(\"mortgage_dataset/15-Year vs. 30-Year Mortgage What's the Difference .html\", bucket_name,\"15-Year vs. 30-Year Mortgage What's the Difference .html\") "
   ]
  },
  {
   "cell_type": "code",
   "execution_count": null,
   "id": "16c89668-293c-4ddf-ac58-6c9c901c73a7",
   "metadata": {},
   "outputs": [],
   "source": [
    "upload_file_to_s3(\"mortgage_dataset/Mortgage Refinancing When Does It Make Sense .html\", bucket_name,\"Mortgage Refinancing When Does It Make Sense .html\")"
   ]
  },
  {
   "cell_type": "markdown",
   "id": "49496fd1-de36-431e-a7d5-12852844ba03",
   "metadata": {},
   "source": [
    "Now we ingest the documents, which chunks the source documents and stores an embedding for each chunk into the underying knowledge base vector store. For a simple example, this ingestion takes a couple minutes."
   ]
  },
  {
   "cell_type": "code",
   "execution_count": null,
   "id": "870811ef-78f1-41f3-9e8e-0ac0c9462db8",
   "metadata": {},
   "outputs": [],
   "source": [
    "%%time\n",
    "# Start an ingestion job to synchronize data\n",
    "kb.synchronize_data(kb_id, ds_id)\n",
    "print('KB synchronization completed\\n')"
   ]
  },
  {
   "cell_type": "markdown",
   "id": "05a1b88c-e49c-419f-adb9-945e9eb6f5f3",
   "metadata": {},
   "source": [
    "### Test the Knowledge Base\n",
    "Now the Knowledge Base is available we can test it out using the [**retrieve**](https://boto3.amazonaws.com/v1/documentation/api/latest/reference/services/bedrock-agent-runtime/client/retrieve.html) and [**retrieve_and_generate**](https://boto3.amazonaws.com/v1/documentation/api/latest/reference/services/bedrock-agent-runtime/client/retrieve_and_generate.html) functions. \n",
    "\n",
    "#### Testing Knowledge Base with Retrieve and Generate API\n",
    "\n",
    "Let's first test the knowledge base using the retrieve and generate API. With this API, Bedrock takes care of retrieving the necessary references from the knowledge base and generating the final answer using a Bedrock LLM."
   ]
  },
  {
   "cell_type": "code",
   "execution_count": null,
   "id": "69d8093c",
   "metadata": {},
   "outputs": [],
   "source": [
    "f\"arn:aws:bedrock:{region}:{account_id}:inference-profile/{agent_foundation_model[0]}\""
   ]
  },
  {
   "cell_type": "markdown",
   "id": "cec0216a-8b07-4b9f-8760-a0d97c8ac27b",
   "metadata": {},
   "source": [
    "#### Please be aware, the sync operation may take a few minutes to complete. Before the first sync finishes, you will not get an answer when you call `retrieve_and_generate` or `retrieve`. If that is the case, wait a few minutes and try again."
   ]
  },
  {
   "cell_type": "code",
   "execution_count": null,
   "id": "1c99ad63-2f09-46ff-9683-237fa7dffe4d",
   "metadata": {},
   "outputs": [],
   "source": [
    "response = bedrock_agent_runtime_client.retrieve_and_generate(\n",
    "    input={\n",
    "        \"text\": \"compare and contrast 15-year vs 30-year mortgage type\"\n",
    "    },\n",
    "    retrieveAndGenerateConfiguration={\n",
    "        \"type\": \"KNOWLEDGE_BASE\",\n",
    "        \"knowledgeBaseConfiguration\": {\n",
    "            'knowledgeBaseId': kb_id,\n",
    "            \"modelArn\": f\"arn:aws:bedrock:{region}:{account_id}:inference-profile/{agent_foundation_model[0]}\",\n",
    "            \"retrievalConfiguration\": {\n",
    "                \"vectorSearchConfiguration\": {\n",
    "                    \"numberOfResults\":5\n",
    "                } \n",
    "            }\n",
    "        }\n",
    "    }\n",
    ")\n",
    "\n",
    "print(response['output']['text'],end='\\n'*2)"
   ]
  },
  {
   "cell_type": "markdown",
   "id": "e22c732f-37ab-4bd7-92d3-34d01cdd848f",
   "metadata": {},
   "source": [
    "As you can see, with the retrieve and generate API we get the final response directly and we don't see the different sources used to generate this response. Let's now retrieve the source information from the knowledge base with the retrieve API.\n",
    "\n",
    "**Testing Knowledge Base with Retrieve API**\n",
    "\n",
    "If you need an extra layer of control, you can retrieve the chuncks that best match your query using the retrieve API. In this setup, we can configure the desired number of results and control the final answer with your own application logic. The API then provides you with the matching content, its S3 location, the similarity score and the chunk metadata."
   ]
  },
  {
   "cell_type": "code",
   "execution_count": null,
   "id": "4c913eb6-4d29-4479-8426-4e45f1660fb9",
   "metadata": {},
   "outputs": [],
   "source": [
    "response_ret = bedrock_agent_runtime_client.retrieve(\n",
    "    knowledgeBaseId=kb_id, \n",
    "    nextToken='string',\n",
    "    retrievalConfiguration={\n",
    "        \"vectorSearchConfiguration\": {\n",
    "            \"numberOfResults\":3,\n",
    "        } \n",
    "    },\n",
    "    retrievalQuery={\n",
    "        'text': 'What are the cons of a 15-year mortgage?'\n",
    "    }\n",
    ")\n",
    "\n",
    "def response_print(retrieve_resp):\n",
    "    #structure 'retrievalResults': list of contents. Each list has content, location, score, metadata\n",
    "    for num,chunk in enumerate(response_ret['retrievalResults'],1):\n",
    "        print('-----------------------------------------------------------------------------------------')\n",
    "        print(f'Chunk {num}: ',chunk['content']['text'],end='\\n'*2)\n",
    "        print(f'Chunk {num} Location: ',chunk['location'],end='\\n'*2)\n",
    "        print(f'Chunk {num} Score: ',chunk['score'],end='\\n'*2)\n",
    "        print(f'Chunk {num} Metadata: ',chunk['metadata'],end='\\n'*2)\n",
    "\n",
    "response_print(response_ret)"
   ]
  },
  {
   "cell_type": "markdown",
   "id": "cad86a15-cae7-4e7e-88ec-709dbdb22331",
   "metadata": {},
   "source": [
    "Store knowledge base ID and name for subsequent labs"
   ]
  },
  {
   "cell_type": "code",
   "execution_count": null,
   "id": "22575d88",
   "metadata": {},
   "outputs": [],
   "source": [
    "kb_id"
   ]
  },
  {
   "cell_type": "markdown",
   "id": "602637e1",
   "metadata": {},
   "source": [
    "Store the knowledge base id **kb_id** in AWS Parameter Store. It will be accessed in the labs that you will be running."
   ]
  },
  {
   "cell_type": "code",
   "execution_count": null,
   "id": "write-config",
   "metadata": {},
   "outputs": [],
   "source": [
    "\n",
    "param_name = '/app/mortgage_assistant/agentcore/kb_id'\n",
    "\n",
    "ssm = boto3.client(\"ssm\")\n",
    "ssm.put_parameter(Name=param_name, Value=kb_id, Type=\"String\", Overwrite=True)\n",
    "print(f\"Stored {kb_id} in SSM: {param_name}\")"
   ]
  },
  {
   "cell_type": "markdown",
   "id": "9d2c515b",
   "metadata": {},
   "source": [
    "In this lab, we created a knowledge base that will be used by one of the agents to answers queries on mortgage "
   ]
  }
 ],
 "metadata": {
  "kernelspec": {
   "display_name": "workshop-agentcore",
   "language": "python",
   "name": "python3"
  },
  "language_info": {
   "codemirror_mode": {
    "name": "ipython",
    "version": 3
   },
   "file_extension": ".py",
   "mimetype": "text/x-python",
   "name": "python",
   "nbconvert_exporter": "python",
   "pygments_lexer": "ipython3",
   "version": "3.12.11"
  }
 },
 "nbformat": 4,
 "nbformat_minor": 5
}
